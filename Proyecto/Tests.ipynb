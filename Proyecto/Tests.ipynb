{
 "metadata": {
  "name": "",
  "signature": "sha256:7a1cd84ba988934f5ad434c9c47e57a21eb7dabce2f22dfa9ebbe993e799d869"
 },
 "nbformat": 3,
 "nbformat_minor": 0,
 "worksheets": [
  {
   "cells": [
    {
     "cell_type": "heading",
     "level": 1,
     "metadata": {},
     "source": [
      "Tests"
     ]
    },
    {
     "cell_type": "code",
     "collapsed": false,
     "input": [
      "%matplotlib inline\n",
      "from matplotlib.path import Path\n",
      "from random import randint, choice, randrange \n",
      "import numpy as np\n",
      "import matplotlib.pyplot as plt\n",
      "import matplotlib.patches as patches \n",
      "import pylab\n",
      "from SugarScape import *"
     ],
     "language": "python",
     "metadata": {},
     "outputs": [],
     "prompt_number": 3
    },
    {
     "cell_type": "heading",
     "level": 2,
     "metadata": {},
     "source": [
      "Test 1: Basic Functionalities of the Agents"
     ]
    },
    {
     "cell_type": "markdown",
     "metadata": {},
     "source": [
      "This test shows us the basic functionalities of the program.\n",
      "\n",
      "- Agent 0 will follow the best path and hopefully achive enough energy to reproduce at the end\n",
      "- Agent 1 will move randomly trying to find sugar and will likely die at the end."
     ]
    },
    {
     "cell_type": "code",
     "collapsed": false,
     "input": [
      "SS_t1 = World(\"Test_1_\")\n",
      "#Creating the specific Agents\n",
      "t1_a1 = Agent_grid(0, age = 8, energy = 30, position = [30,10], sex = 'H', tribe = 1, vision = 2, metabolism = 2)\n",
      "t1_a2 = Agent_grid(1, energy = 20, metabolism = 5, vision = 1, position = [30, 35], tribe=2, sex = 'H')\n",
      "t1_agents = [t1_a1, t1_a2]\n",
      "\n",
      "#Creating the specific Goods\n",
      "# 1 = Sugar\n",
      "# 2 = Spice\n",
      "t1g0 = Good(id_num = 0, tpe = 1, quantity = 10, position = [29,11])\n",
      "t1g1 = Good(id_num = 1, tpe = 2, quantity = 5, position = [29,9]) #Spice\n",
      "t1g2 = Good(id_num = 2, tpe = 2, quantity = 7, position = [28,9]) #Spice\n",
      "t1g3 = Good(id_num = 3, tpe = 1, quantity = 10, position = [27,10])\n",
      "t1g4 = Good(id_num = 4, tpe = 1, quantity = 10, position = [26,11])\n",
      "t1g5 = Good(id_num = 5, tpe = 1, quantity = 10, position = [25,12])\n",
      "t1g6 = Good(id_num = 6, tpe = 1, quantity = 10, position = [25,10])\n",
      "t1g7 = Good(id_num = 7, tpe = 2, quantity = 10, position = [24,11]) #High carb Spice\n",
      "t1g8 = Good(id_num = 8, tpe = 1, quantity = 10, position = [23,11])\n",
      "t1g9 = Good(id_num = 9, tpe = 1, quantity = 10, position = [22,10])\n",
      "t1g10 = Good(id_num = 10, tpe = 1, quantity = 10, position = [22,9])\n",
      "t1g11 = Good(id_num = 11, tpe = 1, quantity = 10, position = [23,8])\n",
      "t1g12 = Good(id_num = 12, tpe = 1, quantity = 10, position = [24,7])\n",
      "t1g13 = Good(id_num = 13, tpe = 1, quantity = 10, position = [20,9])\n",
      "t1g14 = Good(id_num = 14, tpe = 2, quantity = 3, position = [24,5])\n",
      "t1_testgoods = [t1g0, t1g1, t1g2, t1g3, t1g4, t1g5, t1g6, t1g7, t1g8, t1g9, t1g10, t1g11, t1g12, t1g13, t1g14]\n",
      "SS_t1.place_goods(0, practice_goods = t1_testgoods)\n",
      "\n",
      "#Some information\n",
      "SS_t1.define(t1_agents)\n",
      "SS_t1.gini(t1_agents)\n",
      "SS_t1.history['agents_num'].append(SS_t1._count_agents(t1_agents))\n",
      "SS_t1.history['goods_num'].append(SS_t1._count_agents(SS_t1.goods_list))\n",
      "t1_a1.state(SS_t1, full_state = True, see_world = True)\n",
      "# SS_t1.state(t1_agents)\n",
      "SS_t1.draw()\n",
      "\n",
      "#Running the program for 11 steps\n",
      "n = 11\n",
      "for i in xrange(n):\n",
      "    SS_t1.update_agents(t1_agents)\n",
      "    SS_t1.gini(t1_agents)\n",
      "    SS_t1.history['agents_num'].append(SS_t1._count_agents(t1_agents))\n",
      "#     SS_t1.state(t1_agents)\n",
      "    t1_a1.state(SS_t1, see_world = True)\n",
      "    SS_t1.draw()"
     ],
     "language": "python",
     "metadata": {},
     "outputs": [
      {
       "output_type": "stream",
       "stream": "stdout",
       "text": [
        "Hello, I'm a type 12 agent with ID: 0\n",
        "My stats are as follows:\n",
        "\t Sex: H\n",
        "\t Max_age: 93\n",
        "\t Tribe: 1\n",
        "\t Metabolism: 2\n",
        "\t Vision: 2\n",
        "My current state is: \n",
        "\t Age: 8\n",
        "\t Energy: 30\n",
        "\t Position: [30 10]\n",
        "\t Surroundings: \n",
        "[[  0.   2.   0.   0.   0.]\n",
        " [  0.   2.   0.   1.   0.]\n",
        " [  0.   0.  12.   0.   0.]\n",
        " [  0.   0.   0.   0.   0.]\n",
        " [  0.   0.   0.   0.   0.]]\n",
        "ID: 0"
       ]
      },
      {
       "output_type": "stream",
       "stream": "stdout",
       "text": [
        "\n",
        "\t Age: 9\n",
        "\t Energy: 38\n",
        "\t Position: [29 11]\n",
        "\t Objective: 0\n",
        "\t Surroundings: \n",
        "[[  0.   1.   0.   0.   0.]\n",
        " [  2.   0.   0.   0.   0.]\n",
        " [  2.   0.  12.   0.   0.]\n",
        " [  0.   0.   0.   0.   0.]\n",
        " [  0.   0.   0.   0.   0.]]\n",
        "ID: 0"
       ]
      },
      {
       "output_type": "stream",
       "stream": "stdout",
       "text": [
        "\n",
        "\t Age: 10\n",
        "\t Energy: 44\n",
        "\t Position: [27 10]\n",
        "\t Objective: 3\n",
        "\t Surroundings: \n",
        "[[  0.   0.   1.   0.   1.]\n",
        " [  0.   0.   0.   1.   0.]\n",
        " [  0.   0.  12.   0.   0.]\n",
        " [  0.   2.   0.   0.   0.]\n",
        " [  0.   2.   0.   0.   0.]]\n",
        "ID: 0"
       ]
      },
      {
       "output_type": "stream",
       "stream": "stdout",
       "text": [
        "\n",
        "\t Age: 11\n",
        "\t Energy: 52\n",
        "\t Position: [26 11]\n",
        "\t Objective: 4\n",
        "\t Surroundings: \n",
        "[[  0.   0.   2.   0.   0.]\n",
        " [  0.   1.   0.   1.   0.]\n",
        " [  0.   0.  12.   0.   0.]\n",
        " [  0.   0.   0.   0.   0.]\n",
        " [  2.   0.   0.   0.   0.]]\n",
        "ID: 0"
       ]
      },
      {
       "output_type": "stream",
       "stream": "stdout",
       "text": [
        "\n",
        "\t Age: 12\n",
        "\t Energy: 60\n",
        "\t Position: [25 10]\n",
        "\t Objective: 6\n",
        "\t Surroundings: \n",
        "[[  1.   0.   0.   1.   0.]\n",
        " [  0.   0.   0.   2.   0.]\n",
        " [  0.   0.  12.   0.   1.]\n",
        " [  0.   0.   0.   0.   0.]\n",
        " [  0.   0.   0.   0.   0.]]\n",
        "Agent 1 has died"
       ]
      },
      {
       "output_type": "stream",
       "stream": "stdout",
       "text": [
        "\n",
        "ID: 0\n",
        "\t Age: 13\n",
        "\t Energy: 68\n",
        "\t Position: [24 11]\n",
        "\t Objective: 7\n",
        "\t Surroundings: \n",
        "[[  1.   1.   0.   0.   0.]\n",
        " [  0.   0.   1.   0.   0.]\n",
        " [  0.   0.  12.   0.   0.]\n",
        " [  0.   0.   0.   1.   0.]\n",
        " [  0.   0.   0.   0.   0.]]\n",
        "ID: 0"
       ]
      },
      {
       "output_type": "stream",
       "stream": "stdout",
       "text": [
        "\n",
        "\t Age: 14\n",
        "\t Energy: 76\n",
        "\t Position: [23 11]\n",
        "\t Objective: 8\n",
        "\t Surroundings: \n",
        "[[  0.   0.   0.   0.   0.]\n",
        " [  1.   1.   0.   0.   0.]\n",
        " [  0.   0.  12.   0.   0.]\n",
        " [  0.   0.   0.   0.   0.]\n",
        " [  0.   0.   0.   1.   0.]]\n",
        "ID: 0"
       ]
      },
      {
       "output_type": "stream",
       "stream": "stdout",
       "text": [
        "\n",
        "\t Age: 15\n",
        "\t Energy: 84\n",
        "\t Position: [22 10]\n",
        "\t Objective: 9\n",
        "\t Surroundings: \n",
        "[[  0.   1.   0.   0.   0.]\n",
        " [  0.   0.   0.   0.   0.]\n",
        " [  0.   1.  12.   0.   0.]\n",
        " [  1.   0.   0.   0.   0.]\n",
        " [  0.   0.   0.   0.   0.]]\n",
        "ID: 0"
       ]
      },
      {
       "output_type": "stream",
       "stream": "stdout",
       "text": [
        "\n",
        "\t Age: 16\n",
        "\t Energy: 92\n",
        "\t Position: [22  9]\n",
        "\t Objective: 10\n",
        "\t Surroundings: \n",
        "[[  0.   0.   1.   0.   0.]\n",
        " [  0.   0.   0.   0.   0.]\n",
        " [  0.   0.  12.   0.   0.]\n",
        " [  0.   1.   0.   0.   0.]\n",
        " [  1.   0.   0.   0.   0.]]\n",
        "ID: 0"
       ]
      },
      {
       "output_type": "stream",
       "stream": "stdout",
       "text": [
        "\n",
        "\t Age: 17\n",
        "\t Energy: 100\n",
        "\t Position: [23  8]\n",
        "\t Objective: 11\n",
        "\t Surroundings: \n",
        "[[  0.   0.   0.   0.   0.]\n",
        " [  0.   0.   0.   0.   0.]\n",
        " [  0.   0.  12.   0.   0.]\n",
        " [  0.   1.   0.   0.   0.]\n",
        " [  0.   0.   0.   0.   0.]]\n",
        "Agent 0 divided and created Agent 2"
       ]
      },
      {
       "output_type": "stream",
       "stream": "stdout",
       "text": [
        "\n",
        "ID: 0\n",
        "\t Age: 18\n",
        "\t Energy: 50\n",
        "\t Position: [23  8]\n",
        "\t Objective: None\n",
        "\t Surroundings: \n",
        "[[  0.   0.   0.   0.   0.]\n",
        " [  0.   0.  12.   0.   0.]\n",
        " [  0.   0.  12.   0.   0.]\n",
        " [  0.   1.   0.   0.   0.]\n",
        " [  0.   0.   0.   0.   0.]]\n",
        "ID: 0"
       ]
      },
      {
       "output_type": "stream",
       "stream": "stdout",
       "text": [
        "\n",
        "\t Age: 19\n",
        "\t Energy: 58\n",
        "\t Position: [24  7]\n",
        "\t Objective: 12\n",
        "\t Surroundings: \n",
        "[[  0.   0.   0.   0.   0.]\n",
        " [  0.   0.   0.   0.   0.]\n",
        " [  2.   0.  12.   0.   0.]\n",
        " [  0.   0.   0.   0.   0.]\n",
        " [  0.   0.   0.   0.   0.]]\n"
       ]
      },
      {
       "metadata": {},
       "output_type": "display_data",
       "png": "[encoded data removed]",
       "text": [
        "<matplotlib.figure.Figure at 0x7fc4238d02d0>"
       ]
      },
      {
       "metadata": {},
       "output_type": "display_data",
       "png": "[encoded data removed]",
       "text": [
        "<matplotlib.figure.Figure at 0x7fc422b85b90>"
       ]
      },
      {
       "metadata": {},
       "output_type": "display_data",
       "png": "[encoded data removed]",
       "text": [
        "<matplotlib.figure.Figure at 0x7fc420449390>"
       ]
      },
      {
       "metadata": {},
       "output_type": "display_data",
       "png": "[encoded data removed]",
       "text": [
        "<matplotlib.figure.Figure at 0x7fc422f63390>"
       ]
      },
      {
       "metadata": {},
       "output_type": "display_data",
       "png": "[encoded data removed]",
       "text": [
        "<matplotlib.figure.Figure at 0x7fc42336d8d0>"
       ]
      },
      {
       "metadata": {},
       "output_type": "display_data",
       "png": "[encoded data removed]",
       "text": [
        "<matplotlib.figure.Figure at 0x7fc420acd9d0>"
       ]
      },
      {
       "metadata": {},
       "output_type": "display_data",
       "png": "[encoded data removed]",
       "text": [
        "<matplotlib.figure.Figure at 0x7fc42308dd10>"
       ]
      },
      {
       "metadata": {},
       "output_type": "display_data",
       "png": "[encoded data removed]",
       "text": [
        "<matplotlib.figure.Figure at 0x7fc42303ac50>"
       ]
      },
      {
       "metadata": {},
       "output_type": "display_data",
       "png": "[encoded data removed]",
       "text": [
        "<matplotlib.figure.Figure at 0x7fc422c80250>"
       ]
      },
      {
       "metadata": {},
       "output_type": "display_data",
       "png": "[encoded data removed]",
       "text": [
        "<matplotlib.figure.Figure at 0x7fc4228e5c90>"
       ]
      },
      {
       "metadata": {},
       "output_type": "display_data",
       "png": "[encoded data removed]",
       "text": [
        "<matplotlib.figure.Figure at 0x7fc422151110>"
       ]
      },
      {
       "metadata": {},
       "output_type": "display_data",
       "png": "[encoded data removed]",
       "text": [
        "<matplotlib.figure.Figure at 0x7fc42212cf90>"
       ]
      }
     ],
     "prompt_number": 5
    },
    {
     "cell_type": "heading",
     "level": 2,
     "metadata": {},
     "source": [
      "Test 2: Advanced Functinalities"
     ]
    },
    {
     "cell_type": "markdown",
     "metadata": {},
     "source": [
      "This test will show some of the more advanced functionalities of the agents.\n",
      "\n",
      "- The agents on the left are same tribe and fully mature so they will very likely reproduce\n",
      "- The agents on the right are from diferent tribes so they will very likely trade.\n",
      "- In the bottom only one of the agents is willing to reproduce, so they'll carry on with their lives and maybe reproduce asexually"
     ]
    },
    {
     "cell_type": "code",
     "collapsed": false,
     "input": [
      "SS_t2 = World()\n",
      "\n",
      "#Agents to reproduce\n",
      "t2_a0 = Agent_grid(0, age = 18, energy = 100, position = [16,16], sex = 'H', tribe = 1, vision = 1, metabolism = 2)\n",
      "t2_a1 = Agent_grid(1, age = 18, energy = 100, position = [16,17], sex = 'M', tribe = 1, vision = 1, metabolism = 2)\n",
      "\n",
      "#Agents to trade\n",
      "t2_a2 = Agent_grid(2, age = 18, energy = 50, position = [16,34], sex = 'M', tribe = 2, vision = 1, metabolism = 2)\n",
      "t2_a3 = Agent_grid(3, age = 18, energy = 50, position = [16,35], sex = 'M', tribe = 1, vision = 1, metabolism = 2)\n",
      "\n",
      "#Agents not likely to reproduce\n",
      "t2_a4 = Agent_grid(4, age = 18, energy = 100, position = [35,24], sex = 'H', tribe = 2, vision = 2, metabolism = 2)\n",
      "t2_a5 = Agent_grid(5, age = 17, energy = 100, position = [35,26], sex = 'M', tribe = 2, vision = 1, metabolism = 2)\n",
      "\n",
      "#Previous Steps\n",
      "t2_agents = [t2_a0, t2_a1, t2_a2, t2_a3, t2_a4, t2_a5]\n",
      "SS_t2.define(t2_agents)\n",
      "SS_t2.state(t2_agents, agent_state=True)\n",
      "SS_t2.draw()\n",
      "\n",
      "#Simulation\n",
      "n = 3\n",
      "for i in xrange(n):\n",
      "    SS_t2.update_agents(t2_agents)\n",
      "    SS_t2.state(t2_agents, agent_state=True)\n",
      "    SS_t2.draw()"
     ],
     "language": "python",
     "metadata": {},
     "outputs": []
    },
    {
     "cell_type": "heading",
     "level": 2,
     "metadata": {},
     "source": [
      "Test 3: Masive Simulation"
     ]
    },
    {
     "cell_type": "markdown",
     "metadata": {},
     "source": [
      "In this Test, we throw a massive agent simulation where anyhting can happen. We are interested in the Gini coeficient and the outcome of the simulation."
     ]
    },
    {
     "cell_type": "code",
     "collapsed": false,
     "input": [
      "SS_t3 = World()\n",
      "SS_t3.simulation(steps = 100, agents_num = 100, 500, state = True, draw = True)"
     ],
     "language": "python",
     "metadata": {},
     "outputs": []
    }
   ],
   "metadata": {}
  }
 ]
}