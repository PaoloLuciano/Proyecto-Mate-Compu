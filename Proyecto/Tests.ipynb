{
 "metadata": {
  "name": "",
  "signature": "sha256:98c2cb2f852151ed04f8e7b2540f73a0ae942ae182ad6958d7ae17fdac50845f"
 },
 "nbformat": 3,
 "nbformat_minor": 0,
 "worksheets": [
  {
   "cells": [
    {
     "cell_type": "heading",
     "level": 1,
     "metadata": {},
     "source": [
      "Tests"
     ]
    },
    {
     "cell_type": "code",
     "collapsed": false,
     "input": [
      "#Ayuda por favor :(, no logramos cargar el c\u00f3digo desde fuera."
     ],
     "language": "python",
     "metadata": {},
     "outputs": []
    },
    {
     "cell_type": "heading",
     "level": 2,
     "metadata": {},
     "source": [
      "Test 1: Basic Functionalities of the Agents"
     ]
    },
    {
     "cell_type": "markdown",
     "metadata": {},
     "source": [
      "This test shows us the basic functionalities of the program.\n",
      "\n",
      "- Agent 0 will follow the best path and hopefully achive enough energy to reproduce at the end\n",
      "- Agent 1 will move randomly trying to find sugar and will likely die at the end."
     ]
    },
    {
     "cell_type": "code",
     "collapsed": false,
     "input": [
      "SS_t1 = World()\n",
      "#Creating the specific Agents\n",
      "t1_a1 = Agent_grid(0, age = 8, energy = 30, position = [30,10], sex = 'H', tribe = 1, vision = 2, metabolism = 2)\n",
      "t1_a2 = Agent_grid(1, energy = 20, metabolism = 5, vision = 1, position = [30, 35], tribe=2, sex = 'H')\n",
      "t1_agents = [t1_a1, t1_a2]\n",
      "\n",
      "#Creating the specific Goods\n",
      "# 1 = Sugar\n",
      "# 2 = Spice\n",
      "t1g0 = Good(id_num = 0, tpe = 1, quantity = 10, position = [29,11])\n",
      "t1g1 = Good(id_num = 1, tpe = 2, quantity = 5, position = [29,9]) #Spice\n",
      "t1g2 = Good(id_num = 2, tpe = 2, quantity = 7, position = [28,9]) #Spice\n",
      "t1g3 = Good(id_num = 3, tpe = 1, quantity = 10, position = [27,10])\n",
      "t1g4 = Good(id_num = 4, tpe = 1, quantity = 10, position = [26,11])\n",
      "t1g5 = Good(id_num = 5, tpe = 1, quantity = 10, position = [25,12])\n",
      "t1g6 = Good(id_num = 6, tpe = 1, quantity = 10, position = [25,10])\n",
      "t1g7 = Good(id_num = 7, tpe = 2, quantity = 10, position = [24,11]) #High carb Spice\n",
      "t1g8 = Good(id_num = 8, tpe = 1, quantity = 10, position = [23,11])\n",
      "t1g9 = Good(id_num = 9, tpe = 1, quantity = 10, position = [22,10])\n",
      "t1g10 = Good(id_num = 10, tpe = 1, quantity = 10, position = [22,9])\n",
      "t1g11 = Good(id_num = 11, tpe = 1, quantity = 10, position = [23,8])\n",
      "t1g12 = Good(id_num = 12, tpe = 1, quantity = 10, position = [24,7])\n",
      "t1g13 = Good(id_num = 13, tpe = 1, quantity = 10, position = [20,9])\n",
      "t1g14 = Good(id_num = 14, tpe = 2, quantity = 3, position = [24,5])\n",
      "t1_testgoods = [t1g0, t1g1, t1g2, t1g3, t1g4, t1g5, t1g6, t1g7, t1g8, t1g9, t1g10, t1g11, t1g12, t1g13, t1g14]\n",
      "SS_t1.place_goods(0, practice_goods = t1_testgoods)\n",
      "\n",
      "#Some information\n",
      "SS_t1.define(t1_agents)\n",
      "SS_t1.state(t1_agents)\n",
      "t1_a1.state(SS_t1, full_state = True, see_world = True)\n",
      "SS_t1.draw()\n",
      "\n",
      "#Running the program for 11 steps\n",
      "n = 11\n",
      "for i in xrange(n):\n",
      "    SS_t1.update_agents(t1_agents)\n",
      "    SS_t1.state(t1_agents)\n",
      "    t1_a1.state(SS_t1, see_world = True)\n",
      "    SS_t1.draw()"
     ],
     "language": "python",
     "metadata": {},
     "outputs": [],
     "prompt_number": 1
    },
    {
     "cell_type": "heading",
     "level": 2,
     "metadata": {},
     "source": [
      "Test 2: Advanced Functinalities"
     ]
    },
    {
     "cell_type": "markdown",
     "metadata": {},
     "source": [
      "This test will show some of the more advanced functionalities of the agents.\n",
      "\n",
      "- The agents on the left are same tribe and fully mature so they will very likely reproduce\n",
      "- The agents on the right are from diferent tribes so they will very likely trade.\n",
      "- In the bottom only one of the agents is willing to reproduce, so they'll carry on with their lives and maybe reproduce asexually"
     ]
    },
    {
     "cell_type": "code",
     "collapsed": false,
     "input": [
      "SS_t2 = World()\n",
      "\n",
      "#Agents to reproduce\n",
      "t2_a0 = Agent_grid(0, age = 18, energy = 100, position = [16,16], sex = 'H', tribe = 1, vision = 1, metabolism = 2)\n",
      "t2_a1 = Agent_grid(1, age = 18, energy = 100, position = [16,17], sex = 'M', tribe = 1, vision = 1, metabolism = 2)\n",
      "\n",
      "#Agents to trade\n",
      "t2_a2 = Agent_grid(2, age = 18, energy = 50, position = [16,34], sex = 'M', tribe = 2, vision = 1, metabolism = 2)\n",
      "t2_a3 = Agent_grid(3, age = 18, energy = 50, position = [16,35], sex = 'M', tribe = 1, vision = 1, metabolism = 2)\n",
      "\n",
      "#Agents not likely to reproduce\n",
      "t2_a4 = Agent_grid(4, age = 18, energy = 100, position = [35,24], sex = 'H', tribe = 2, vision = 2, metabolism = 2)\n",
      "t2_a5 = Agent_grid(5, age = 17, energy = 100, position = [35,26], sex = 'M', tribe = 2, vision = 1, metabolism = 2)\n",
      "\n",
      "#Previous Steps\n",
      "t2_agents = [t2_a0, t2_a1, t2_a2, t2_a3, t2_a4, t2_a5]\n",
      "SS_t2.define(t2_agents)\n",
      "SS_t2.state(t2_agents, agent_state=True)\n",
      "SS_t2.draw()\n",
      "\n",
      "#Simulation\n",
      "n = 3\n",
      "for i in xrange(n):\n",
      "    SS_t2.update_agents(t2_agents)\n",
      "    SS_t2.state(t2_agents, agent_state=True)\n",
      "    SS_t2.draw()"
     ],
     "language": "python",
     "metadata": {},
     "outputs": []
    },
    {
     "cell_type": "heading",
     "level": 2,
     "metadata": {},
     "source": [
      "Test 3: Masive Simulation"
     ]
    },
    {
     "cell_type": "markdown",
     "metadata": {},
     "source": [
      "In this Test, we throw a massive agent simulation where anyhting can happen. We are interested in the Gini coeficient and the outcome of the simulation."
     ]
    },
    {
     "cell_type": "code",
     "collapsed": false,
     "input": [
      "SS_t3 = World()\n",
      "t3_agents = [(Agent_grid(i)) for i in xrange(100)]\n",
      "SS_t3.define(t3_agents)\n",
      "SS_t3.place_goods(n = 500)\n",
      "SS_t3.state(t3_agents)\n",
      "SS_t3.draw()\n",
      "\n",
      "n = 100\n",
      "\n",
      "for i in xrange(n): \n",
      "    SS_t3.update_agents(t3_agents)\n",
      "    SS_t3.update_goods(t3_agents)\n",
      "    SS_t3.state(t3_agents)\n",
      "#     SS.gini(agents, plot = True)\n",
      "    SS_t3.draw()"
     ],
     "language": "python",
     "metadata": {},
     "outputs": []
    }
   ],
   "metadata": {}
  }
 ]
}