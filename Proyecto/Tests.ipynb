{
 "metadata": {
  "name": "",
  "signature": "sha256:8acbd02ea7bf27f3739dd9d5d8a3d8a28f33e62c9af645956f6bf22e0c11ca16"
 },
 "nbformat": 3,
 "nbformat_minor": 0,
 "worksheets": [
  {
   "cells": [
    {
     "cell_type": "heading",
     "level": 1,
     "metadata": {},
     "source": [
      "Tests"
     ]
    },
    {
     "cell_type": "code",
     "collapsed": false,
     "input": [
      "#Ayuda por favor :(, no logramos cargar el c\u00f3digo desde fuera."
     ],
     "language": "python",
     "metadata": {},
     "outputs": []
    },
    {
     "cell_type": "heading",
     "level": 2,
     "metadata": {},
     "source": [
      "Test 1: Basic Functionalities of the Agents"
     ]
    },
    {
     "cell_type": "markdown",
     "metadata": {},
     "source": [
      "This test shows us the basic functionalities of the program.\n",
      "\n",
      "- Agent 0 will follow the best path and hopefully achive enough energy to reproduce at the end\n",
      "- Agent 1 will move randomly trying to find sugar and will likely die at the end."
     ]
    },
    {
     "cell_type": "code",
     "collapsed": false,
     "input": [
      "# SS = World()\n",
      "SS = World()\n",
      "doomed_agent = Agent_grid(0,metabolism=5, vision=2, energy = 4, tribe=1)\n",
      "otro =Agent_grid(1, tribe = 2, position=[0,0])\n",
      "agents = [doomed_agent, otro]\n",
      "SS.define(agents)\n",
      "SS.state(agents, agent_state=True)\n",
      "SS.draw()\n",
      "\n",
      "SS.update_agents(agents)\n",
      "SS.state(agents, agent_state=True)\n",
      "SS.draw()\n",
      "\n",
      "SS.update_agents(agents)\n",
      "SS.state(agents, agent_state=True)\n",
      "SS.draw()"
     ],
     "language": "python",
     "metadata": {},
     "outputs": [],
     "prompt_number": 1
    },
    {
     "cell_type": "heading",
     "level": 2,
     "metadata": {},
     "source": [
      "Test 2: Advanced Functinalities"
     ]
    },
    {
     "cell_type": "markdown",
     "metadata": {},
     "source": [
      "This test will show some of the more advanced functionalities of the agents.\n",
      "\n",
      "- The agents on the left are same tribe and fully mature so they will very likely reproduce\n",
      "- The agents on the right are from diferent tribes so they will very likely trade."
     ]
    },
    {
     "cell_type": "heading",
     "level": 2,
     "metadata": {},
     "source": [
      "Test 3: Masive Simulation"
     ]
    },
    {
     "cell_type": "markdown",
     "metadata": {},
     "source": [
      "In this Test, we throw a massive agent simulation where anyhting can happen. We are interested in the Gini coeficient and the outcome of the simulation."
     ]
    },
    {
     "cell_type": "code",
     "collapsed": false,
     "input": [
      "SS = World()\n",
      "agents = [(Agent_grid(i)) for i in xrange(100)]\n",
      "SS.define(agents)\n",
      "SS.place_goods(n = 500)\n",
      "SS.state(agents)\n",
      "SS.draw()\n",
      "\n",
      "steps= 100\n",
      "\n",
      "for i in xrange(1,steps+1): \n",
      "    SS.update_agents(agents)\n",
      "    SS.update_goods(agents)\n",
      "    SS.state(agents)\n",
      "#     SS.gini(agents, plot = True)\n",
      "#     SS.draw()\n",
      "\n",
      "SS.draw()"
     ],
     "language": "python",
     "metadata": {},
     "outputs": []
    }
   ],
   "metadata": {}
  }
 ]
}