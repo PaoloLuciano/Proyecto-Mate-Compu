{
 "metadata": {
  "name": "",
  "signature": "sha256:58baae0cfeb8875d3b57ea99ae42893d639d4a42b722a8fec9521b3d1fb34aa9"
 },
 "nbformat": 3,
 "nbformat_minor": 0,
 "worksheets": [
  {
   "cells": [
    {
     "cell_type": "heading",
     "level": 1,
     "metadata": {},
     "source": [
      "SugarScape"
     ]
    },
    {
     "cell_type": "heading",
     "level": 2,
     "metadata": {},
     "source": [
      "Preamble"
     ]
    },
    {
     "cell_type": "code",
     "collapsed": false,
     "input": [
      "%pylab inline\n",
      "from matplotlib.path import Path\n",
      "from random import randint, choice, randrange \n",
      "from Dibujar import dibujar # en este m\u00f3dulo est\u00e1 la funci\u00f3n para dibujar matrices\n",
      "import numpy as np\n",
      "import matplotlib.pyplot as plt\n",
      "import matplotlib.patches as patches\n",
      "import pylab"
     ],
     "language": "python",
     "metadata": {},
     "outputs": [
      {
       "output_type": "stream",
       "stream": "stdout",
       "text": [
        "Populating the interactive namespace from numpy and matplotlib\n"
       ]
      }
     ],
     "prompt_number": 1
    },
    {
     "cell_type": "heading",
     "level": 2,
     "metadata": {},
     "source": [
      "Agent"
     ]
    },
    {
     "cell_type": "code",
     "collapsed": false,
     "input": [
      "class Agent_grid(object):\n",
      "    \"\"\"Agent with a simple AI that inhabits a 51x51 discrete grid.\n",
      "    \n",
      "    Attributes\n",
      "    -----------\n",
      "    The agent's attributes can be divided in three sets of properties\n",
      "    \n",
      "    1. Intrinsic Characteristics\n",
      "        id_num: Unique integer for each agent that also identifies the agent position in the list.\n",
      "        sex: can be either 'M' for male and 'F' for female.\n",
      "        tribe: int that represents the Agent's tribe.\n",
      "        tpe: int given the Sex and the tribe, the agent is given a type number used for graphic purposes;\n",
      "             it is unique for each combination of Male, Female and tribes.\n",
      "        max_age: int representing the maximum age the agent can live. \n",
      "        metabolism: int between 1 and 5. Represents the rate at which the agent consumes the energy it possesses. \n",
      "                    Each step the agent takes consumes from its energy: (number of squares moved)* metabolism.\n",
      "        vision: int between 1 and 2. Represents how far the agent can see in the grid. \n",
      "        \n",
      "    2. Variables\n",
      "        age: int representing the agents age. It starts from 1 to 10, and each step is one year.\n",
      "        existence: boolean that assures the agent's existence in the world, given the fact that it can die or \n",
      "                   overlap with other agents.\n",
      "        energy: int that represents the agent leftover energy.\n",
      "        position: NumPy array (1x2) that represents the agent's position in that moment.\n",
      "        objective: int that represents the id of the good or agent this agent wants to interact with.\n",
      "        vicinity: dictionary of lists; stand for memory of the agent where it identifies it's surroundings. \n",
      "        \n",
      "    3. Aux Variables    \n",
      "        turn_ended: boolean; if True, the agent has already choosed to do something so he can't longer be active.         \n",
      "    \"\"\"\n",
      "    \n",
      "    def __init__(self, id_num, position=None, sex=None, tribe=None, age=None, max_age=None, \n",
      "                 metabolism=None, energy=None, vision=None):\n",
      "        \"\"\"Returns a new Agent_grid object.\"\"\"\n",
      "        self.id_num = id_num\n",
      "        \n",
      "        if position == None:\n",
      "            self.position = np.array([randint(0,50), randint(0,50)])\n",
      "        else:\n",
      "            self.position = np.array(position)\n",
      "            \n",
      "        self.sex = sex or choice(['M','F'])\n",
      "        self.tribe = tribe or randint(1, 2)\n",
      "        self.age = age or randint(1,10)\n",
      "        self.max_age = max_age or randint(60,100)\n",
      "        self.metabolism = metabolism or randint(1,5)\n",
      "        self.energy = energy or randint(10,25) \n",
      "        self.vision = vision or randint(1, 2) \n",
      "        self.existence = False\n",
      "        self.objective = None\n",
      "        self.turn_ended = False\n",
      "        \n",
      "        if self.sex == 'M':\n",
      "            self.tpe = 2 * 3**self.tribe\n",
      "        else:\n",
      "            self.tpe = 2**2 * 3**self.tribe\n",
      "            \n",
      "        self.vicinity = {\n",
      "            'empty_spaces': [], # arrays\n",
      "            'good' : [], # arrays\n",
      "            'good_id' : [], # integers\n",
      "            'neighbors' : [], # arrays\n",
      "            'same_tribe_id' : [], # integers\n",
      "            'other_tribe_id' : [] # integers\n",
      "        }\n",
      "                      \n",
      "    def _see(self, world , show=False):\n",
      "        \"\"\"Based in the vision range, the agent \"sees\" its vicinity in search of goods and other agents.\"\"\"\n",
      "        # These four if's are handle the case when the agent is in any position in the grid's border.\n",
      "        if self.position[0] - self.vision < 0:\n",
      "            x_min = 0\n",
      "        else:\n",
      "            x_min = self.position[0]-self.vision\n",
      "            \n",
      "        if  self.position[0] + self.vision + 1 > 51:\n",
      "            x_max = 51\n",
      "        else:\n",
      "            x_max = self.position[0] + self.vision + 1\n",
      "            \n",
      "        if self.position[1] - self.vision < 0:\n",
      "            y_min = 0\n",
      "        else:\n",
      "            y_min = self.position[1] - self.vision\n",
      "            \n",
      "        if self.position[1] + self.vision + 1 > 51:\n",
      "            y_max = 51\n",
      "        else:\n",
      "            y_max = self.position[1] + self.vision + 1\n",
      "        \n",
      "        # Show a slice of the vicinity of the agent if True.\n",
      "        if show: \n",
      "            print world.grid[x_min:x_max , y_min:y_max]\n",
      "            \n",
      "        return np.array([x_min, x_max, y_min, y_max])\n",
      "\n",
      "    def _explore(self, world, agent_list):\n",
      "        \"\"\"Goes over the agent's action field, based in its vision range. Identifies, classifies and saves \n",
      "        in *vicinity* each type of element that is near him. \n",
      "        \"\"\"\n",
      "        lim = self._see(world)\n",
      "        # Clean the dictionary\n",
      "        for key in self.vicinity:\n",
      "            self.vicinity[key] = []\n",
      "            \n",
      "        # Clasify things in the vicinity\n",
      "        for i in xrange(lim[0], lim[1]): # Rows\n",
      "            for j in xrange(lim[2], lim[3]): # Columns \n",
      "                \n",
      "                if world.grid[i,j] == 0:\n",
      "                    self.vicinity['empty_spaces'].append(np.array([i,j]))\n",
      "                elif world.grid[i,j] == 1 or world.grid[i,j] == 2:\n",
      "                    self.vicinity['good'].append(np.array([i,j]))\n",
      "                elif world.grid[i,j] > 2: \n",
      "                    self.vicinity['neighbors'].append(np.array([i,j]))\n",
      "                    \n",
      "        # Find the goods ID of the neighbors             \n",
      "        for close_good_pos in self.vicinity['good']:\n",
      "            for good in world.goods_list:\n",
      "                \n",
      "                if np.all(close_good_pos == good.position):\n",
      "                    self.vicinity['good_id'].append(good.id_num)\n",
      "                    break\n",
      "                    \n",
      "        # Clasify the neighbors and find their ID's\n",
      "        for close_neigh_pos in self.vicinity['neighbors']:\n",
      "            for agent in agent_list:\n",
      "                \n",
      "                if np.all(close_neigh_pos == agent.position):\n",
      "                    if self.tribe == agent.tribe:\n",
      "                        self.vicinity['same_tribe_id'].append(agent.id_num)\n",
      "                        break\n",
      "                    else:\n",
      "                        self.vicinity['other_tribe_id'].append(agent.id_num)\n",
      "                        break\n",
      "            \n",
      "    def decide(self, world, agent_list): \n",
      "        \"\"\"Given the fact that the agent already knows its surroundings, it chooses (after \n",
      "        some analysis) one out of for options in that order:\n",
      "        1. Reproduce Sexually\n",
      "        2. Reproduce Asexuall\n",
      "        3. Move\n",
      "        4. Trade\n",
      "        \"\"\"\n",
      "        self._explore(world, agent_list)\n",
      "        self.turn_ended = False\n",
      "        self.objective = None\n",
      "        if self.energy >= 100 and self.age >= 18:\n",
      "            self._sex_communication(world, agent_list)\n",
      "            if randint(0,2) == 1 and self.turn_ended == False:\n",
      "                self._asexual_reproduction(world, agent_list)\n",
      "        \n",
      "        elif self.energy > self.metabolism*4 and self.age >= 18:\n",
      "            self._trade_communication(world, agent_list)\n",
      "\n",
      "        if self.turn_ended == False:\n",
      "            self._benefit_cost_analysis(world)\n",
      "            self._move(world)\n",
      "            \n",
      "    def _benefit_cost_analysis(self, world):\n",
      "        \"\"\"The agent tries to maximize its yield doing a cost benefit analysis. The agent then moves to \n",
      "        the best choice availabe. If there is no best choice, it'll simply move randomly.\n",
      "        \n",
      "        Notes\n",
      "        -----\n",
      "        benefit: amount of energy units it'll recive from the good. \n",
      "        cost: amount of energy it'll consume to get to the chosen position given the agent's metabolism.\n",
      "        \"\"\"\n",
      "        bc =  -10 #Benefit - Cost\n",
      "        for i in self.vicinity['good_id']:\n",
      "            a = self._benefit(world, i) - self._cost(world, i)\n",
      "            if a > bc:\n",
      "                bc = a\n",
      "                self.objective = i\n",
      "                \n",
      "        if bc <= -10:\n",
      "            self.objective = None\n",
      "    \n",
      "    def _move(self, world):\n",
      "        \"\"\"Agent's way of moving. There are two kinds of movement:\n",
      "        1. If it does not have a desired position, it moves randomnly to an empty position.\n",
      "        2. If it wants to move to an adjacent cell, it moves and consumes the good, therefore removing it from existence.\n",
      "        \"\"\"\n",
      "        if self.objective == None:\n",
      "            random_choice = choice(self.vicinity['empty_spaces'])\n",
      "            self.energy -= self.metabolism * self._calculate_distance(random_choice)\n",
      "            self.position = random_choice\n",
      "        else:\n",
      "            self.energy += (self._benefit(world, self.objective) - self._cost(world, self.objective))\n",
      "            self.position = world.goods_list[self.objective].position\n",
      "            world.goods_list[self.objective].existence = False #Removes the sugar from existence.            \n",
      "\n",
      "    \n",
      "    def _calculate_distance(self, new_position):\n",
      "        \"\"\"Returns the distance between its own position and a new one with the maximun norm. \n",
      "        \n",
      "        Notes\n",
      "        -----\n",
      "        Since the particles can move in diagonal, we're assuming a diagonal movement to be equal to one.\n",
      "        \"\"\"\n",
      "        return max(abs(self.position - new_position)) # use broadcasting\n",
      "    \n",
      "    def _benefit(self, world, x):\n",
      "        \"\"\"The energy provided by each good.\"\"\"\n",
      "        return world.goods_list[x].quantity\n",
      "    \n",
      "    def _cost(self, world, x):\n",
      "        \"\"\"The cost in energy of moving.\"\"\"\n",
      "        return self.metabolism * self._calculate_distance(world.goods_list[x].position)\n",
      "    \n",
      "    def death(self, world, agent_list):\n",
      "        \"\"\"There are three death conditions:\n",
      "        1. Each agent has a 1 in 500 chances of dying spontaneously\n",
      "        2. If an agent runs out of energy\n",
      "        3. If an agent surpases it's maximum age\n",
      "        \n",
      "        Notes\n",
      "        -----\n",
      "        If the agent dies, there is a 1 in 6 chances that a new agent is created\n",
      "        \"\"\"\n",
      "        if randint(1,500) == 1 or (self.energy <= 0) or (self.age > self.max_age):\n",
      "            print \"Agent %s has died\" % self.id_num\n",
      "            world.grid[self.position[0],self.position[1]] = 0\n",
      "            self.existence = False\n",
      "            if randint(0,5) == 1:\n",
      "                x = len(agent_list)\n",
      "                print \"Agent %s was created\" % x\n",
      "                new_agent_position = np.array([randint(0,50), randint(0,50)])\n",
      "                while world.grid[new_agent_position[0],new_agent_position[1]] != 0:\n",
      "                    new_agent_position = np.array([randint(0,50), randint(0,50)])\n",
      "                agent_list.append(Agent_grid(id_num = x, position = new_agent_position))\n",
      "                world.grid[new_agent_position[0],new_agent_position[1]] = agent_list[x].tpe\n",
      "                agent_list[x].existence = True\n",
      "            \n",
      "    def _asexual_reproduction(self, world, agent_list):\n",
      "        \"\"\"If there is enough energy and space the agent will try to reproduce asexually\n",
      "        making an exact copy of itself.\n",
      "        \"\"\"\n",
      "        if len(self.vicinity['empty_spaces']) > 1:\n",
      "            x = len(agent_list)\n",
      "            print \"Agent %s divided and created Agent %s\" %(self.id_num,x)\n",
      "            clone_position = choice(self.vicinity['empty_spaces'])\n",
      "            while np.all(clone_position == self.position): \n",
      "                clone_position = choice(self.vicinity['empty_spaces'])\n",
      "            agent_list.append(Agent_grid(id_num = x, position = clone_position, sex = self.sex, tribe = self.tribe, \n",
      "                                         metabolism = self.metabolism, vision = self.vision, \n",
      "                                         max_age = self.max_age,  energy = self.energy/2))\n",
      "            self.energy = self.energy/2\n",
      "            world.grid[agent_list[x].position[0],agent_list[x].position[1]] = agent_list[x].tpe\n",
      "            agent_list[x].existence = True\n",
      "            self.turn_ended = True\n",
      "            \n",
      "    def _sex_communication(self, world, agent_list):\n",
      "        \"\"\"The agent tries to comunicate with the other for further reproduction. \n",
      "        If both parties agrees, they reproduce.\n",
      "        \"\"\"\n",
      "        if len(self.vicinity['same_tribe_id']) > 0 and len(self.vicinity['empty_spaces']) > 1:\n",
      "            for i in self.vicinity['same_tribe_id']:\n",
      "                if agent_list[i].sex != self.sex:\n",
      "                    self.objective = i\n",
      "                    self.turn_ended = True\n",
      "                    break\n",
      "            if self.objective != None:\n",
      "                self.turn_ended = True\n",
      "                if agent_list[self.objective].objective == self.id_num:\n",
      "                    self._sexual_reproduction(world, agent_list)\n",
      "                                \n",
      "    def _sexual_reproduction(self, world, agent_list):\n",
      "        \"\"\" Sexual Reproduction where the agents have a baby and inherit some of their characteristics.\"\"\"\n",
      "        x = len(agent_list)\n",
      "        baby_position = choice(self.vicinity['empty_spaces'])\n",
      "        while np.all(baby_position == self.position): \n",
      "            baby_position = choice(self.vicinity['empty_spaces'])\n",
      "        #Creating Baby\n",
      "        agent_list.append(Agent_grid(id_num=x, position=baby_position, tribe=self.tribe, \n",
      "                                    metabolism=choice([self.metabolism, agent_list[self.objective].metabolism]),\n",
      "                                    vision=choice([self.vision, agent_list[self.objective].vision]),\n",
      "                                    max_age=choice([self.max_age, agent_list[self.objective].max_age]),\n",
      "                                    energy=self.energy/3 + agent_list[self.objective].energy/3))\n",
      "        print \"Agent %s reproduced with agent %s and had baby Agent %s\" %(self.id_num, self.objective, x)\n",
      "        self.energy = (2*self.energy)/3\n",
      "        agent_list[self.objective].energy = 2*agent_list[self.objective].energy/3\n",
      "        world.grid[agent_list[x].position[0],agent_list[x].position[1]] = agent_list[x].tpe\n",
      "        agent_list[x].existence = True\n",
      "        self.turn_ended = True\n",
      "        \n",
      "    def _trade_communication(self, world, agent_list):\n",
      "        \"\"\"The agent tries to comunicate with the other for further trade accion. \n",
      "        If both parties agrees, they trade.\n",
      "        \"\"\"\n",
      "        if len(self.vicinity['other_tribe_id']) >= 1:\n",
      "            self.objective = choice(self.vicinity['other_tribe_id'])\n",
      "            self.turn_ended = True\n",
      "            if agent_list[self.objective].objective == self.id_num:\n",
      "                self._trade(agent_list)\n",
      "    \n",
      "    def _trade(self, agent_list):\n",
      "        print \"Agent %s is trading with agent %s\" % (self.id_num, self.objective)\n",
      "        received_quantity = randint(1,10)\n",
      "        given_quantity = randint(1,10)\n",
      "\n",
      "        self.energy= self.energy + received_quantity-given_quantity\n",
      "        agent_list[self.objective].energy= agent_list[self.objective].energy - received_quantity + given_quantity\n",
      "        self.turn_ended = True\n",
      "                    \n",
      "    def state(self, world, full_state=False, see_world=False, show_existence=False, show_vicinity=False):\n",
      "        \"\"\"Prints the agent's information.\n",
      "        full_state: boolean that chooses the amount of information that displays.\n",
      "        \"\"\"\n",
      "        if full_state:\n",
      "            print \"Hello, I'm a type %s agent with ID: %s\" % (self.tpe, self.id_num)\n",
      "            print \"My stats are as follows:\" \n",
      "            print \"\\t Sex: %s\" % self.sex \n",
      "            print \"\\t Max_age: %s\" % self.max_age\n",
      "            print \"\\t Tribe: %s\" % self.tribe\n",
      "            print \"\\t Metabolism: %s\" % self.metabolism\n",
      "            print \"\\t Vision: %s\" % self.vision\n",
      "            print \"My current state is: \"\n",
      "            print \"\\t Age: %s\" % self.age\n",
      "            print \"\\t Energy: %s\" % self.energy\n",
      "            print \"\\t Position: %s\" % self.position\n",
      "        else:\n",
      "            print \"ID: %s\" % self.id_num\n",
      "            print \"\\t Age: %s\" % self.age\n",
      "            print \"\\t Energy: %s\" % self.energy\n",
      "            print \"\\t Position: %s\" % self.position\n",
      "            print \"\\t Objective: %s\" % self.objective\n",
      "        if show_existence:\n",
      "            print \"\\t Existence: %s\" % self.existence\n",
      "        if see_world:\n",
      "            print \"\\t Surroundings: \"\n",
      "            self._see(world, show = True)\n",
      "        if show_vicinity:\n",
      "            print \"\\Empty Spaces: %s\" % self.vicinity['empty_spaces']\n",
      "            print \"\\Goods Position: %s\" % self.vicinity['good']\n",
      "            print \"\\Goods ID's: %s\" % self.vicinity['good_id']\n",
      "            print \"\\Neighbors Positions: %s\" % self.vicinity['neighbors']\n",
      "            print \"\\Same Tribe ID's: %s\" % self.vicinity['same_tribe_id']\n",
      "            print \"\\Other Tribe ID's: %s\" % self.vicinity['other_tribe_id']"
     ],
     "language": "python",
     "metadata": {},
     "outputs": [],
     "prompt_number": 84
    },
    {
     "cell_type": "heading",
     "level": 2,
     "metadata": {},
     "source": [
      "Good"
     ]
    },
    {
     "cell_type": "code",
     "collapsed": false,
     "input": [
      "class Good(object):\n",
      "    \"\"\"Sugar or spice on a specific location in a 51x51 grid.\n",
      "    \n",
      "    Attributes\n",
      "    ----------\n",
      "    id_num: Unique integer for each good.\n",
      "    tpe: integer that represents the type of the good; 1 is sugar, and 2 is spice.\n",
      "    quantity: integer that represents the ammount of units of the good. If the good\n",
      "              is sugar, it's between 5 and 20; if it's spice, it's between\n",
      "              5 and 15.\n",
      "    position: NumPy array (1x2) that represents the good position in that moment.\n",
      "    existence: boolean that assures the good's existence in the world.\n",
      "    \"\"\"\n",
      "    def __init__(self, id_num, tpe = None, quantity = None, position = None):\n",
      "        \"\"\"Returns a new Good object.\"\"\"\n",
      "        self.id_num = id_num\n",
      "        if tpe != None:\n",
      "            self.tpe = tpe \n",
      "        else:\n",
      "           self.tpe = randint(1,2) \n",
      "        if self.tpe == 1:\n",
      "            self.quantity = quantity or randint(5, 15) #Sugar\n",
      "        else:\n",
      "            self.quantity = quantity or randint(3, 10) #Spice\n",
      "        if position: \n",
      "            self.position = np.array(position)\n",
      "        else:\n",
      "            self.position = np.array([randint(0,50), randint(0,50)])\n",
      "        self.existence = False\n",
      "        \n",
      "    def __repr__(self):\n",
      "        if self.tpe == 1:\n",
      "            return \"Sugar No.%d at [%d, %d]\" % (self.id_num, self.position[0], self.position[1])\n",
      "        else:\n",
      "            return \"Spice No.%d at [%d, %d]\" % (self.id_num, self.position[0], self.position[1])"
     ],
     "language": "python",
     "metadata": {},
     "outputs": [],
     "prompt_number": 85
    },
    {
     "cell_type": "heading",
     "level": 2,
     "metadata": {},
     "source": [
      "World"
     ]
    },
    {
     "cell_type": "code",
     "collapsed": false,
     "input": [
      "class World(object):\n",
      "    \"\"\"A SugarScape world represented by a NumPy 2D array of 51x51.\"\"\"\n",
      "    \n",
      "    color_code = {\n",
      "        1 : '#9FF781', # Sugar\n",
      "        2 : '#F7FE2E', # Spice\n",
      "        6 : '#FA5882', # Female, tribe 1\n",
      "        12 : '#B40431', # Male, tribe 1\n",
      "        18 : '#0101DF', # Female, tribe 2\n",
      "        36 : '#0080FF', # Male, tribe 2\n",
      "    } \n",
      "    \n",
      "    def __init__(self):\n",
      "        \"\"\"Returns a new World object.\"\"\"\n",
      "        self.grid = np.zeros((51,51))\n",
      "        self.goods_list = []\n",
      "        self.step = 0\n",
      "    \n",
      "    def place_goods(self, n, practice_goods = None):\n",
      "        \"\"\"Function that creates n number of goods and places them both on the grid and in the sugars_list.\n",
      "        n: number of goods to be created, though you can't specify each one.\n",
      "        practice_goods: list that contains handcrafted goods in specific locations for trials purposes.\n",
      "        \"\"\"\n",
      "        if practice_goods:\n",
      "            self.goods_list = practice_goods\n",
      "            self.define(self.goods_list)\n",
      "        else:\n",
      "            self.goods_list = [Good(id_num  = i, tpe = randint(1,2)) for i in xrange(n)]\n",
      "            self.define(self.goods_list)   \n",
      "                            \n",
      "    def define(self, thing_list):\n",
      "        \"\"\"Gives the things existence in the world. This means that this method places each agent in the grid (2D NumPy array),\n",
      "        accordingly to its random location given by its attribute self.position\n",
      "        \n",
      "        When it is placed, we say that the agents \"exists\" in the world. \n",
      "        \n",
      "        If that cell is already taken, it looks for a new random location for the agent to exist until it finds an empty cell.\n",
      "        \"\"\"\n",
      "        for thing in thing_list:\n",
      "            while thing.existence == False:\n",
      "                if self.grid[thing.position[0], thing.position[1]] == 0:\n",
      "                    self.grid[thing.position[0], thing.position[1]] = thing.tpe\n",
      "                    thing.existence = True\n",
      "                else:\n",
      "                    thing.position = np.array([randint(0,50), randint(0,50)])\n",
      "                 \n",
      "    def update_agents(self, agent_list):\n",
      "        \"\"\"The basic function for animating the world. It can't be done with the quick method because \n",
      "        the new agents would move too.\n",
      "        \n",
      "        After the agents have moved, the world checks for death's\n",
      "        \"\"\"\n",
      "        n = len(agent_list)\n",
      "        for i in xrange(n):\n",
      "            if agent_list[i].existence == True:\n",
      "                self.grid[agent_list[i].position[0], agent_list[i].position[1]] = 0\n",
      "                agent_list[i].decide(self, agent_list)\n",
      "                self.grid[agent_list[i].position[0], agent_list[i].position[1]] = agent_list[i].tpe\n",
      "                agent_list[i].age += 1\n",
      "                agent_list[i].death(self, agent_list)\n",
      "        self.step += 1        \n",
      "            \n",
      "    def _count_agents(self, agent_list):\n",
      "        count = 0\n",
      "        for agent in agent_list:\n",
      "            if agent.existence == True:\n",
      "                count += 1\n",
      "        return count\n",
      "    \n",
      "    def update_goods(self, agent_list):\n",
      "        \"\"\"Since the world is finite and the goods get consumed each step, there needs to exist a \n",
      "        method of good regeneration.\n",
      "        \n",
      "        There are two methods:\n",
      "        1. If the good population goes down to one fifth of the original, all the sugars get placed again\n",
      "        2. Each step, some random goods, if they meet the requirements, they get regenerated\n",
      "        \"\"\"\n",
      "        if self._count_agents(self.goods_list) <= len(self.goods_list)/5: #One fifth?\n",
      "            self.define(self.goods_list)\n",
      "            \n",
      "        for i in xrange(len(agent_list)/2): #Half?\n",
      "            lucky_good = randint(0,len(self.goods_list)-1)\n",
      "            if (self.goods_list[lucky_good].existence == False and \n",
      "                self.grid[self.goods_list[lucky_good].position[0],self.goods_list[lucky_good].position[1]] == 0):\n",
      "                    self.grid[self.goods_list[lucky_good].position[0],self.goods_list[lucky_good].position[1]] = self.goods_list[lucky_good].tpe \n",
      "                    self.goods_list[lucky_good].existence = True\n",
      "                  \n",
      "    def lorenz(self, agent_list):\n",
      "        \"\"\"Calculates the points of a Lorenz Curve.\"\"\"\n",
      "        energy_incomes = []\n",
      "        for agent in agent_list:\n",
      "            if agent.existence == True:\n",
      "                energy_incomes.append(agent.energy)\n",
      "        n = len(energy_incomes)\n",
      "        c = sort(energy_incomes)\n",
      "        c = cumsum(c)\n",
      "        c = np.insert(c,[0],0)\n",
      "        points = np.zeros([n+1,2])\n",
      "        for i in xrange(n+1):\n",
      "            points[i,0] = 100*(i+0.0)/n\n",
      "            points[i,1] = 100*(c[i]+0.0)/c[n]\n",
      "        return points\n",
      "    \n",
      "    def gini(self, agent_list, plot = False):\n",
      "        \"\"\"Calculaes the Gini Coeficient x 100.\n",
      "        \n",
      "        The Gini Coeficient calculates the inequalities of a society.\n",
      "        1 being the perfect inequality\n",
      "        0 being the perfect equality\n",
      "        \"\"\"\n",
      "        points = self.lorenz(agent_list)\n",
      "        n = len(points[:,1])-1\n",
      "        gini = (100 + (100 - 2*sum(points[:,1]))/(n + 0.0))\n",
      "        if plot == False:\n",
      "            return gini\n",
      "        else:\n",
      "            plt.figure(figsize(10,10), dpi = 80);\n",
      "            grid(True, color = 'b' ,  linestyle = '-', linewidth = .3);\n",
      "            plt.xlim = (0,100)\n",
      "            plt.ylim = (0,100)\n",
      "            plt.plot([0,100],[0,100], color = \"orange\", lw=4) #Perfect Equality\n",
      "            plt.plot([0,100],[0,0], color = \"red\", lw=5) #Perfect Inequality\n",
      "            plt.plot([100,100],[0,100], color = \"red\", lw=5) #Perfect Inequality\n",
      "            plt.plot(points[:,0], points[:,1], label = r\"Lorenz Curve\", color = \"blue\", lw = 2 )\n",
      "            # plt.title('Lorenz Curve and Gini Coefficicient',fontsize=20)\n",
      "            plt.legend(loc='upper left', fontsize = 18 , frameon = False);\n",
      "            plt.text(10.6, 90, r' Gini $=$ $%s$' % gini , fontsize = 19)\n",
      "            plt.ylabel(\"% of Population\", fontsize = 'xx-large');\n",
      "            plt.xlabel(\"% of Income\", fontsize = 'xx-large');\n",
      "            plt.show()\n",
      "    \n",
      "    def state(self, agent_list, agent_state=False):\n",
      "        \"\"\"Function that reviews the world in its current state.\n",
      "        \"\"\"\n",
      "        print \"Step: %s\" % self.step\n",
      "        print \"Number of Agents: %s\" % self._count_agents(agent_list)\n",
      "        print \"Number of Goods: %s\" % self._count_agents(self.goods_list)\n",
      "        print \"Gini: %s\" % self.gini(agent_list)\n",
      "        print \"\\n\"\n",
      "        if agent_state == True:\n",
      "            for agent in agent_list:\n",
      "                if agent.existence == True:\n",
      "                    agent.state(self)\n",
      "    \n",
      "    def draw(self):\n",
      "        dibujar.draw_matrix(self.grid,  self.color_code)"
     ],
     "language": "python",
     "metadata": {},
     "outputs": [],
     "prompt_number": 86
    },
    {
     "cell_type": "heading",
     "level": 1,
     "metadata": {},
     "source": [
      "Important"
     ]
    },
    {
     "cell_type": "markdown",
     "metadata": {},
     "source": [
      "The next pice of code creats an additional file with all the code and funtions to be used more easily on other parts"
     ]
    },
    {
     "cell_type": "code",
     "collapsed": false,
     "input": [
      "SS_test1 = World()\n",
      "#Creating the specific Agents\n",
      "t1_agent1 = Agent_grid(0, age = 8, energy = 30, position = [30,10], sex = 'H', tribe = 1, vision = 2, metabolism = 2)\n",
      "t1_agent2 = Agent_grid(1, energy = 20, metabolism=5, vision= 1, position = [30, 35], tribe=2, sex = 'H')\n",
      "t1_agents = [t1_agent1, t1_agent2]\n",
      "\n",
      "#Creating the specific Goods\n",
      "# 1 = Sugar\n",
      "# 2 = Spice\n",
      "t1g0 = Good(id_num = 0, tpe = 1, quantity = 10, position = [29,11])\n",
      "t1g1 = Good(id_num = 1, tpe = 2, quantity = 5, position = [29,9]) #Spice\n",
      "t1g2 = Good(id_num = 2, tpe = 2, quantity = 7, position = [28,9]) #Spice\n",
      "t1g3 = Good(id_num = 3, tpe = 1, quantity = 10, position = [27,10])\n",
      "t1g4 = Good(id_num = 4, tpe = 1, quantity = 10, position = [26,11])\n",
      "t1g5 = Good(id_num = 5, tpe = 1, quantity = 10, position = [25,12])\n",
      "t1g6 = Good(id_num = 6, tpe = 1, quantity = 10, position = [25,10])\n",
      "t1g7 = Good(id_num = 7, tpe = 2, quantity = 10, position = [24,11]) #High carb Spice\n",
      "t1g8 = Good(id_num = 8, tpe = 1, quantity = 10, position = [23,11])\n",
      "t1g9 = Good(id_num = 9, tpe = 1, quantity = 10, position = [22,10])\n",
      "t1g10 = Good(id_num = 10, tpe = 1, quantity = 10, position = [22,9])\n",
      "t1g11 = Good(id_num = 11, tpe = 1, quantity = 10, position = [23,8])\n",
      "t1g12 = Good(id_num = 12, tpe = 1, quantity = 10, position = [24,7])\n",
      "t1g13 = Good(id_num = 13, tpe = 1, quantity = 10, position = [20,9])\n",
      "t1g14 = Good(id_num = 14, tpe = 2, quantity = 3, position = [24,5])\n",
      "t1_testgoods = [t1g0,t1g1,t1g2,t1g3,t1g4,t1g5,t1g6, t1g7, t1g8, t1g9, t1g10, t1g11, t1g12, t1g13, t1g14]\n",
      "SS_test1.place_goods(0, practice_goods = t1_testgoods)\n",
      "\n",
      "SS_test1.define(t1_agents)\n",
      "SS_test1.state(t1_agents)\n",
      "t1_agent1.state(SS_test1, full_state = True, see_world = True)\n",
      "SS_test1.draw()\n",
      "\n",
      "n = 11\n",
      "for i in xrange(n):\n",
      "    SS_test1.update_agents(t1_agents)\n",
      "    SS_test1.state(t1_agents)\n",
      "    t1_agent1.state(SS_test1, see_world = True)\n",
      "    SS_test1.draw()\n",
      "    \n",
      "    "
     ],
     "language": "python",
     "metadata": {},
     "outputs": [
      {
       "output_type": "stream",
       "stream": "stdout",
       "text": [
        "Step: 0\n",
        "Number of Agents: 2\n",
        "Number of Goods: 15\n",
        "Gini: 10.0\n",
        "\n",
        "\n",
        "Hello, I'm a type 12 agent with ID: 0\n",
        "My stats are as follows:\n",
        "\t Sex: H\n",
        "\t Max_age: 90\n",
        "\t Tribe: 1\n",
        "\t Metabolism: 2\n",
        "\t Vision: 2\n",
        "My current state is: \n",
        "\t Age: 8\n",
        "\t Energy: 30\n",
        "\t Position: [30 10]\n",
        "\t Surroundings: \n",
        "[[  0.   2.   0.   0.   0.]\n",
        " [  0.   2.   0.   1.   0.]\n",
        " [  0.   0.  12.   0.   0.]\n",
        " [  0.   0.   0.   0.   0.]\n",
        " [  0.   0.   0.   0.   0.]]\n",
        "Step: 1"
       ]
      },
      {
       "output_type": "stream",
       "stream": "stdout",
       "text": [
        "\n",
        "Number of Agents: 2\n",
        "Number of Goods: 14\n",
        "Gini: 21.6981132075\n",
        "\n",
        "\n",
        "ID: 0\n",
        "\t Age: 9\n",
        "\t Energy: 38\n",
        "\t Position: [29 11]\n",
        "\t Objective: 0\n",
        "\t Surroundings: \n",
        "[[  0.   1.   0.   0.   0.]\n",
        " [  2.   0.   0.   0.   0.]\n",
        " [  2.   0.  12.   0.   0.]\n",
        " [  0.   0.   0.   0.   0.]\n",
        " [  0.   0.   0.   0.   0.]]\n",
        "Step: 2"
       ]
      },
      {
       "output_type": "stream",
       "stream": "stdout",
       "text": [
        "\n",
        "Number of Agents: 2\n",
        "Number of Goods: 13\n",
        "Gini: 31.4814814815\n",
        "\n",
        "\n",
        "ID: 0\n",
        "\t Age: 10\n",
        "\t Energy: 44\n",
        "\t Position: [27 10]\n",
        "\t Objective: 3\n",
        "\t Surroundings: \n",
        "[[  0.   0.   1.   0.   1.]\n",
        " [  0.   0.   0.   1.   0.]\n",
        " [  0.   0.  12.   0.   0.]\n",
        " [  0.   2.   0.   0.   0.]\n",
        " [  0.   2.   0.   0.   0.]]\n",
        "Step: 3"
       ]
      },
      {
       "output_type": "stream",
       "stream": "stdout",
       "text": [
        "\n",
        "Number of Agents: 2\n",
        "Number of Goods: 12\n",
        "Gini: 33.8709677419\n",
        "\n",
        "\n",
        "ID: 0\n",
        "\t Age: 11\n",
        "\t Energy: 52\n",
        "\t Position: [26 11]\n",
        "\t Objective: 4\n",
        "\t Surroundings: \n",
        "[[  0.   0.   2.   0.   0.]\n",
        " [  0.   1.   0.   1.   0.]\n",
        " [  0.   0.  12.   0.   0.]\n",
        " [  0.   0.   0.   0.   0.]\n",
        " [  2.   0.   0.   0.   0.]]\n",
        "Step: 4"
       ]
      },
      {
       "output_type": "stream",
       "stream": "stdout",
       "text": [
        "\n",
        "Number of Agents: 2\n",
        "Number of Goods: 11\n",
        "Gini: 42.3076923077\n",
        "\n",
        "\n",
        "ID: 0\n",
        "\t Age: 12\n",
        "\t Energy: 60\n",
        "\t Position: [25 10]\n",
        "\t Objective: 6\n",
        "\t Surroundings: \n",
        "[[  1.   0.   0.   1.   0.]\n",
        " [  0.   0.   0.   2.   0.]\n",
        " [  0.   0.  12.   0.   1.]\n",
        " [  0.   0.   0.   0.   0.]\n",
        " [  0.   0.   0.   0.   0.]]\n",
        "Step: 5"
       ]
      },
      {
       "output_type": "stream",
       "stream": "stdout",
       "text": [
        "\n",
        "Number of Agents: 2\n",
        "Number of Goods: 10\n",
        "Gini: 43.1506849315\n",
        "\n",
        "\n",
        "ID: 0\n",
        "\t Age: 13\n",
        "\t Energy: 68\n",
        "\t Position: [24 11]\n",
        "\t Objective: 7\n",
        "\t Surroundings: \n",
        "[[  1.   1.   0.   0.   0.]\n",
        " [  0.   0.   1.   0.   0.]\n",
        " [  0.   0.  12.   0.   0.]\n",
        " [  0.   0.   0.   1.   0.]\n",
        " [  0.   0.   0.   0.   0.]]\n",
        "Agent 1 has died"
       ]
      },
      {
       "output_type": "stream",
       "stream": "stdout",
       "text": [
        "\n",
        "Step: 6\n",
        "Number of Agents: 1\n",
        "Number of Goods: 9\n",
        "Gini: 0.0\n",
        "\n",
        "\n",
        "ID: 0\n",
        "\t Age: 14\n",
        "\t Energy: 76\n",
        "\t Position: [23 11]\n",
        "\t Objective: 8\n",
        "\t Surroundings: \n",
        "[[  0.   0.   0.   0.   0.]\n",
        " [  1.   1.   0.   0.   0.]\n",
        " [  0.   0.  12.   0.   0.]\n",
        " [  0.   0.   0.   0.   0.]\n",
        " [  0.   0.   0.   1.   0.]]\n",
        "Step: 7"
       ]
      },
      {
       "output_type": "stream",
       "stream": "stdout",
       "text": [
        "\n",
        "Number of Agents: 1\n",
        "Number of Goods: 8\n",
        "Gini: 0.0\n",
        "\n",
        "\n",
        "ID: 0\n",
        "\t Age: 15\n",
        "\t Energy: 84\n",
        "\t Position: [22 10]\n",
        "\t Objective: 9\n",
        "\t Surroundings: \n",
        "[[  0.   1.   0.   0.   0.]\n",
        " [  0.   0.   0.   0.   0.]\n",
        " [  0.   1.  12.   0.   0.]\n",
        " [  1.   0.   0.   0.   0.]\n",
        " [  0.   0.   0.   0.   0.]]\n",
        "Step: 8"
       ]
      },
      {
       "output_type": "stream",
       "stream": "stdout",
       "text": [
        "\n",
        "Number of Agents: 1\n",
        "Number of Goods: 7\n",
        "Gini: 0.0\n",
        "\n",
        "\n",
        "ID: 0\n",
        "\t Age: 16\n",
        "\t Energy: 92\n",
        "\t Position: [22  9]\n",
        "\t Objective: 10\n",
        "\t Surroundings: \n",
        "[[  0.   0.   1.   0.   0.]\n",
        " [  0.   0.   0.   0.   0.]\n",
        " [  0.   0.  12.   0.   0.]\n",
        " [  0.   1.   0.   0.   0.]\n",
        " [  1.   0.   0.   0.   0.]]\n",
        "Step: 9"
       ]
      },
      {
       "output_type": "stream",
       "stream": "stdout",
       "text": [
        "\n",
        "Number of Agents: 1\n",
        "Number of Goods: 6\n",
        "Gini: 0.0\n",
        "\n",
        "\n",
        "ID: 0\n",
        "\t Age: 17\n",
        "\t Energy: 100\n",
        "\t Position: [23  8]\n",
        "\t Objective: 11\n",
        "\t Surroundings: \n",
        "[[  0.   0.   0.   0.   0.]\n",
        " [  0.   0.   0.   0.   0.]\n",
        " [  0.   0.  12.   0.   0.]\n",
        " [  0.   1.   0.   0.   0.]\n",
        " [  0.   0.   0.   0.   0.]]\n",
        "Step: 10"
       ]
      },
      {
       "output_type": "stream",
       "stream": "stdout",
       "text": [
        "\n",
        "Number of Agents: 1\n",
        "Number of Goods: 5\n",
        "Gini: 0.0\n",
        "\n",
        "\n",
        "ID: 0\n",
        "\t Age: 18\n",
        "\t Energy: 108\n",
        "\t Position: [24  7]\n",
        "\t Objective: 12\n",
        "\t Surroundings: \n",
        "[[  0.   0.   0.   0.   0.]\n",
        " [  0.   0.   0.   0.   0.]\n",
        " [  2.   0.  12.   0.   0.]\n",
        " [  0.   0.   0.   0.   0.]\n",
        " [  0.   0.   0.   0.   0.]]\n",
        "Agent 0 divided and created Agent 2"
       ]
      },
      {
       "output_type": "stream",
       "stream": "stdout",
       "text": [
        "\n",
        "Step: 11\n",
        "Number of Agents: 2\n",
        "Number of Goods: 5\n",
        "Gini: 0.0\n",
        "\n",
        "\n",
        "ID: 0\n",
        "\t Age: 19\n",
        "\t Energy: 54\n",
        "\t Position: [24  7]\n",
        "\t Objective: None\n",
        "\t Surroundings: \n",
        "[[  0.  12.   0.   0.   0.]\n",
        " [  0.   0.   0.   0.   0.]\n",
        " [  2.   0.  12.   0.   0.]\n",
        " [  0.   0.   0.   0.   0.]\n",
        " [  0.   0.   0.   0.   0.]]\n"
       ]
      },
      {
       "metadata": {},
       "output_type": "display_data",
       "png": "[encoded data removed]",
       "text": [
        "<matplotlib.figure.Figure at 0x7fbf306fd950>"
       ]
      },
      {
       "metadata": {},
       "output_type": "display_data",
       "png": "[encoded data removed]",
       "text": [
        "<matplotlib.figure.Figure at 0x7fbf2ae9d950>"
       ]
      },
      {
       "metadata": {},
       "output_type": "display_data",
       "png": "[encoded data removed]",
       "text": [
        "<matplotlib.figure.Figure at 0x7fbf2ab10c90>"
       ]
      },
      {
       "metadata": {},
       "output_type": "display_data",
       "png": "[encoded data removed]",
       "text": [
        "<matplotlib.figure.Figure at 0x7fbf2afb2690>"
       ]
      },
      {
       "metadata": {},
       "output_type": "display_data",
       "png": "[encoded data removed]",
       "text": [
        "<matplotlib.figure.Figure at 0x7fbf2ae0dfd0>"
       ]
      },
      {
       "metadata": {},
       "output_type": "display_data",
       "png": "[encoded data removed]",
       "text": [
        "<matplotlib.figure.Figure at 0x7fbf2a722ed0>"
       ]
      },
      {
       "metadata": {},
       "output_type": "display_data",
       "png": "[encoded data removed]",
       "text": [
        "<matplotlib.figure.Figure at 0x7fbf302fbf10>"
       ]
      },
      {
       "metadata": {},
       "output_type": "display_data",
       "png": "[encoded data removed]",
       "text": [
        "<matplotlib.figure.Figure at 0x7fbf2bcd9f50>"
       ]
      },
      {
       "metadata": {},
       "output_type": "display_data",
       "png": "[encoded data removed]",
       "text": [
        "<matplotlib.figure.Figure at 0x7fbf2b3e2d90>"
       ]
      },
      {
       "metadata": {},
       "output_type": "display_data",
       "png": "[encoded data removed]",
       "text": [
        "<matplotlib.figure.Figure at 0x7fbf2b0b89d0>"
       ]
      },
      {
       "metadata": {},
       "output_type": "display_data",
       "png": "[encoded data removed]",
       "text": [
        "<matplotlib.figure.Figure at 0x7fbf2aa25190>"
       ]
      },
      {
       "metadata": {},
       "output_type": "display_data",
       "png": "[encoded data removed]",
       "text": [
        "<matplotlib.figure.Figure at 0x7fbf2ae68b90>"
       ]
      }
     ],
     "prompt_number": 66
    },
    {
     "cell_type": "code",
     "collapsed": false,
     "input": [
      "SS = World()\n",
      "agents = [(Agent_grid(i)) for i in xrange(100)]\n",
      "SS.define(agents)\n",
      "SS.place_goods(n = 500)\n",
      "SS.state(agents)\n",
      "SS.draw()\n",
      "\n",
      "steps= 100\n",
      "\n",
      "for i in xrange(1,steps+1): \n",
      "    SS.update_agents(agents)\n",
      "    SS.update_goods(agents)\n",
      "    SS.state(agents)\n",
      "#     SS.gini(agents, plot = True)\n",
      "#     SS.draw()\n",
      "\n",
      "SS.draw()"
     ],
     "language": "python",
     "metadata": {},
     "outputs": [
      {
       "output_type": "stream",
       "stream": "stdout",
       "text": [
        "Step: 0\n",
        "Number of Agents: 100\n",
        "Number of Goods: 500\n",
        "Gini: 15.6202898551\n",
        "\n",
        "\n",
        "Step: 1"
       ]
      },
      {
       "output_type": "stream",
       "stream": "stdout",
       "text": [
        "\n",
        "Number of Agents: 100\n",
        "Number of Goods: 417\n",
        "Gini: 18.1057957682\n",
        "\n",
        "\n",
        "Agent 44 has died"
       ]
      },
      {
       "output_type": "stream",
       "stream": "stdout",
       "text": [
        "\n",
        "Step: 2"
       ]
      },
      {
       "output_type": "stream",
       "stream": "stdout",
       "text": [
        "\n",
        "Number of Agents: 99\n",
        "Number of Goods: 364\n",
        "Gini: 22.4177256435\n",
        "\n",
        "\n",
        "Agent 75 has died"
       ]
      },
      {
       "output_type": "stream",
       "stream": "stdout",
       "text": [
        "\n",
        "Step: 3"
       ]
      },
      {
       "output_type": "stream",
       "stream": "stdout",
       "text": [
        "\n",
        "Number of Agents: 98\n",
        "Number of Goods: 316\n",
        "Gini: 26.5897663413\n",
        "\n",
        "\n",
        "Step: 4"
       ]
      },
      {
       "output_type": "stream",
       "stream": "stdout",
       "text": [
        "\n",
        "Number of Agents: 98\n",
        "Number of Goods: 279\n",
        "Gini: 31.2444977991\n",
        "\n",
        "\n",
        "Agent 34 has died"
       ]
      },
      {
       "output_type": "stream",
       "stream": "stdout",
       "text": [
        "\n",
        "Agent 55 has died"
       ]
      },
      {
       "output_type": "stream",
       "stream": "stdout",
       "text": [
        "\n",
        "Agent 100 was created\n",
        "Agent 69 has died"
       ]
      },
      {
       "output_type": "stream",
       "stream": "stdout",
       "text": [
        "\n",
        "Step: 5"
       ]
      },
      {
       "output_type": "stream",
       "stream": "stdout",
       "text": [
        "\n",
        "Number of Agents: 96\n",
        "Number of Goods: 252\n",
        "Gini: 35.192966449\n",
        "\n",
        "\n",
        "Agent 9 has died\n",
        "Agent 15 has died"
       ]
      },
      {
       "output_type": "stream",
       "stream": "stdout",
       "text": [
        "\n",
        "Agent 17 has died\n",
        "Agent 101 was created\n",
        "Agent 29 has died\n",
        "Agent 43 has died"
       ]
      },
      {
       "output_type": "stream",
       "stream": "stdout",
       "text": [
        "\n",
        "Agent 102 was created\n",
        "Agent 47 has died\n",
        "Agent 61 has died"
       ]
      },
      {
       "output_type": "stream",
       "stream": "stdout",
       "text": [
        "\n",
        "Agent 103 was created\n",
        "Agent 68 has died\n",
        "Agent 73 has died\n",
        "Step: 6"
       ]
      },
      {
       "output_type": "stream",
       "stream": "stdout",
       "text": [
        "\n",
        "Number of Agents: 90\n",
        "Number of Goods: 238\n",
        "Gini: 32.7406851713\n",
        "\n",
        "\n",
        "Agent 19 has died"
       ]
      },
      {
       "output_type": "stream",
       "stream": "stdout",
       "text": [
        "\n",
        "Agent 78 has died"
       ]
      },
      {
       "output_type": "stream",
       "stream": "stdout",
       "text": [
        "\n",
        "Agent 93 has died\n",
        "Agent 99 has died"
       ]
      },
      {
       "output_type": "stream",
       "stream": "stdout",
       "text": [
        "\n",
        "Agent 104 was created\n",
        "Step: 7\n",
        "Number of Agents: 87\n",
        "Number of Goods: 220\n",
        "Gini: 32.792476489\n",
        "\n",
        "\n",
        "Agent 18 has died"
       ]
      },
      {
       "output_type": "stream",
       "stream": "stdout",
       "text": [
        "\n",
        "Agent 105 was created\n",
        "Step: 8"
       ]
      },
      {
       "output_type": "stream",
       "stream": "stdout",
       "text": [
        "\n",
        "Number of Agents: 87\n",
        "Number of Goods: 213\n",
        "Gini: 33.7767354367\n",
        "\n",
        "\n",
        "Agent 33 has died"
       ]
      },
      {
       "output_type": "stream",
       "stream": "stdout",
       "text": [
        "\n",
        "Agent 42 has died\n",
        "Step: 9"
       ]
      },
      {
       "output_type": "stream",
       "stream": "stdout",
       "text": [
        "\n",
        "Number of Agents: 85\n",
        "Number of Goods: 198\n",
        "Gini: 35.4708142426\n",
        "\n",
        "\n",
        "Agent 64 has died"
       ]
      },
      {
       "output_type": "stream",
       "stream": "stdout",
       "text": [
        "\n",
        "Agent 71 has died\n",
        "Agent 74 has died\n",
        "Agent 102 has died"
       ]
      },
      {
       "output_type": "stream",
       "stream": "stdout",
       "text": [
        "\n",
        "Step: 10\n",
        "Number of Agents: 81\n",
        "Number of Goods: 201\n",
        "Gini: 37.4278605021\n",
        "\n",
        "\n",
        "Agent 24 has died"
       ]
      },
      {
       "output_type": "stream",
       "stream": "stdout",
       "text": [
        "\n",
        "Step: 11"
       ]
      },
      {
       "output_type": "stream",
       "stream": "stdout",
       "text": [
        "\n",
        "Number of Agents: 80\n",
        "Number of Goods: 191\n",
        "Gini: 37.8164720027\n",
        "\n",
        "\n",
        "Agent 38 has died"
       ]
      },
      {
       "output_type": "stream",
       "stream": "stdout",
       "text": [
        "\n",
        "Agent 50 has died\n",
        "Agent 54 has died"
       ]
      },
      {
       "output_type": "stream",
       "stream": "stdout",
       "text": [
        "\n",
        "Agent 106 was created\n",
        "Agent 70 has died\n",
        "Agent 84 has died"
       ]
      },
      {
       "output_type": "stream",
       "stream": "stdout",
       "text": [
        "\n",
        "Step: 12"
       ]
      },
      {
       "output_type": "stream",
       "stream": "stdout",
       "text": [
        "\n",
        "Number of Agents: 76\n",
        "Number of Goods: 193\n",
        "Gini: 37.6043495396\n",
        "\n",
        "\n",
        "Agent 27 divided and created Agent 107"
       ]
      },
      {
       "output_type": "stream",
       "stream": "stdout",
       "text": [
        "\n",
        "Agent 67 has died"
       ]
      },
      {
       "output_type": "stream",
       "stream": "stdout",
       "text": [
        "\n",
        "Agent 77 has died\n",
        "Agent 82 is trading with agent 3\n",
        "Step: 13"
       ]
      },
      {
       "output_type": "stream",
       "stream": "stdout",
       "text": [
        "\n",
        "Number of Agents: 75\n",
        "Number of Goods: 198\n",
        "Gini: 36.2799363781\n",
        "\n",
        "\n",
        "Agent 3 is trading with agent 82\n",
        "Agent 11 divided and created Agent 108"
       ]
      },
      {
       "output_type": "stream",
       "stream": "stdout",
       "text": [
        "\n",
        "Agent 22 is trading with agent 21\n",
        "Agent 40 has died"
       ]
      },
      {
       "output_type": "stream",
       "stream": "stdout",
       "text": [
        "\n",
        "Agent 109 was created\n",
        "Agent 59 has died\n",
        "Agent 110 was created\n",
        "Agent 82 is trading with agent 3"
       ]
      },
      {
       "output_type": "stream",
       "stream": "stdout",
       "text": [
        "\n",
        "Step: 14"
       ]
      },
      {
       "output_type": "stream",
       "stream": "stdout",
       "text": [
        "\n",
        "Number of Agents: 76\n",
        "Number of Goods: 192\n",
        "Gini: 35.7635822033\n",
        "\n",
        "\n",
        "Agent 3 is trading with agent 82\n",
        "Agent 21 is trading with agent 22"
       ]
      },
      {
       "output_type": "stream",
       "stream": "stdout",
       "text": [
        "\n",
        "Agent 22 is trading with agent 21\n",
        "Agent 66 has died"
       ]
      },
      {
       "output_type": "stream",
       "stream": "stdout",
       "text": [
        "\n",
        "Agent 82 is trading with agent 3\n",
        "Step: 15"
       ]
      },
      {
       "output_type": "stream",
       "stream": "stdout",
       "text": [
        "\n",
        "Number of Agents: 75\n",
        "Number of Goods: 193\n",
        "Gini: 36.6182690211\n",
        "\n",
        "\n",
        "Agent 3 is trading with agent 82\n",
        "Agent 21 is trading with agent 22"
       ]
      },
      {
       "output_type": "stream",
       "stream": "stdout",
       "text": [
        "\n",
        "Agent 22 is trading with agent 21\n",
        "Agent 26 has died\n",
        "Agent 28 is trading with agent 58\n",
        "Agent 58 is trading with agent 28"
       ]
      },
      {
       "output_type": "stream",
       "stream": "stdout",
       "text": [
        "\n",
        "Agent 82 is trading with agent 3\n",
        "Agent 85 is trading with agent 11\n",
        "Agent 86 is trading with agent 6\n",
        "Agent 95 is trading with agent 97"
       ]
      },
      {
       "output_type": "stream",
       "stream": "stdout",
       "text": [
        "\n",
        "Agent 97 is trading with agent 95\n",
        "Agent 103 has died\n",
        "Step: 16\n",
        "Number of Agents: 73\n",
        "Number of Goods: 206\n",
        "Gini: 35.9522988531\n",
        "\n",
        "\n",
        "Agent 3 is trading with agent 82"
       ]
      },
      {
       "output_type": "stream",
       "stream": "stdout",
       "text": [
        "\n",
        "Agent 6 is trading with agent 86\n",
        "Agent 11 is trading with agent 85\n",
        "Agent 25 is trading with agent 13"
       ]
      },
      {
       "output_type": "stream",
       "stream": "stdout",
       "text": [
        "\n",
        "Agent 28 is trading with agent 16\n",
        "Agent 65 is trading with agent 90"
       ]
      },
      {
       "output_type": "stream",
       "stream": "stdout",
       "text": [
        "\n",
        "Agent 86 is trading with agent 6\n",
        "Agent 90 is trading with agent 65"
       ]
      },
      {
       "output_type": "stream",
       "stream": "stdout",
       "text": [
        "\n",
        "Agent 94 is trading with agent 62\n",
        "Agent 95 is trading with agent 97\n",
        "Agent 97 is trading with agent 95\n",
        "Agent 110 has died"
       ]
      },
      {
       "output_type": "stream",
       "stream": "stdout",
       "text": [
        "\n",
        "Step: 17\n",
        "Number of Agents: 72\n",
        "Number of Goods: 207\n",
        "Gini: 35.7609079668\n",
        "\n",
        "\n",
        "Agent 6 is trading with agent 86\n",
        "Agent 13 is trading with agent 25\n",
        "Agent 21 is trading with agent 22"
       ]
      },
      {
       "output_type": "stream",
       "stream": "stdout",
       "text": [
        "\n",
        "Agent 22 is trading with agent 21\n",
        "Agent 25 is trading with agent 13\n",
        "Agent 49 has died"
       ]
      },
      {
       "output_type": "stream",
       "stream": "stdout",
       "text": [
        "\n",
        "Agent 111 was created\n",
        "Agent 65 is trading with agent 90\n",
        "Agent 86 is trading with agent 6"
       ]
      },
      {
       "output_type": "stream",
       "stream": "stdout",
       "text": [
        "\n",
        "Agent 90 is trading with agent 65\n",
        "Agent 92 is trading with agent 16\n",
        "Agent 95 is trading with agent 97\n",
        "Agent 96 is trading with agent 85\n",
        "Agent 97 is trading with agent 95\n",
        "Agent 104 has died\n",
        "Step: 18"
       ]
      },
      {
       "output_type": "stream",
       "stream": "stdout",
       "text": [
        "\n",
        "Number of Agents: 71\n",
        "Number of Goods: 219\n",
        "Gini: 33.7003198615\n",
        "\n",
        "\n",
        "Agent 6 is trading with agent 86\n",
        "Agent 13 is trading with agent 25\n",
        "Agent 16 is trading with agent 28\n",
        "Agent 21 is trading with agent 22"
       ]
      },
      {
       "output_type": "stream",
       "stream": "stdout",
       "text": [
        "\n",
        "Agent 22 is trading with agent 21\n",
        "Agent 25 is trading with agent 13\n",
        "Agent 65 is trading with agent 90"
       ]
      },
      {
       "output_type": "stream",
       "stream": "stdout",
       "text": [
        "\n",
        "Agent 82 divided and created Agent 112\n",
        "Agent 85 is trading with agent 11\n",
        "Agent 86 is trading with agent 6\n",
        "Agent 90 is trading with agent 65"
       ]
      },
      {
       "output_type": "stream",
       "stream": "stdout",
       "text": [
        "\n",
        "Agent 95 is trading with agent 97\n",
        "Agent 97 is trading with agent 95\n",
        "Step: 19"
       ]
      },
      {
       "output_type": "stream",
       "stream": "stdout",
       "text": [
        "\n",
        "Number of Agents: 72\n",
        "Number of Goods: 228\n",
        "Gini: 34.1113050531\n",
        "\n",
        "\n",
        "Agent 6 is trading with agent 86\n",
        "Agent 11 is trading with agent 85\n",
        "Agent 13 is trading with agent 25\n",
        "Agent 25 is trading with agent 13"
       ]
      },
      {
       "output_type": "stream",
       "stream": "stdout",
       "text": [
        "\n",
        "Agent 28 is trading with agent 16\n",
        "Agent 39 has died\n",
        "Agent 56 has died"
       ]
      },
      {
       "output_type": "stream",
       "stream": "stdout",
       "text": [
        "\n",
        "Agent 65 is trading with agent 90\n",
        "Agent 76 is trading with agent 57\n",
        "Agent 82 is trading with agent 3\n",
        "Agent 86 is trading with agent 6"
       ]
      },
      {
       "output_type": "stream",
       "stream": "stdout",
       "text": [
        "\n",
        "Agent 90 is trading with agent 65\n",
        "Agent 95 is trading with agent 97\n",
        "Agent 97 is trading with agent 95"
       ]
      },
      {
       "output_type": "stream",
       "stream": "stdout",
       "text": [
        "\n",
        "Step: 20\n",
        "Number of Agents: 70\n",
        "Number of Goods: 240\n",
        "Gini: 33.2149582997\n",
        "\n",
        "\n",
        "Agent 3 is trading with agent 82"
       ]
      },
      {
       "output_type": "stream",
       "stream": "stdout",
       "text": [
        "\n",
        "Agent 6 is trading with agent 86\n",
        "Agent 13 is trading with agent 25\n",
        "Agent 16 is trading with agent 28"
       ]
      },
      {
       "output_type": "stream",
       "stream": "stdout",
       "text": [
        "\n",
        "Agent 25 is trading with agent 13\n",
        "Agent 57 is trading with agent 72"
       ]
      },
      {
       "output_type": "stream",
       "stream": "stdout",
       "text": [
        "\n",
        "Agent 58 is trading with agent 28\n",
        "Agent 72 is trading with agent 57\n",
        "Agent 82 is trading with agent 3"
       ]
      },
      {
       "output_type": "stream",
       "stream": "stdout",
       "text": [
        "\n",
        "Agent 85 is trading with agent 96\n",
        "Agent 86 is trading with agent 6\n",
        "Agent 95 is trading with agent 97"
       ]
      },
      {
       "output_type": "stream",
       "stream": "stdout",
       "text": [
        "\n",
        "Agent 96 is trading with agent 85\n",
        "Agent 97 is trading with agent 95\n",
        "Step: 21"
       ]
      },
      {
       "output_type": "stream",
       "stream": "stdout",
       "text": [
        "\n",
        "Number of Agents: 70\n",
        "Number of Goods: 235\n",
        "Gini: 33.3499934808\n",
        "\n",
        "\n",
        "Agent 2 is trading with agent 10\n",
        "Agent 3 is trading with agent 82\n",
        "Agent 4 is trading with agent 79\n",
        "Agent 10 is trading with agent 2\n",
        "Agent 13 is trading with agent 25\n",
        "Agent 25 is trading with agent 13"
       ]
      },
      {
       "output_type": "stream",
       "stream": "stdout",
       "text": [
        "\n",
        "Agent 28 is trading with agent 58\n",
        "Agent 57 is trading with agent 76"
       ]
      },
      {
       "output_type": "stream",
       "stream": "stdout",
       "text": [
        "\n",
        "Agent 76 is trading with agent 57\n",
        "Agent 79 is trading with agent 4\n",
        "Agent 82 is trading with agent 3"
       ]
      },
      {
       "output_type": "stream",
       "stream": "stdout",
       "text": [
        "\n",
        "Agent 85 is trading with agent 11\n",
        "Agent 94 divided and created Agent 113"
       ]
      },
      {
       "output_type": "stream",
       "stream": "stdout",
       "text": [
        "\n",
        "Agent 95 is trading with agent 97\n",
        "Agent 97 is trading with agent 95\n",
        "Step: 22"
       ]
      },
      {
       "output_type": "stream",
       "stream": "stdout",
       "text": [
        "\n",
        "Number of Agents: 71\n",
        "Number of Goods: 240\n",
        "Gini: 32.8822831279\n",
        "\n",
        "\n",
        "Agent 1 has died\n",
        "Agent 114 was created\n",
        "Agent 2 is trading with agent 10\n",
        "Agent 3 is trading with agent 82\n",
        "Agent 4 is trading with agent 79\n",
        "Agent 6 has died\n",
        "Agent 10 is trading with agent 2\n",
        "Agent 11 is trading with agent 85\n",
        "Agent 13 is trading with agent 25\n",
        "Agent 16 is trading with agent 92"
       ]
      },
      {
       "output_type": "stream",
       "stream": "stdout",
       "text": [
        "\n",
        "Agent 20 has died\n",
        "Agent 21 is trading with agent 22\n",
        "Agent 22 is trading with agent 21\n",
        "Agent 25 is trading with agent 13\n",
        "Agent 57 is trading with agent 72"
       ]
      },
      {
       "output_type": "stream",
       "stream": "stdout",
       "text": [
        "\n",
        "Agent 65 is trading with agent 90\n",
        "Agent 72 is trading with agent 57\n",
        "Agent 76 divided and created Agent 115\n",
        "Agent 79 is trading with agent 4\n",
        "Agent 82 is trading with agent 3"
       ]
      },
      {
       "output_type": "stream",
       "stream": "stdout",
       "text": [
        "\n",
        "Agent 85 is trading with agent 96\n",
        "Agent 89 has died\n",
        "Agent 92 is trading with agent 16"
       ]
      },
      {
       "output_type": "stream",
       "stream": "stdout",
       "text": [
        "\n",
        "Agent 95 is trading with agent 97\n",
        "Agent 96 is trading with agent 85\n",
        "Agent 97 is trading with agent 95\n",
        "Step: 23\n",
        "Number of Agents: 69\n",
        "Number of Goods: 248\n",
        "Gini: 30.7505222516\n",
        "\n",
        "\n",
        "Agent 2 is trading with agent 10\n",
        "Agent 3 is trading with agent 82"
       ]
      },
      {
       "output_type": "stream",
       "stream": "stdout",
       "text": [
        "\n",
        "Agent 4 is trading with agent 79\n",
        "Agent 5 divided and created Agent 116\n",
        "Agent 10 is trading with agent 2\n",
        "Agent 13 is trading with agent 25\n",
        "Agent 21 is trading with agent 22\n",
        "Agent 22 is trading with agent 21"
       ]
      },
      {
       "output_type": "stream",
       "stream": "stdout",
       "text": [
        "\n",
        "Agent 25 is trading with agent 13\n",
        "Agent 57 is trading with agent 72"
       ]
      },
      {
       "output_type": "stream",
       "stream": "stdout",
       "text": [
        "\n",
        "Agent 72 is trading with agent 57"
       ]
      },
      {
       "output_type": "stream",
       "stream": "stdout",
       "text": [
        "\n",
        "Agent 79 is trading with agent 4\n",
        "Agent 82 is trading with agent 3\n",
        "Agent 85 is trading with agent 96\n",
        "Agent 95 is trading with agent 97"
       ]
      },
      {
       "output_type": "stream",
       "stream": "stdout",
       "text": [
        "\n",
        "Agent 96 is trading with agent 85\n",
        "Agent 97 is trading with agent 95\n",
        "Agent 106 is trading with agent 87\n",
        "Step: 24"
       ]
      },
      {
       "output_type": "stream",
       "stream": "stdout",
       "text": [
        "\n",
        "Number of Agents: 70\n",
        "Number of Goods: 252\n",
        "Gini: 31.1603980435\n",
        "\n",
        "\n",
        "Agent 2 is trading with agent 10\n",
        "Agent 4 is trading with agent 79\n",
        "Agent 10 is trading with agent 2\n",
        "Agent 13 is trading with agent 25\n",
        "Agent 16 is trading with agent 92"
       ]
      },
      {
       "output_type": "stream",
       "stream": "stdout",
       "text": [
        "\n",
        "Agent 21 is trading with agent 22\n",
        "Agent 22 is trading with agent 21\n",
        "Agent 25 is trading with agent 13\n",
        "Agent 27 divided and created Agent 117\n",
        "Agent 57 is trading with agent 76"
       ]
      },
      {
       "output_type": "stream",
       "stream": "stdout",
       "text": [
        "\n",
        "Agent 76 is trading with agent 57\n",
        "Agent 79 is trading with agent 4"
       ]
      },
      {
       "output_type": "stream",
       "stream": "stdout",
       "text": [
        "\n",
        "Agent 85 is trading with agent 96\n",
        "Agent 86 has died\n",
        "Agent 92 is trading with agent 16"
       ]
      },
      {
       "output_type": "stream",
       "stream": "stdout",
       "text": [
        "\n",
        "Agent 95 is trading with agent 97\n",
        "Agent 96 is trading with agent 85\n",
        "Agent 97 is trading with agent 95\n",
        "Agent 101 is trading with agent 23\n",
        "Step: 25"
       ]
      },
      {
       "output_type": "stream",
       "stream": "stdout",
       "text": [
        "\n",
        "Number of Agents: 70\n",
        "Number of Goods: 250\n",
        "Gini: 31.4464179485\n",
        "\n",
        "\n",
        "Agent 2 is trading with agent 10\n",
        "Agent 3 is trading with agent 82\n",
        "Agent 4 is trading with agent 79\n",
        "Agent 10 is trading with agent 2\n",
        "Agent 13 is trading with agent 94\n",
        "Agent 16 is trading with agent 28"
       ]
      },
      {
       "output_type": "stream",
       "stream": "stdout",
       "text": [
        "\n",
        "Agent 21 is trading with agent 22\n",
        "Agent 22 is trading with agent 21\n",
        "Agent 23 is trading with agent 101\n",
        "Agent 57 is trading with agent 76"
       ]
      },
      {
       "output_type": "stream",
       "stream": "stdout",
       "text": [
        "\n",
        "Agent 58 is trading with agent 28\n",
        "Agent 76 is trading with agent 57"
       ]
      },
      {
       "output_type": "stream",
       "stream": "stdout",
       "text": [
        "\n",
        "Agent 79 is trading with agent 4\n",
        "Agent 82 is trading with agent 3\n",
        "Agent 85 is trading with agent 96\n",
        "Agent 90 divided and created Agent 118"
       ]
      },
      {
       "output_type": "stream",
       "stream": "stdout",
       "text": [
        "\n",
        "Agent 94 is trading with agent 13\n",
        "Agent 95 is trading with agent 97\n",
        "Agent 96 is trading with agent 85\n",
        "Agent 97 is trading with agent 95\n",
        "Agent 101 is trading with agent 23\n",
        "Step: 26"
       ]
      },
      {
       "output_type": "stream",
       "stream": "stdout",
       "text": [
        "\n",
        "Number of Agents: 71\n",
        "Number of Goods: 255\n",
        "Gini: 30.8442881786\n",
        "\n",
        "\n",
        "Agent 2 is trading with agent 10\n",
        "Agent 3 is trading with agent 82\n",
        "Agent 4 is trading with agent 79\n",
        "Agent 10 is trading with agent 2\n",
        "Agent 13 is trading with agent 94"
       ]
      },
      {
       "output_type": "stream",
       "stream": "stdout",
       "text": [
        "\n",
        "Agent 21 is trading with agent 22\n",
        "Agent 22 is trading with agent 21\n",
        "Agent 23 is trading with agent 101\n",
        "Agent 28 is trading with agent 16"
       ]
      },
      {
       "output_type": "stream",
       "stream": "stdout",
       "text": [
        "\n",
        "Agent 41 has died\n",
        "Agent 57 is trading with agent 72"
       ]
      },
      {
       "output_type": "stream",
       "stream": "stdout",
       "text": [
        "\n",
        "Agent 72 is trading with agent 57"
       ]
      },
      {
       "output_type": "stream",
       "stream": "stdout",
       "text": [
        "\n",
        "Agent 79 is trading with agent 4\n",
        "Agent 82 is trading with agent 3\n",
        "Agent 87 is trading with agent 106"
       ]
      },
      {
       "output_type": "stream",
       "stream": "stdout",
       "text": [
        "\n",
        "Agent 94 is trading with agent 13\n",
        "Agent 95 is trading with agent 97\n",
        "Agent 97 is trading with agent 95\n",
        "Agent 101 is trading with agent 23\n",
        "Agent 106 is trading with agent 87"
       ]
      },
      {
       "output_type": "stream",
       "stream": "stdout",
       "text": [
        "\n",
        "Step: 27\n",
        "Number of Agents: 70\n",
        "Number of Goods: 257\n",
        "Gini: 31.3081585845\n",
        "\n",
        "\n",
        "Agent 2 is trading with agent 10\n",
        "Agent 3 is trading with agent 82"
       ]
      },
      {
       "output_type": "stream",
       "stream": "stdout",
       "text": [
        "\n",
        "Agent 4 is trading with agent 79\n",
        "Agent 10 is trading with agent 2\n",
        "Agent 13 is trading with agent 94\n",
        "Agent 16 is trading with agent 92\n",
        "Agent 21 is trading with agent 22\n",
        "Agent 22 is trading with agent 21"
       ]
      },
      {
       "output_type": "stream",
       "stream": "stdout",
       "text": [
        "\n",
        "Agent 23 is trading with agent 101\n",
        "Agent 28 is trading with agent 58\n",
        "Agent 31 divided and created Agent 119\n",
        "Agent 57 is trading with agent 72"
       ]
      },
      {
       "output_type": "stream",
       "stream": "stdout",
       "text": [
        "\n",
        "Agent 58 is trading with agent 28\n",
        "Agent 72 is trading with agent 57"
       ]
      },
      {
       "output_type": "stream",
       "stream": "stdout",
       "text": [
        "\n",
        "Agent 82 is trading with agent 3\n",
        "Agent 92 is trading with agent 16"
       ]
      },
      {
       "output_type": "stream",
       "stream": "stdout",
       "text": [
        "\n",
        "Agent 94 is trading with agent 13\n",
        "Agent 95 is trading with agent 97\n",
        "Agent 97 is trading with agent 95\n",
        "Agent 101 is trading with agent 23"
       ]
      },
      {
       "output_type": "stream",
       "stream": "stdout",
       "text": [
        "\n",
        "Step: 28\n",
        "Number of Agents: 71\n",
        "Number of Goods: 268\n",
        "Gini: 30.8678417812"
       ]
      },
      {
       "output_type": "stream",
       "stream": "stdout",
       "text": [
        "\n",
        "\n",
        "\n",
        "Agent 2 is trading with agent 10\n",
        "Agent 3 is trading with agent 82\n",
        "Agent 10 is trading with agent 2\n",
        "Agent 13 is trading with agent 25\n",
        "Agent 21 is trading with agent 22"
       ]
      },
      {
       "output_type": "stream",
       "stream": "stdout",
       "text": [
        "\n",
        "Agent 22 is trading with agent 21\n",
        "Agent 23 is trading with agent 101\n",
        "Agent 25 is trading with agent 13\n",
        "Agent 28 is trading with agent 16\n",
        "Agent 57 is trading with agent 76"
       ]
      },
      {
       "output_type": "stream",
       "stream": "stdout",
       "text": [
        "\n",
        "Agent 76 is trading with agent 57"
       ]
      },
      {
       "output_type": "stream",
       "stream": "stdout",
       "text": [
        "\n",
        "Agent 82 is trading with agent 3\n",
        "Agent 95 is trading with agent 97"
       ]
      },
      {
       "output_type": "stream",
       "stream": "stdout",
       "text": [
        "\n",
        "Agent 97 is trading with agent 95\n",
        "Agent 101 is trading with agent 23"
       ]
      },
      {
       "output_type": "stream",
       "stream": "stdout",
       "text": [
        "\n",
        "Step: 29"
       ]
      },
      {
       "output_type": "stream",
       "stream": "stdout",
       "text": [
        "\n",
        "Number of Agents: 71\n",
        "Number of Goods: 276\n",
        "Gini: 32.6183750469\n",
        "\n",
        "\n",
        "Agent 2 is trading with agent 10\n",
        "Agent 3 is trading with agent 51\n",
        "Agent 10 is trading with agent 2\n",
        "Agent 12 divided and created Agent 120"
       ]
      },
      {
       "output_type": "stream",
       "stream": "stdout",
       "text": [
        "\n",
        "Agent 13 is trading with agent 25\n",
        "Agent 16 is trading with agent 28"
       ]
      },
      {
       "output_type": "stream",
       "stream": "stdout",
       "text": [
        "\n",
        "Agent 21 is trading with agent 22\n",
        "Agent 22 is trading with agent 21\n",
        "Agent 23 is trading with agent 101\n",
        "Agent 25 is trading with agent 13\n",
        "Agent 28 is trading with agent 58"
       ]
      },
      {
       "output_type": "stream",
       "stream": "stdout",
       "text": [
        "\n",
        "Agent 51 is trading with agent 3\n",
        "Agent 57 is trading with agent 72"
       ]
      },
      {
       "output_type": "stream",
       "stream": "stdout",
       "text": [
        "\n",
        "Agent 58 is trading with agent 28\n",
        "Agent 65 has died\n",
        "Agent 72 is trading with agent 57"
       ]
      },
      {
       "output_type": "stream",
       "stream": "stdout",
       "text": [
        "\n",
        "Agent 87 is trading with agent 106"
       ]
      },
      {
       "output_type": "stream",
       "stream": "stdout",
       "text": [
        "\n",
        "Agent 95 is trading with agent 97\n",
        "Agent 96 divided and created Agent 121\n",
        "Agent 97 is trading with agent 95"
       ]
      },
      {
       "output_type": "stream",
       "stream": "stdout",
       "text": [
        "\n",
        "Agent 101 is trading with agent 23\n",
        "Agent 106 is trading with agent 87\n",
        "Step: 30"
       ]
      },
      {
       "output_type": "stream",
       "stream": "stdout",
       "text": [
        "\n",
        "Number of Agents: 72\n",
        "Number of Goods: 283\n",
        "Gini: 31.0699588477\n",
        "\n",
        "\n",
        "Agent 2 is trading with agent 10\n",
        "Agent 3 is trading with agent 51\n",
        "Agent 10 is trading with agent 2\n",
        "Agent 13 is trading with agent 25"
       ]
      },
      {
       "output_type": "stream",
       "stream": "stdout",
       "text": [
        "\n",
        "Agent 21 is trading with agent 22\n",
        "Agent 22 is trading with agent 21\n",
        "Agent 23 is trading with agent 101\n",
        "Agent 25 is trading with agent 13\n",
        "Agent 28 is trading with agent 16"
       ]
      },
      {
       "output_type": "stream",
       "stream": "stdout",
       "text": [
        "\n",
        "Agent 51 is trading with agent 3\n",
        "Agent 57 is trading with agent 72"
       ]
      },
      {
       "output_type": "stream",
       "stream": "stdout",
       "text": [
        "\n",
        "Agent 72 is trading with agent 57"
       ]
      },
      {
       "output_type": "stream",
       "stream": "stdout",
       "text": [
        "\n",
        "Agent 88 has died"
       ]
      },
      {
       "output_type": "stream",
       "stream": "stdout",
       "text": [
        "\n",
        "Agent 95 is trading with agent 97"
       ]
      },
      {
       "output_type": "stream",
       "stream": "stdout",
       "text": [
        "\n",
        "Agent 97 is trading with agent 95\n",
        "Agent 101 is trading with agent 23\n",
        "Step: 31"
       ]
      },
      {
       "output_type": "stream",
       "stream": "stdout",
       "text": [
        "\n",
        "Number of Agents: 71\n",
        "Number of Goods: 281\n",
        "Gini: 31.7553294006\n",
        "\n",
        "\n",
        "Agent 2 is trading with agent 10\n",
        "Agent 3 is trading with agent 82\n",
        "Agent 10 is trading with agent 2"
       ]
      },
      {
       "output_type": "stream",
       "stream": "stdout",
       "text": [
        "\n",
        "Agent 13 is trading with agent 94\n",
        "Agent 16 is trading with agent 92\n",
        "Agent 21 is trading with agent 22\n",
        "Agent 22 is trading with agent 21"
       ]
      },
      {
       "output_type": "stream",
       "stream": "stdout",
       "text": [
        "\n",
        "Agent 23 is trading with agent 101\n",
        "Agent 57 is trading with agent 72"
       ]
      },
      {
       "output_type": "stream",
       "stream": "stdout",
       "text": [
        "\n",
        "Agent 72 is trading with agent 57"
       ]
      },
      {
       "output_type": "stream",
       "stream": "stdout",
       "text": [
        "\n",
        "Agent 82 is trading with agent 3\n",
        "Agent 87 is trading with agent 106"
       ]
      },
      {
       "output_type": "stream",
       "stream": "stdout",
       "text": [
        "\n",
        "Agent 92 is trading with agent 16\n",
        "Agent 94 is trading with agent 13\n",
        "Agent 95 is trading with agent 97\n",
        "Agent 97 is trading with agent 95\n",
        "Agent 101 is trading with agent 23"
       ]
      },
      {
       "output_type": "stream",
       "stream": "stdout",
       "text": [
        "\n",
        "Agent 106 is trading with agent 87\n",
        "Agent 108 divided and created Agent 122\n",
        "Step: 32"
       ]
      },
      {
       "output_type": "stream",
       "stream": "stdout",
       "text": [
        "\n",
        "Number of Agents: 72\n",
        "Number of Goods: 284\n",
        "Gini: 32.7234603933\n",
        "\n",
        "\n",
        "Agent 3 is trading with agent 82\n",
        "Agent 13 is trading with agent 25"
       ]
      },
      {
       "output_type": "stream",
       "stream": "stdout",
       "text": [
        "\n",
        "Agent 16 is trading with agent 28\n",
        "Agent 21 is trading with agent 22\n",
        "Agent 22 is trading with agent 21\n",
        "Agent 23 is trading with agent 101\n",
        "Agent 25 is trading with agent 13\n",
        "Agent 58 is trading with agent 28"
       ]
      },
      {
       "output_type": "stream",
       "stream": "stdout",
       "text": [
        "\n",
        "Agent 82 is trading with agent 3"
       ]
      },
      {
       "output_type": "stream",
       "stream": "stdout",
       "text": [
        "\n",
        "Agent 87 is trading with agent 106\n",
        "Agent 95 is trading with agent 97"
       ]
      },
      {
       "output_type": "stream",
       "stream": "stdout",
       "text": [
        "\n",
        "Agent 97 is trading with agent 95\n",
        "Agent 101 is trading with agent 23"
       ]
      },
      {
       "output_type": "stream",
       "stream": "stdout",
       "text": [
        "\n",
        "Agent 106 is trading with agent 87\n",
        "Step: 33"
       ]
      },
      {
       "output_type": "stream",
       "stream": "stdout",
       "text": [
        "\n",
        "Number of Agents: 72\n",
        "Number of Goods: 281\n",
        "Gini: 33.1665234822\n",
        "\n",
        "\n",
        "Agent 3 is trading with agent 82\n",
        "Agent 13 is trading with agent 94"
       ]
      },
      {
       "output_type": "stream",
       "stream": "stdout",
       "text": [
        "\n",
        "Agent 21 is trading with agent 22\n",
        "Agent 22 is trading with agent 21\n",
        "Agent 23 is trading with agent 101\n",
        "Agent 27 divided and created Agent 123\n",
        "Agent 28 is trading with agent 16"
       ]
      },
      {
       "output_type": "stream",
       "stream": "stdout",
       "text": [
        "\n",
        "Agent 57 divided and created Agent 124"
       ]
      },
      {
       "output_type": "stream",
       "stream": "stdout",
       "text": [
        "\n",
        "Agent 79 has died"
       ]
      },
      {
       "output_type": "stream",
       "stream": "stdout",
       "text": [
        "\n",
        "Agent 125 was created\n",
        "Agent 82 is trading with agent 3\n",
        "Agent 95 is trading with agent 97"
       ]
      },
      {
       "output_type": "stream",
       "stream": "stdout",
       "text": [
        "\n",
        "Agent 97 is trading with agent 95\n",
        "Agent 100 is trading with agent 96\n",
        "Agent 101 is trading with agent 23\n",
        "Agent 107 divided and created Agent 126"
       ]
      },
      {
       "output_type": "stream",
       "stream": "stdout",
       "text": [
        "\n",
        "Agent 113 divided and created Agent 127\n",
        "Step: 34"
       ]
      },
      {
       "output_type": "stream",
       "stream": "stdout",
       "text": [
        "\n",
        "Number of Agents: 76\n",
        "Number of Goods: 281\n",
        "Gini: 29.2703106651\n",
        "\n",
        "\n",
        "Agent 2 has died\n",
        "Agent 128 was created\n",
        "Agent 4 is trading with agent 94\n",
        "Agent 21 is trading with agent 22"
       ]
      },
      {
       "output_type": "stream",
       "stream": "stdout",
       "text": [
        "\n",
        "Agent 22 is trading with agent 21\n",
        "Agent 23 is trading with agent 101\n",
        "Agent 94 is trading with agent 13"
       ]
      },
      {
       "output_type": "stream",
       "stream": "stdout",
       "text": [
        "\n",
        "Agent 96 is trading with agent 100\n",
        "Agent 100 is trading with agent 96\n",
        "Agent 101 is trading with agent 23"
       ]
      },
      {
       "output_type": "stream",
       "stream": "stdout",
       "text": [
        "\n",
        "Step: 35"
       ]
      },
      {
       "output_type": "stream",
       "stream": "stdout",
       "text": [
        "\n",
        "Number of Agents: 76\n",
        "Number of Goods: 276\n",
        "Gini: 28.7449142738\n",
        "\n",
        "\n",
        "Agent 3 is trading with agent 51\n",
        "Agent 10 divided and created Agent 129\n",
        "Agent 13 is trading with agent 25\n",
        "Agent 21 is trading with agent 22"
       ]
      },
      {
       "output_type": "stream",
       "stream": "stdout",
       "text": [
        "\n",
        "Agent 22 is trading with agent 21\n",
        "Agent 23 is trading with agent 101\n",
        "Agent 25 is trading with agent 13\n",
        "Agent 37 divided and created Agent 130"
       ]
      },
      {
       "output_type": "stream",
       "stream": "stdout",
       "text": [
        "\n",
        "Agent 57 is trading with agent 76\n",
        "Agent 76 is trading with agent 57"
       ]
      },
      {
       "output_type": "stream",
       "stream": "stdout",
       "text": [
        "\n",
        "Agent 80 is trading with agent 51\n",
        "Agent 95 divided and created Agent 131"
       ]
      },
      {
       "output_type": "stream",
       "stream": "stdout",
       "text": [
        "\n",
        "Agent 96 is trading with agent 100\n",
        "Agent 100 is trading with agent 96\n",
        "Agent 101 is trading with agent 23"
       ]
      },
      {
       "output_type": "stream",
       "stream": "stdout",
       "text": [
        "\n",
        "Agent 114 has died\n",
        "Step: 36"
       ]
      },
      {
       "output_type": "stream",
       "stream": "stdout",
       "text": [
        "\n",
        "Number of Agents: 78\n",
        "Number of Goods: 273\n",
        "Gini: 27.3362821442\n",
        "\n",
        "\n",
        "Agent 3 is trading with agent 82\n",
        "Agent 13 is trading with agent 25\n",
        "Agent 21 is trading with agent 22"
       ]
      },
      {
       "output_type": "stream",
       "stream": "stdout",
       "text": [
        "\n",
        "Agent 22 is trading with agent 21\n",
        "Agent 23 is trading with agent 101\n",
        "Agent 25 is trading with agent 4\n",
        "Agent 57 is trading with agent 76"
       ]
      },
      {
       "output_type": "stream",
       "stream": "stdout",
       "text": [
        "\n",
        "Agent 58 is trading with agent 62\n",
        "Agent 62 is trading with agent 58"
       ]
      },
      {
       "output_type": "stream",
       "stream": "stdout",
       "text": [
        "\n",
        "Agent 76 is trading with agent 57\n",
        "Agent 82 is trading with agent 3\n",
        "Agent 96 is trading with agent 100"
       ]
      },
      {
       "output_type": "stream",
       "stream": "stdout",
       "text": [
        "\n",
        "Agent 100 is trading with agent 96\n",
        "Agent 111 is trading with agent 32"
       ]
      },
      {
       "output_type": "stream",
       "stream": "stdout",
       "text": [
        "\n",
        "Step: 37"
       ]
      },
      {
       "output_type": "stream",
       "stream": "stdout",
       "text": [
        "\n",
        "Number of Agents: 78\n",
        "Number of Goods: 282\n",
        "Gini: 27.8575201734\n",
        "\n",
        "\n",
        "Agent 3 is trading with agent 51\n",
        "Agent 21 is trading with agent 22"
       ]
      },
      {
       "output_type": "stream",
       "stream": "stdout",
       "text": [
        "\n",
        "Agent 22 is trading with agent 21\n",
        "Agent 32 is trading with agent 111"
       ]
      },
      {
       "output_type": "stream",
       "stream": "stdout",
       "text": [
        "\n",
        "Agent 51 is trading with agent 80\n",
        "Agent 57 is trading with agent 72\n",
        "Agent 58 is trading with agent 62"
       ]
      },
      {
       "output_type": "stream",
       "stream": "stdout",
       "text": [
        "\n",
        "Agent 62 is trading with agent 58\n",
        "Agent 72 is trading with agent 57"
       ]
      },
      {
       "output_type": "stream",
       "stream": "stdout",
       "text": [
        "\n",
        "Agent 80 is trading with agent 51\n",
        "Agent 81 has died\n",
        "Agent 87 is trading with agent 106"
       ]
      },
      {
       "output_type": "stream",
       "stream": "stdout",
       "text": [
        "\n",
        "Agent 90 divided and created Agent 132\n",
        "Agent 94 is trading with agent 4\n",
        "Agent 96 is trading with agent 100\n",
        "Agent 97 is trading with agent 95\n",
        "Agent 100 is trading with agent 96\n",
        "Agent 106 is trading with agent 87"
       ]
      },
      {
       "output_type": "stream",
       "stream": "stdout",
       "text": [
        "\n",
        "Agent 109 has died\n",
        "Agent 133 was created\n",
        "Agent 111 is trading with agent 32\n",
        "Step: 38"
       ]
      },
      {
       "output_type": "stream",
       "stream": "stdout",
       "text": [
        "\n",
        "Number of Agents: 78\n",
        "Number of Goods: 288\n",
        "Gini: 26.4473676435\n",
        "\n",
        "\n",
        "Agent 3 is trading with agent 82\n",
        "Agent 4 is trading with agent 94\n",
        "Agent 16 is trading with agent 92"
       ]
      },
      {
       "output_type": "stream",
       "stream": "stdout",
       "text": [
        "\n",
        "Agent 21 is trading with agent 22\n",
        "Agent 22 is trading with agent 21\n",
        "Agent 25 is trading with agent 13\n",
        "Agent 32 is trading with agent 111"
       ]
      },
      {
       "output_type": "stream",
       "stream": "stdout",
       "text": [
        "\n",
        "Agent 51 is trading with agent 80\n",
        "Agent 80 is trading with agent 51"
       ]
      },
      {
       "output_type": "stream",
       "stream": "stdout",
       "text": [
        "\n",
        "Agent 82 is trading with agent 3\n",
        "Agent 87 is trading with agent 106\n",
        "Agent 92 is trading with agent 16"
       ]
      },
      {
       "output_type": "stream",
       "stream": "stdout",
       "text": [
        "\n",
        "Agent 94 is trading with agent 4\n",
        "Agent 95 is trading with agent 97\n",
        "Agent 96 is trading with agent 100\n",
        "Agent 100 is trading with agent 96\n",
        "Agent 106 is trading with agent 87"
       ]
      },
      {
       "output_type": "stream",
       "stream": "stdout",
       "text": [
        "\n",
        "Agent 111 is trading with agent 32\n",
        "Step: 39"
       ]
      },
      {
       "output_type": "stream",
       "stream": "stdout",
       "text": [
        "\n",
        "Number of Agents: 78\n",
        "Number of Goods: 283\n",
        "Gini: 27.3899577447\n",
        "\n",
        "\n",
        "Agent 3 is trading with agent 82\n",
        "Agent 4 is trading with agent 94\n",
        "Agent 16 is trading with agent 92"
       ]
      },
      {
       "output_type": "stream",
       "stream": "stdout",
       "text": [
        "\n",
        "Agent 21 is trading with agent 22\n",
        "Agent 22 is trading with agent 21\n",
        "Agent 23 is trading with agent 101\n",
        "Agent 28 is trading with agent 58"
       ]
      },
      {
       "output_type": "stream",
       "stream": "stdout",
       "text": [
        "\n",
        "Agent 32 is trading with agent 111\n",
        "Agent 45 divided and created Agent 134\n",
        "Agent 72 is trading with agent 57"
       ]
      },
      {
       "output_type": "stream",
       "stream": "stdout",
       "text": [
        "\n",
        "Agent 82 is trading with agent 3\n",
        "Agent 83 has died\n",
        "Agent 135 was created\n",
        "Agent 92 is trading with agent 16"
       ]
      },
      {
       "output_type": "stream",
       "stream": "stdout",
       "text": [
        "\n",
        "Agent 94 is trading with agent 13\n",
        "Agent 96 is trading with agent 100\n",
        "Agent 97 is trading with agent 95\n",
        "Agent 100 is trading with agent 96\n",
        "Agent 101 is trading with agent 23"
       ]
      },
      {
       "output_type": "stream",
       "stream": "stdout",
       "text": [
        "\n",
        "Agent 111 is trading with agent 32\n",
        "Step: 40"
       ]
      },
      {
       "output_type": "stream",
       "stream": "stdout",
       "text": [
        "\n",
        "Number of Agents: 79\n",
        "Number of Goods: 282\n",
        "Gini: 27.1428172241\n",
        "\n",
        "\n",
        "Agent 13 is trading with agent 25"
       ]
      },
      {
       "output_type": "stream",
       "stream": "stdout",
       "text": [
        "\n",
        "Agent 21 is trading with agent 22\n",
        "Agent 22 is trading with agent 21\n",
        "Agent 23 is trading with agent 101"
       ]
      },
      {
       "output_type": "stream",
       "stream": "stdout",
       "text": [
        "\n",
        "Agent 25 is trading with agent 4\n",
        "Agent 28 is trading with agent 16\n",
        "Agent 57 is trading with agent 72"
       ]
      },
      {
       "output_type": "stream",
       "stream": "stdout",
       "text": [
        "\n",
        "Agent 72 is trading with agent 57\n",
        "Agent 80 is trading with agent 36\n",
        "Agent 95 is trading with agent 97"
       ]
      },
      {
       "output_type": "stream",
       "stream": "stdout",
       "text": [
        "\n",
        "Agent 96 is trading with agent 100\n",
        "Agent 97 is trading with agent 95\n",
        "Agent 98 is trading with agent 12\n",
        "Agent 100 is trading with agent 96\n",
        "Agent 101 is trading with agent 23\n",
        "Step: 41"
       ]
      },
      {
       "output_type": "stream",
       "stream": "stdout",
       "text": [
        "\n",
        "Number of Agents: 79\n",
        "Number of Goods: 283\n",
        "Gini: 27.6539849424\n",
        "\n",
        "\n",
        "Agent 4 is trading with agent 25\n",
        "Agent 4 has died\n",
        "Agent 12 is trading with agent 98"
       ]
      },
      {
       "output_type": "stream",
       "stream": "stdout",
       "text": [
        "\n",
        "Agent 13 is trading with agent 94\n",
        "Agent 21 is trading with agent 22\n",
        "Agent 22 is trading with agent 21\n",
        "Agent 23 is trading with agent 101\n",
        "Agent 36 is trading with agent 80"
       ]
      },
      {
       "output_type": "stream",
       "stream": "stdout",
       "text": [
        "\n",
        "Agent 48 is trading with agent 52\n",
        "Agent 52 is trading with agent 48\n",
        "Agent 57 is trading with agent 72"
       ]
      },
      {
       "output_type": "stream",
       "stream": "stdout",
       "text": [
        "\n",
        "Agent 72 is trading with agent 57"
       ]
      },
      {
       "output_type": "stream",
       "stream": "stdout",
       "text": [
        "\n",
        "Agent 87 is trading with agent 106"
       ]
      },
      {
       "output_type": "stream",
       "stream": "stdout",
       "text": [
        "\n",
        "Agent 94 is trading with agent 13\n",
        "Agent 96 is trading with agent 100\n",
        "Agent 98 is trading with agent 12\n",
        "Agent 100 is trading with agent 96\n",
        "Agent 101 is trading with agent 23"
       ]
      },
      {
       "output_type": "stream",
       "stream": "stdout",
       "text": [
        "\n",
        "Agent 106 is trading with agent 87\n",
        "Agent 117 divided and created Agent 136"
       ]
      },
      {
       "output_type": "stream",
       "stream": "stdout",
       "text": [
        "\n",
        "Step: 42"
       ]
      },
      {
       "output_type": "stream",
       "stream": "stdout",
       "text": [
        "\n",
        "Number of Agents: 79\n",
        "Number of Goods: 282\n",
        "Gini: 27.0602758728\n",
        "\n",
        "\n",
        "Agent 12 is trading with agent 98\n",
        "Agent 13 is trading with agent 94\n",
        "Agent 14 is trading with agent 95"
       ]
      },
      {
       "output_type": "stream",
       "stream": "stdout",
       "text": [
        "\n",
        "Agent 16 is trading with agent 92\n",
        "Agent 21 is trading with agent 22\n",
        "Agent 22 is trading with agent 21\n",
        "Agent 23 is trading with agent 101\n",
        "Agent 48 is trading with agent 52"
       ]
      },
      {
       "output_type": "stream",
       "stream": "stdout",
       "text": [
        "\n",
        "Agent 52 is trading with agent 48\n",
        "Agent 76 is trading with agent 57"
       ]
      },
      {
       "output_type": "stream",
       "stream": "stdout",
       "text": [
        "\n",
        "Agent 80 is trading with agent 36\n",
        "Agent 82 has died\n",
        "Agent 92 is trading with agent 16"
       ]
      },
      {
       "output_type": "stream",
       "stream": "stdout",
       "text": [
        "\n",
        "Agent 94 is trading with agent 13\n",
        "Agent 96 is trading with agent 100\n",
        "Agent 98 is trading with agent 12\n",
        "Agent 100 is trading with agent 96\n",
        "Agent 101 is trading with agent 23"
       ]
      },
      {
       "output_type": "stream",
       "stream": "stdout",
       "text": [
        "\n",
        "Step: 43"
       ]
      },
      {
       "output_type": "stream",
       "stream": "stdout",
       "text": [
        "\n",
        "Number of Agents: 78\n",
        "Number of Goods: 275\n",
        "Gini: 27.9604907869\n",
        "\n",
        "\n",
        "Agent 12 is trading with agent 98\n",
        "Agent 13 is trading with agent 94\n",
        "Agent 16 is trading with agent 92"
       ]
      },
      {
       "output_type": "stream",
       "stream": "stdout",
       "text": [
        "\n",
        "Agent 21 is trading with agent 22\n",
        "Agent 22 is trading with agent 21\n",
        "Agent 23 is trading with agent 101\n",
        "Agent 36 is trading with agent 80"
       ]
      },
      {
       "output_type": "stream",
       "stream": "stdout",
       "text": [
        "\n",
        "Agent 46 is trading with agent 31\n",
        "Agent 48 is trading with agent 52\n",
        "Agent 52 is trading with agent 48\n",
        "Agent 57 is trading with agent 76"
       ]
      },
      {
       "output_type": "stream",
       "stream": "stdout",
       "text": [
        "\n",
        "Agent 76 is trading with agent 57"
       ]
      },
      {
       "output_type": "stream",
       "stream": "stdout",
       "text": [
        "\n",
        "Agent 94 is trading with agent 13"
       ]
      },
      {
       "output_type": "stream",
       "stream": "stdout",
       "text": [
        "\n",
        "Agent 96 is trading with agent 100\n",
        "Agent 98 is trading with agent 12\n",
        "Agent 100 is trading with agent 96\n",
        "Step: 44"
       ]
      },
      {
       "output_type": "stream",
       "stream": "stdout",
       "text": [
        "\n",
        "Number of Agents: 78\n",
        "Number of Goods: 279\n",
        "Gini: 28.9438881042\n",
        "\n",
        "\n",
        "Agent 12 is trading with agent 98"
       ]
      },
      {
       "output_type": "stream",
       "stream": "stdout",
       "text": [
        "\n",
        "Agent 13 is trading with agent 94\n",
        "Agent 21 is trading with agent 22\n",
        "Agent 22 is trading with agent 21\n",
        "Agent 31 is trading with agent 46"
       ]
      },
      {
       "output_type": "stream",
       "stream": "stdout",
       "text": [
        "\n",
        "Agent 46 is trading with agent 31"
       ]
      },
      {
       "output_type": "stream",
       "stream": "stdout",
       "text": [
        "\n",
        "Agent 48 is trading with agent 52\n",
        "Agent 52 is trading with agent 48\n",
        "Agent 57 is trading with agent 76\n",
        "Agent 58 is trading with agent 62"
       ]
      },
      {
       "output_type": "stream",
       "stream": "stdout",
       "text": [
        "\n",
        "Agent 62 is trading with agent 58\n",
        "Agent 76 is trading with agent 57\n",
        "Agent 80 is trading with agent 36"
       ]
      },
      {
       "output_type": "stream",
       "stream": "stdout",
       "text": [
        "\n",
        "Agent 94 is trading with agent 13"
       ]
      },
      {
       "output_type": "stream",
       "stream": "stdout",
       "text": [
        "\n",
        "Agent 95 is trading with agent 14\n",
        "Agent 96 is trading with agent 100\n",
        "Agent 98 is trading with agent 12\n",
        "Agent 100 is trading with agent 96\n",
        "Step: 45"
       ]
      },
      {
       "output_type": "stream",
       "stream": "stdout",
       "text": [
        "\n",
        "Number of Agents: 78\n",
        "Number of Goods: 274\n",
        "Gini: 30.4297885053\n",
        "\n",
        "\n",
        "Agent 11 divided and created Agent 137\n",
        "Agent 12 is trading with agent 98\n",
        "Agent 13 is trading with agent 94\n",
        "Agent 14 is trading with agent 95\n",
        "Agent 16 is trading with agent 92"
       ]
      },
      {
       "output_type": "stream",
       "stream": "stdout",
       "text": [
        "\n",
        "Agent 21 is trading with agent 22\n",
        "Agent 22 is trading with agent 21\n",
        "Agent 31 is trading with agent 46"
       ]
      },
      {
       "output_type": "stream",
       "stream": "stdout",
       "text": [
        "\n",
        "Agent 36 is trading with agent 80\n",
        "Agent 46 is trading with agent 31\n",
        "Agent 48 is trading with agent 52"
       ]
      },
      {
       "output_type": "stream",
       "stream": "stdout",
       "text": [
        "\n",
        "Agent 52 is trading with agent 48\n",
        "Agent 57 is trading with agent 76"
       ]
      },
      {
       "output_type": "stream",
       "stream": "stdout",
       "text": [
        "\n",
        "Agent 58 is trading with agent 28\n",
        "Agent 76 is trading with agent 57"
       ]
      },
      {
       "output_type": "stream",
       "stream": "stdout",
       "text": [
        "\n",
        "Agent 80 is trading with agent 36\n",
        "Agent 94 is trading with agent 13"
       ]
      },
      {
       "output_type": "stream",
       "stream": "stdout",
       "text": [
        "\n",
        "Agent 95 is trading with agent 14\n",
        "Agent 96 is trading with agent 100\n",
        "Agent 98 is trading with agent 12\n",
        "Agent 100 is trading with agent 96\n",
        "Agent 126 divided and created Agent 138"
       ]
      },
      {
       "output_type": "stream",
       "stream": "stdout",
       "text": [
        "\n",
        "Step: 46"
       ]
      },
      {
       "output_type": "stream",
       "stream": "stdout",
       "text": [
        "\n",
        "Number of Agents: 80\n",
        "Number of Goods: 272\n",
        "Gini: 30.037202381\n",
        "\n",
        "\n",
        "Agent 12 is trading with agent 98\n",
        "Agent 13 is trading with agent 94"
       ]
      },
      {
       "output_type": "stream",
       "stream": "stdout",
       "text": [
        "\n",
        "Agent 14 is trading with agent 95\n",
        "Agent 21 is trading with agent 22\n",
        "Agent 22 is trading with agent 21\n",
        "Agent 28 is trading with agent 16"
       ]
      },
      {
       "output_type": "stream",
       "stream": "stdout",
       "text": [
        "\n",
        "Agent 30 divided and created Agent 139\n",
        "Agent 31 is trading with agent 46\n",
        "Agent 36 is trading with agent 80\n",
        "Agent 46 is trading with agent 31\n",
        "Agent 48 is trading with agent 52"
       ]
      },
      {
       "output_type": "stream",
       "stream": "stdout",
       "text": [
        "\n",
        "Agent 52 is trading with agent 48\n",
        "Agent 57 is trading with agent 72"
       ]
      },
      {
       "output_type": "stream",
       "stream": "stdout",
       "text": [
        "\n",
        "Agent 58 is trading with agent 62\n",
        "Agent 62 is trading with agent 58"
       ]
      },
      {
       "output_type": "stream",
       "stream": "stdout",
       "text": [
        "\n",
        "Agent 72 is trading with agent 57\n",
        "Agent 80 is trading with agent 36"
       ]
      },
      {
       "output_type": "stream",
       "stream": "stdout",
       "text": [
        "\n",
        "Agent 85 is trading with agent 121\n",
        "Agent 94 is trading with agent 13"
       ]
      },
      {
       "output_type": "stream",
       "stream": "stdout",
       "text": [
        "\n",
        "Agent 96 is trading with agent 100\n",
        "Agent 97 is trading with agent 95\n",
        "Agent 98 is trading with agent 12\n",
        "Agent 100 is trading with agent 96\n",
        "Agent 121 is trading with agent 85"
       ]
      },
      {
       "output_type": "stream",
       "stream": "stdout",
       "text": [
        "\n",
        "Step: 47"
       ]
      },
      {
       "output_type": "stream",
       "stream": "stdout",
       "text": [
        "\n",
        "Number of Agents: 81\n",
        "Number of Goods: 278\n",
        "Gini: 29.4391024482\n",
        "\n",
        "\n",
        "Agent 12 is trading with agent 98\n",
        "Agent 13 is trading with agent 94"
       ]
      },
      {
       "output_type": "stream",
       "stream": "stdout",
       "text": [
        "\n",
        "Agent 36 is trading with agent 80"
       ]
      },
      {
       "output_type": "stream",
       "stream": "stdout",
       "text": [
        "\n",
        "Agent 48 is trading with agent 52\n",
        "Agent 52 is trading with agent 48"
       ]
      },
      {
       "output_type": "stream",
       "stream": "stdout",
       "text": [
        "\n",
        "Agent 57 is trading with agent 72\n",
        "Agent 80 is trading with agent 36"
       ]
      },
      {
       "output_type": "stream",
       "stream": "stdout",
       "text": [
        "\n",
        "Agent 85 is trading with agent 121\n",
        "Agent 92 is trading with agent 16\n",
        "Agent 94 is trading with agent 13"
       ]
      },
      {
       "output_type": "stream",
       "stream": "stdout",
       "text": [
        "\n",
        "Agent 95 is trading with agent 97\n",
        "Agent 96 is trading with agent 100\n",
        "Agent 97 is trading with agent 95\n",
        "Agent 98 is trading with agent 126\n",
        "Agent 100 is trading with agent 96\n",
        "Agent 112 divided and created Agent 140"
       ]
      },
      {
       "output_type": "stream",
       "stream": "stdout",
       "text": [
        "\n",
        "Agent 121 is trading with agent 85\n",
        "Agent 126 is trading with agent 98"
       ]
      },
      {
       "output_type": "stream",
       "stream": "stdout",
       "text": [
        "\n",
        "Step: 48"
       ]
      },
      {
       "output_type": "stream",
       "stream": "stdout",
       "text": [
        "\n",
        "Number of Agents: 82\n",
        "Number of Goods: 284\n",
        "Gini: 28.7681240868\n",
        "\n",
        "\n",
        "Agent 13 is trading with agent 94"
       ]
      },
      {
       "output_type": "stream",
       "stream": "stdout",
       "text": [
        "\n",
        "Agent 16 is trading with agent 92\n",
        "Agent 21 is trading with agent 22\n",
        "Agent 22 is trading with agent 21\n",
        "Agent 31 is trading with agent 46"
       ]
      },
      {
       "output_type": "stream",
       "stream": "stdout",
       "text": [
        "\n",
        "Agent 36 is trading with agent 80\n",
        "Agent 46 is trading with agent 31\n",
        "Agent 48 is trading with agent 52\n",
        "Agent 52 is trading with agent 48"
       ]
      },
      {
       "output_type": "stream",
       "stream": "stdout",
       "text": [
        "\n",
        "Agent 57 is trading with agent 76\n",
        "Agent 76 is trading with agent 57"
       ]
      },
      {
       "output_type": "stream",
       "stream": "stdout",
       "text": [
        "\n",
        "Agent 80 is trading with agent 36\n",
        "Agent 94 is trading with agent 13"
       ]
      },
      {
       "output_type": "stream",
       "stream": "stdout",
       "text": [
        "\n",
        "Agent 95 is trading with agent 97\n",
        "Agent 96 is trading with agent 100\n",
        "Agent 97 is trading with agent 95\n",
        "Agent 98 is trading with agent 12\n",
        "Agent 100 is trading with agent 96\n",
        "Agent 117 divided and created Agent 141"
       ]
      },
      {
       "output_type": "stream",
       "stream": "stdout",
       "text": [
        "\n",
        "Agent 123 divided and created Agent 142\n",
        "Step: 49"
       ]
      },
      {
       "output_type": "stream",
       "stream": "stdout",
       "text": [
        "\n",
        "Number of Agents: 84\n",
        "Number of Goods: 288\n",
        "Gini: 27.977420076\n",
        "\n",
        "\n",
        "Agent 12 is trading with agent 98\n",
        "Agent 13 is trading with agent 94"
       ]
      },
      {
       "output_type": "stream",
       "stream": "stdout",
       "text": [
        "\n",
        "Agent 21 is trading with agent 22\n",
        "Agent 22 is trading with agent 21\n",
        "Agent 31 is trading with agent 46"
       ]
      },
      {
       "output_type": "stream",
       "stream": "stdout",
       "text": [
        "\n",
        "Agent 32 divided and created Agent 143\n",
        "Agent 36 is trading with agent 80\n",
        "Agent 46 is trading with agent 31\n",
        "Agent 48 is trading with agent 52"
       ]
      },
      {
       "output_type": "stream",
       "stream": "stdout",
       "text": [
        "\n",
        "Agent 52 is trading with agent 48\n",
        "Agent 57 is trading with agent 72\n",
        "Agent 72 is trading with agent 57"
       ]
      },
      {
       "output_type": "stream",
       "stream": "stdout",
       "text": [
        "\n",
        "Agent 76 is trading with agent 124\n",
        "Agent 80 is trading with agent 36\n",
        "Agent 87 is trading with agent 106\n",
        "Agent 94 is trading with agent 13"
       ]
      },
      {
       "output_type": "stream",
       "stream": "stdout",
       "text": [
        "\n",
        "Agent 95 is trading with agent 14\n",
        "Agent 96 is trading with agent 100\n",
        "Agent 98 is trading with agent 12\n",
        "Agent 100 is trading with agent 96\n",
        "Agent 106 is trading with agent 87"
       ]
      },
      {
       "output_type": "stream",
       "stream": "stdout",
       "text": [
        "\n",
        "Agent 115 divided and created Agent 144\n",
        "Agent 120 divided and created Agent 145"
       ]
      },
      {
       "output_type": "stream",
       "stream": "stdout",
       "text": [
        "\n",
        "Agent 124 is trading with agent 76"
       ]
      },
      {
       "output_type": "stream",
       "stream": "stdout",
       "text": [
        "\n",
        "Agent 125 has died\n",
        "Step: 50"
       ]
      },
      {
       "output_type": "stream",
       "stream": "stdout",
       "text": [
        "\n",
        "Number of Agents: 86\n",
        "Number of Goods: 290\n",
        "Gini: 25.743421811\n",
        "\n",
        "\n",
        "Agent 13 is trading with agent 25\n",
        "Agent 14 is trading with agent 95"
       ]
      },
      {
       "output_type": "stream",
       "stream": "stdout",
       "text": [
        "\n",
        "Agent 21 is trading with agent 22\n",
        "Agent 22 is trading with agent 21\n",
        "Agent 28 is trading with agent 58"
       ]
      },
      {
       "output_type": "stream",
       "stream": "stdout",
       "text": [
        "\n",
        "Agent 31 is trading with agent 46\n",
        "Agent 36 is trading with agent 80\n",
        "Agent 46 is trading with agent 31\n",
        "Agent 48 is trading with agent 52"
       ]
      },
      {
       "output_type": "stream",
       "stream": "stdout",
       "text": [
        "\n",
        "Agent 52 is trading with agent 48\n",
        "Agent 57 is trading with agent 72"
       ]
      },
      {
       "output_type": "stream",
       "stream": "stdout",
       "text": [
        "\n",
        "Agent 72 is trading with agent 57"
       ]
      },
      {
       "output_type": "stream",
       "stream": "stdout",
       "text": [
        "\n",
        "Agent 76 is trading with agent 124\n",
        "Agent 85 is trading with agent 121\n",
        "Agent 95 is trading with agent 14"
       ]
      },
      {
       "output_type": "stream",
       "stream": "stdout",
       "text": [
        "\n",
        "Agent 96 is trading with agent 100\n",
        "Agent 98 is trading with agent 126\n",
        "Agent 100 is trading with agent 96\n",
        "Agent 121 is trading with agent 85"
       ]
      },
      {
       "output_type": "stream",
       "stream": "stdout",
       "text": [
        "\n",
        "Agent 124 is trading with agent 76\n",
        "Agent 126 is trading with agent 98\n",
        "Agent 127 divided and created Agent 146\n",
        "Agent 133 is trading with agent 90"
       ]
      },
      {
       "output_type": "stream",
       "stream": "stdout",
       "text": [
        "\n",
        "Step: 51"
       ]
      },
      {
       "output_type": "stream",
       "stream": "stdout",
       "text": [
        "\n",
        "Number of Agents: 87\n",
        "Number of Goods: 283\n",
        "Gini: 24.3184668846\n",
        "\n",
        "\n",
        "Agent 14 is trading with agent 95\n",
        "Agent 21 is trading with agent 22"
       ]
      },
      {
       "output_type": "stream",
       "stream": "stdout",
       "text": [
        "\n",
        "Agent 22 is trading with agent 21\n",
        "Agent 25 is trading with agent 13\n",
        "Agent 31 is trading with agent 46"
       ]
      },
      {
       "output_type": "stream",
       "stream": "stdout",
       "text": [
        "\n",
        "Agent 46 is trading with agent 31\n",
        "Agent 48 is trading with agent 52"
       ]
      },
      {
       "output_type": "stream",
       "stream": "stdout",
       "text": [
        "\n",
        "Agent 52 is trading with agent 48\n",
        "Agent 57 is trading with agent 72\n",
        "Agent 72 is trading with agent 57"
       ]
      },
      {
       "output_type": "stream",
       "stream": "stdout",
       "text": [
        "\n",
        "Agent 87 is trading with agent 106\n",
        "Agent 90 is trading with agent 133\n",
        "Agent 92 has died\n",
        "Agent 95 is trading with agent 97"
       ]
      },
      {
       "output_type": "stream",
       "stream": "stdout",
       "text": [
        "\n",
        "Agent 96 is trading with agent 100\n",
        "Agent 97 is trading with agent 95\n",
        "Agent 98 is trading with agent 126\n",
        "Agent 100 is trading with agent 96\n",
        "Agent 106 is trading with agent 87"
       ]
      },
      {
       "output_type": "stream",
       "stream": "stdout",
       "text": [
        "\n",
        "Agent 126 is trading with agent 98"
       ]
      },
      {
       "output_type": "stream",
       "stream": "stdout",
       "text": [
        "\n",
        "Agent 129 divided and created Agent 147\n",
        "Agent 130 divided and created Agent 148\n",
        "Agent 133 is trading with agent 90"
       ]
      },
      {
       "output_type": "stream",
       "stream": "stdout",
       "text": [
        "\n",
        "Step: 52"
       ]
      },
      {
       "output_type": "stream",
       "stream": "stdout",
       "text": [
        "\n",
        "Number of Agents: 88\n",
        "Number of Goods: 289\n",
        "Gini: 23.2954545455\n",
        "\n",
        "\n",
        "Agent 13 is trading with agent 25"
       ]
      },
      {
       "output_type": "stream",
       "stream": "stdout",
       "text": [
        "\n",
        "Agent 21 is trading with agent 22\n",
        "Agent 22 is trading with agent 21\n",
        "Agent 25 is trading with agent 13\n",
        "Agent 28 is trading with agent 58"
       ]
      },
      {
       "output_type": "stream",
       "stream": "stdout",
       "text": [
        "\n",
        "Agent 31 is trading with agent 46\n",
        "Agent 46 is trading with agent 31\n",
        "Agent 48 is trading with agent 52"
       ]
      },
      {
       "output_type": "stream",
       "stream": "stdout",
       "text": [
        "\n",
        "Agent 52 is trading with agent 48\n",
        "Agent 57 is trading with agent 72\n",
        "Agent 58 is trading with agent 62"
       ]
      },
      {
       "output_type": "stream",
       "stream": "stdout",
       "text": [
        "\n",
        "Agent 62 is trading with agent 58\n",
        "Agent 72 is trading with agent 57\n",
        "Agent 80 is trading with agent 36"
       ]
      },
      {
       "output_type": "stream",
       "stream": "stdout",
       "text": [
        "\n",
        "Agent 85 is trading with agent 121\n",
        "Agent 87 is trading with agent 106\n",
        "Agent 90 is trading with agent 133\n",
        "Agent 95 is trading with agent 97"
       ]
      },
      {
       "output_type": "stream",
       "stream": "stdout",
       "text": [
        "\n",
        "Agent 96 is trading with agent 100\n",
        "Agent 97 is trading with agent 95\n",
        "Agent 98 is trading with agent 126\n",
        "Agent 100 is trading with agent 96\n",
        "Agent 106 is trading with agent 87\n",
        "Agent 121 is trading with agent 85"
       ]
      },
      {
       "output_type": "stream",
       "stream": "stdout",
       "text": [
        "\n",
        "Agent 126 is trading with agent 98"
       ]
      },
      {
       "output_type": "stream",
       "stream": "stdout",
       "text": [
        "\n",
        "Agent 133 is trading with agent 132"
       ]
      },
      {
       "output_type": "stream",
       "stream": "stdout",
       "text": [
        "\n",
        "Step: 53"
       ]
      },
      {
       "output_type": "stream",
       "stream": "stdout",
       "text": [
        "\n",
        "Number of Agents: 88\n",
        "Number of Goods: 288\n",
        "Gini: 23.7770262822\n",
        "\n",
        "\n",
        "Agent 3 has died\n",
        "Agent 13 is trading with agent 25"
       ]
      },
      {
       "output_type": "stream",
       "stream": "stdout",
       "text": [
        "\n",
        "Agent 21 is trading with agent 22\n",
        "Agent 22 is trading with agent 21\n",
        "Agent 25 is trading with agent 13"
       ]
      },
      {
       "output_type": "stream",
       "stream": "stdout",
       "text": [
        "\n",
        "Agent 28 is trading with agent 16\n",
        "Agent 31 is trading with agent 46"
       ]
      },
      {
       "output_type": "stream",
       "stream": "stdout",
       "text": [
        "\n",
        "Agent 36 is trading with agent 80\n",
        "Agent 46 is trading with agent 31\n",
        "Agent 48 is trading with agent 52"
       ]
      },
      {
       "output_type": "stream",
       "stream": "stdout",
       "text": [
        "\n",
        "Agent 52 is trading with agent 48\n",
        "Agent 58 is trading with agent 62"
       ]
      },
      {
       "output_type": "stream",
       "stream": "stdout",
       "text": [
        "\n",
        "Agent 62 is trading with agent 58\n",
        "Agent 76 is trading with agent 124"
       ]
      },
      {
       "output_type": "stream",
       "stream": "stdout",
       "text": [
        "\n",
        "Agent 95 is trading with agent 14"
       ]
      },
      {
       "output_type": "stream",
       "stream": "stdout",
       "text": [
        "\n",
        "Agent 96 is trading with agent 100\n",
        "Agent 98 is trading with agent 126\n",
        "Agent 100 is trading with agent 96\n",
        "Agent 124 is trading with agent 76"
       ]
      },
      {
       "output_type": "stream",
       "stream": "stdout",
       "text": [
        "\n",
        "Agent 126 is trading with agent 98\n",
        "Agent 131 divided and created Agent 149"
       ]
      },
      {
       "output_type": "stream",
       "stream": "stdout",
       "text": [
        "\n",
        "Agent 132 is trading with agent 133\n",
        "Agent 133 is trading with agent 90\n",
        "Step: 54"
       ]
      },
      {
       "output_type": "stream",
       "stream": "stdout",
       "text": [
        "\n",
        "Number of Agents: 88\n",
        "Number of Goods: 283\n",
        "Gini: 24.2382617383\n",
        "\n",
        "\n",
        "Agent 5 is trading with agent 123\n",
        "Agent 11 divided and created Agent 150\n",
        "Agent 13 is trading with agent 94"
       ]
      },
      {
       "output_type": "stream",
       "stream": "stdout",
       "text": [
        "\n",
        "Agent 14 is trading with agent 95\n",
        "Agent 21 is trading with agent 22\n",
        "Agent 22 is trading with agent 21\n",
        "Agent 31 is trading with agent 46"
       ]
      },
      {
       "output_type": "stream",
       "stream": "stdout",
       "text": [
        "\n",
        "Agent 46 is trading with agent 31\n",
        "Agent 48 is trading with agent 52"
       ]
      },
      {
       "output_type": "stream",
       "stream": "stdout",
       "text": [
        "\n",
        "Agent 52 is trading with agent 48\n",
        "Agent 76 is trading with agent 124"
       ]
      },
      {
       "output_type": "stream",
       "stream": "stdout",
       "text": [
        "\n",
        "Agent 80 is trading with agent 105\n",
        "Agent 90 is trading with agent 133\n",
        "Agent 94 is trading with agent 13"
       ]
      },
      {
       "output_type": "stream",
       "stream": "stdout",
       "text": [
        "\n",
        "Agent 95 is trading with agent 14\n",
        "Agent 96 is trading with agent 100\n",
        "Agent 98 is trading with agent 126\n",
        "Agent 100 is trading with agent 96\n",
        "Agent 105 is trading with agent 80\n",
        "Agent 116 is trading with agent 108"
       ]
      },
      {
       "output_type": "stream",
       "stream": "stdout",
       "text": [
        "\n",
        "Agent 118 has died\n",
        "Agent 123 divided and created Agent 151"
       ]
      },
      {
       "output_type": "stream",
       "stream": "stdout",
       "text": [
        "\n",
        "Agent 124 is trading with agent 76\n",
        "Agent 126 is trading with agent 98\n",
        "Agent 127 divided and created Agent 152\n",
        "Agent 133 is trading with agent 132"
       ]
      },
      {
       "output_type": "stream",
       "stream": "stdout",
       "text": [
        "\n",
        "Step: 55"
       ]
      },
      {
       "output_type": "stream",
       "stream": "stdout",
       "text": [
        "\n",
        "Number of Agents: 90\n",
        "Number of Goods: 283\n",
        "Gini: 24.6033348288\n",
        "\n",
        "\n",
        "Agent 7 divided and created Agent 153\n",
        "Agent 13 is trading with agent 25"
       ]
      },
      {
       "output_type": "stream",
       "stream": "stdout",
       "text": [
        "\n",
        "Agent 14 is trading with agent 95\n",
        "Agent 21 is trading with agent 22\n",
        "Agent 22 is trading with agent 21\n",
        "Agent 25 is trading with agent 13\n",
        "Agent 31 is trading with agent 46"
       ]
      },
      {
       "output_type": "stream",
       "stream": "stdout",
       "text": [
        "\n",
        "Agent 46 is trading with agent 31\n",
        "Agent 48 is trading with agent 52\n",
        "Agent 52 is trading with agent 48"
       ]
      },
      {
       "output_type": "stream",
       "stream": "stdout",
       "text": [
        "\n",
        "Agent 76 is trading with agent 124"
       ]
      },
      {
       "output_type": "stream",
       "stream": "stdout",
       "text": [
        "\n",
        "Agent 80 is trading with agent 105\n",
        "Agent 87 is trading with agent 30\n",
        "Agent 95 is trading with agent 97"
       ]
      },
      {
       "output_type": "stream",
       "stream": "stdout",
       "text": [
        "\n",
        "Agent 96 is trading with agent 100\n",
        "Agent 97 is trading with agent 95\n",
        "Agent 98 is trading with agent 126\n",
        "Agent 100 is trading with agent 96\n",
        "Agent 105 is trading with agent 80"
       ]
      },
      {
       "output_type": "stream",
       "stream": "stdout",
       "text": [
        "\n",
        "Agent 108 is trading with agent 116\n",
        "Agent 116 is trading with agent 108\n",
        "Agent 123 is trading with agent 5"
       ]
      },
      {
       "output_type": "stream",
       "stream": "stdout",
       "text": [
        "\n",
        "Agent 124 is trading with agent 76\n",
        "Agent 126 is trading with agent 98\n",
        "Agent 131 has died"
       ]
      },
      {
       "output_type": "stream",
       "stream": "stdout",
       "text": [
        "\n",
        "Agent 132 is trading with agent 133\n",
        "Agent 133 is trading with agent 132\n",
        "Agent 152 has died"
       ]
      },
      {
       "output_type": "stream",
       "stream": "stdout",
       "text": [
        "\n",
        "Step: 56\n",
        "Number of Agents: 89\n",
        "Number of Goods: 284\n",
        "Gini: 24.9241464469\n",
        "\n",
        "\n",
        "Agent 5 is trading with agent 123\n",
        "Agent 13 is trading with agent 25"
       ]
      },
      {
       "output_type": "stream",
       "stream": "stdout",
       "text": [
        "\n",
        "Agent 25 is trading with agent 13\n",
        "Agent 30 is trading with agent 87"
       ]
      },
      {
       "output_type": "stream",
       "stream": "stdout",
       "text": [
        "\n",
        "Agent 31 is trading with agent 46\n",
        "Agent 46 is trading with agent 31\n",
        "Agent 48 is trading with agent 52"
       ]
      },
      {
       "output_type": "stream",
       "stream": "stdout",
       "text": [
        "\n",
        "Agent 52 is trading with agent 48\n",
        "Agent 52 has died\n",
        "Agent 76 is trading with agent 57"
       ]
      },
      {
       "output_type": "stream",
       "stream": "stdout",
       "text": [
        "\n",
        "Agent 80 is trading with agent 105\n",
        "Agent 87 is trading with agent 30\n",
        "Agent 95 is trading with agent 97"
       ]
      },
      {
       "output_type": "stream",
       "stream": "stdout",
       "text": [
        "\n",
        "Agent 96 is trading with agent 100\n",
        "Agent 97 is trading with agent 95\n",
        "Agent 98 is trading with agent 126\n",
        "Agent 100 is trading with agent 96\n",
        "Agent 105 is trading with agent 80\n",
        "Agent 108 is trading with agent 116"
       ]
      },
      {
       "output_type": "stream",
       "stream": "stdout",
       "text": [
        "\n",
        "Agent 113 divided and created Agent 154\n",
        "Agent 116 is trading with agent 108\n",
        "Agent 123 is trading with agent 5"
       ]
      },
      {
       "output_type": "stream",
       "stream": "stdout",
       "text": [
        "\n",
        "Agent 126 is trading with agent 98\n",
        "Agent 132 is trading with agent 133\n",
        "Agent 133 is trading with agent 132"
       ]
      },
      {
       "output_type": "stream",
       "stream": "stdout",
       "text": [
        "\n",
        "Step: 57"
       ]
      },
      {
       "output_type": "stream",
       "stream": "stdout",
       "text": [
        "\n",
        "Number of Agents: 89\n",
        "Number of Goods: 277\n",
        "Gini: 25.1408678576\n",
        "\n",
        "\n",
        "Agent 5 is trading with agent 123\n",
        "Agent 11 is trading with agent 85\n",
        "Agent 13 is trading with agent 94\n",
        "Agent 22 is trading with agent 21"
       ]
      },
      {
       "output_type": "stream",
       "stream": "stdout",
       "text": [
        "\n",
        "Agent 30 is trading with agent 87\n",
        "Agent 31 is trading with agent 46"
       ]
      },
      {
       "output_type": "stream",
       "stream": "stdout",
       "text": [
        "\n",
        "Agent 46 is trading with agent 31\n",
        "Agent 57 is trading with agent 72"
       ]
      },
      {
       "output_type": "stream",
       "stream": "stdout",
       "text": [
        "\n",
        "Agent 57 has died\n",
        "Agent 63 divided and created Agent 155\n",
        "Agent 76 is trading with agent 124\n",
        "Agent 87 is trading with agent 30"
       ]
      },
      {
       "output_type": "stream",
       "stream": "stdout",
       "text": [
        "\n",
        "Agent 94 is trading with agent 13\n",
        "Agent 95 is trading with agent 97\n",
        "Agent 96 is trading with agent 100\n",
        "Agent 97 is trading with agent 95"
       ]
      },
      {
       "output_type": "stream",
       "stream": "stdout",
       "text": [
        "\n",
        "Agent 98 divided and created Agent 156\n",
        "Agent 100 is trading with agent 96\n",
        "Agent 108 is trading with agent 116"
       ]
      },
      {
       "output_type": "stream",
       "stream": "stdout",
       "text": [
        "\n",
        "Agent 116 is trading with agent 108\n",
        "Agent 123 is trading with agent 5"
       ]
      },
      {
       "output_type": "stream",
       "stream": "stdout",
       "text": [
        "\n",
        "Agent 124 is trading with agent 76\n",
        "Agent 132 divided and created Agent 157"
       ]
      },
      {
       "output_type": "stream",
       "stream": "stdout",
       "text": [
        "\n",
        "Agent 142 divided and created Agent 158"
       ]
      },
      {
       "output_type": "stream",
       "stream": "stdout",
       "text": [
        "\n",
        "Step: 58"
       ]
      },
      {
       "output_type": "stream",
       "stream": "stdout",
       "text": [
        "\n",
        "Number of Agents: 92\n",
        "Number of Goods: 280\n",
        "Gini: 24.0042417815\n",
        "\n",
        "\n",
        "Agent 0 divided and created Agent 159\n",
        "Agent 5 is trading with agent 123\n",
        "Agent 13 is trading with agent 94\n",
        "Agent 16 is trading with agent 28"
       ]
      },
      {
       "output_type": "stream",
       "stream": "stdout",
       "text": [
        "\n",
        "Agent 21 is trading with agent 22\n",
        "Agent 22 is trading with agent 21\n",
        "Agent 28 is trading with agent 16\n",
        "Agent 30 is trading with agent 87"
       ]
      },
      {
       "output_type": "stream",
       "stream": "stdout",
       "text": [
        "\n",
        "Agent 31 is trading with agent 46\n",
        "Agent 46 is trading with agent 31\n",
        "Agent 76 is trading with agent 124"
       ]
      },
      {
       "output_type": "stream",
       "stream": "stdout",
       "text": [
        "\n",
        "Agent 85 is trading with agent 11\n",
        "Agent 85 has died\n",
        "Agent 87 is trading with agent 106\n",
        "Agent 94 is trading with agent 13"
       ]
      },
      {
       "output_type": "stream",
       "stream": "stdout",
       "text": [
        "\n",
        "Agent 95 is trading with agent 97\n",
        "Agent 96 is trading with agent 100\n",
        "Agent 97 is trading with agent 95\n",
        "Agent 100 is trading with agent 96\n",
        "Agent 106 is trading with agent 87"
       ]
      },
      {
       "output_type": "stream",
       "stream": "stdout",
       "text": [
        "\n",
        "Agent 108 is trading with agent 116\n",
        "Agent 116 is trading with agent 108\n",
        "Agent 123 is trading with agent 5"
       ]
      },
      {
       "output_type": "stream",
       "stream": "stdout",
       "text": [
        "\n",
        "Agent 124 is trading with agent 76\n",
        "Agent 132 is trading with agent 133"
       ]
      },
      {
       "output_type": "stream",
       "stream": "stdout",
       "text": [
        "\n",
        "Agent 133 is trading with agent 90\n",
        "Step: 59"
       ]
      },
      {
       "output_type": "stream",
       "stream": "stdout",
       "text": [
        "\n",
        "Number of Agents: 92\n",
        "Number of Goods: 276\n",
        "Gini: 24.0659864561\n",
        "\n",
        "\n",
        "Agent 5 is trading with agent 123\n",
        "Agent 13 is trading with agent 94\n",
        "Agent 14 has died"
       ]
      },
      {
       "output_type": "stream",
       "stream": "stdout",
       "text": [
        "\n",
        "Agent 16 is trading with agent 28\n",
        "Agent 21 is trading with agent 22\n",
        "Agent 22 is trading with agent 21\n",
        "Agent 23 is trading with agent 101\n",
        "Agent 28 is trading with agent 16"
       ]
      },
      {
       "output_type": "stream",
       "stream": "stdout",
       "text": [
        "\n",
        "Agent 30 has died\n",
        "Agent 31 is trading with agent 46\n",
        "Agent 46 is trading with agent 31"
       ]
      },
      {
       "output_type": "stream",
       "stream": "stdout",
       "text": [
        "\n",
        "Agent 48 has died\n",
        "Agent 53 has died\n",
        "Agent 160 was created\n",
        "Agent 76 is trading with agent 124"
       ]
      },
      {
       "output_type": "stream",
       "stream": "stdout",
       "text": [
        "\n",
        "Agent 80 is trading with agent 105\n",
        "Agent 87 is trading with agent 106\n",
        "Agent 90 is trading with agent 133\n",
        "Agent 94 is trading with agent 13\n",
        "Agent 95 is trading with agent 97"
       ]
      },
      {
       "output_type": "stream",
       "stream": "stdout",
       "text": [
        "\n",
        "Agent 95 has died\n",
        "Agent 161 was created\n",
        "Agent 96 is trading with agent 100\n",
        "Agent 96 has died\n",
        "Agent 101 is trading with agent 23\n",
        "Agent 105 is trading with agent 80\n",
        "Agent 106 is trading with agent 87"
       ]
      },
      {
       "output_type": "stream",
       "stream": "stdout",
       "text": [
        "\n",
        "Agent 108 is trading with agent 116\n",
        "Agent 116 is trading with agent 108\n",
        "Agent 123 is trading with agent 5"
       ]
      },
      {
       "output_type": "stream",
       "stream": "stdout",
       "text": [
        "\n",
        "Agent 124 is trading with agent 76\n",
        "Step: 60"
       ]
      },
      {
       "output_type": "stream",
       "stream": "stdout",
       "text": [
        "\n",
        "Number of Agents: 88\n",
        "Number of Goods: 274\n",
        "Gini: 25.2571661897\n",
        "\n",
        "\n",
        "Agent 5 is trading with agent 123\n",
        "Agent 13 is trading with agent 94"
       ]
      },
      {
       "output_type": "stream",
       "stream": "stdout",
       "text": [
        "\n",
        "Agent 16 is trading with agent 28\n",
        "Agent 21 is trading with agent 22\n",
        "Agent 22 is trading with agent 21\n",
        "Agent 23 is trading with agent 101\n",
        "Agent 31 is trading with agent 46"
       ]
      },
      {
       "output_type": "stream",
       "stream": "stdout",
       "text": [
        "\n",
        "Agent 46 is trading with agent 31\n",
        "Agent 58 is trading with agent 62\n",
        "Agent 62 is trading with agent 58"
       ]
      },
      {
       "output_type": "stream",
       "stream": "stdout",
       "text": [
        "\n",
        "Agent 76 is trading with agent 124\n",
        "Agent 80 is trading with agent 105\n",
        "Agent 87 is trading with agent 106\n",
        "Agent 94 is trading with agent 13"
       ]
      },
      {
       "output_type": "stream",
       "stream": "stdout",
       "text": [
        "\n",
        "Agent 101 is trading with agent 23\n",
        "Agent 105 is trading with agent 80\n",
        "Agent 106 is trading with agent 87"
       ]
      },
      {
       "output_type": "stream",
       "stream": "stdout",
       "text": [
        "\n",
        "Agent 108 is trading with agent 116\n",
        "Agent 116 is trading with agent 108"
       ]
      },
      {
       "output_type": "stream",
       "stream": "stdout",
       "text": [
        "\n",
        "Agent 123 is trading with agent 5"
       ]
      },
      {
       "output_type": "stream",
       "stream": "stdout",
       "text": [
        "\n",
        "Agent 124 is trading with agent 76\n",
        "Agent 126 is trading with agent 98\n",
        "Agent 133 is trading with agent 132"
       ]
      },
      {
       "output_type": "stream",
       "stream": "stdout",
       "text": [
        "\n",
        "Agent 136 divided and created Agent 162\n",
        "Agent 138 divided and created Agent 163\n",
        "Step: 61"
       ]
      },
      {
       "output_type": "stream",
       "stream": "stdout",
       "text": [
        "\n",
        "Number of Agents: 90\n",
        "Number of Goods: 263\n",
        "Gini: 22.8251313391\n",
        "\n",
        "\n",
        "Agent 5 is trading with agent 123\n",
        "Agent 13 is trading with agent 94\n",
        "Agent 21 is trading with agent 22\n",
        "Agent 22 is trading with agent 21"
       ]
      },
      {
       "output_type": "stream",
       "stream": "stdout",
       "text": [
        "\n",
        "Agent 23 divided and created Agent 164\n",
        "Agent 31 is trading with agent 46"
       ]
      },
      {
       "output_type": "stream",
       "stream": "stdout",
       "text": [
        "\n",
        "Agent 46 is trading with agent 31\n",
        "Agent 58 is trading with agent 62"
       ]
      },
      {
       "output_type": "stream",
       "stream": "stdout",
       "text": [
        "\n",
        "Agent 62 is trading with agent 58\n",
        "Agent 76 is trading with agent 124\n",
        "Agent 76 has died\n",
        "Agent 165 was created\n",
        "Agent 80 is trading with agent 36\n",
        "Agent 87 is trading with agent 106"
       ]
      },
      {
       "output_type": "stream",
       "stream": "stdout",
       "text": [
        "\n",
        "Agent 94 is trading with agent 13\n",
        "Agent 94 has died\n",
        "Agent 98 is trading with agent 126\n",
        "Agent 106 is trading with agent 87"
       ]
      },
      {
       "output_type": "stream",
       "stream": "stdout",
       "text": [
        "\n",
        "Agent 108 is trading with agent 116\n",
        "Agent 116 is trading with agent 108\n",
        "Agent 123 is trading with agent 5"
       ]
      },
      {
       "output_type": "stream",
       "stream": "stdout",
       "text": [
        "\n",
        "Agent 126 is trading with agent 98\n",
        "Agent 132 is trading with agent 133"
       ]
      },
      {
       "output_type": "stream",
       "stream": "stdout",
       "text": [
        "\n",
        "Agent 133 is trading with agent 132\n",
        "Step: 62"
       ]
      },
      {
       "output_type": "stream",
       "stream": "stdout",
       "text": [
        "\n",
        "Number of Agents: 90\n",
        "Number of Goods: 269\n",
        "Gini: 24.1866866867\n",
        "\n",
        "\n",
        "Agent 10 divided and created Agent 166\n",
        "Agent 21 is trading with agent 22"
       ]
      },
      {
       "output_type": "stream",
       "stream": "stdout",
       "text": [
        "\n",
        "Agent 22 is trading with agent 21\n",
        "Agent 23 is trading with agent 101\n",
        "Agent 31 is trading with agent 46"
       ]
      },
      {
       "output_type": "stream",
       "stream": "stdout",
       "text": [
        "\n",
        "Agent 36 is trading with agent 80\n",
        "Agent 46 is trading with agent 31\n",
        "Agent 51 has died\n",
        "Agent 58 is trading with agent 28"
       ]
      },
      {
       "output_type": "stream",
       "stream": "stdout",
       "text": [
        "\n",
        "Agent 80 is trading with agent 36"
       ]
      },
      {
       "output_type": "stream",
       "stream": "stdout",
       "text": [
        "\n",
        "Agent 87 is trading with agent 106\n",
        "Agent 98 is trading with agent 126"
       ]
      },
      {
       "output_type": "stream",
       "stream": "stdout",
       "text": [
        "\n",
        "Agent 100 has died\n",
        "Agent 101 is trading with agent 23\n",
        "Agent 106 is trading with agent 87\n",
        "Agent 108 is trading with agent 116"
       ]
      },
      {
       "output_type": "stream",
       "stream": "stdout",
       "text": [
        "\n",
        "Agent 116 is trading with agent 108\n",
        "Agent 126 is trading with agent 98"
       ]
      },
      {
       "output_type": "stream",
       "stream": "stdout",
       "text": [
        "\n",
        "Agent 129 divided and created Agent 167\n",
        "Agent 132 is trading with agent 133\n",
        "Agent 133 is trading with agent 90\n",
        "Step: 63"
       ]
      },
      {
       "output_type": "stream",
       "stream": "stdout",
       "text": [
        "\n",
        "Number of Agents: 90\n",
        "Number of Goods: 275\n",
        "Gini: 23.9121312424\n",
        "\n",
        "\n",
        "Agent 5 is trading with agent 123\n",
        "Agent 21 is trading with agent 22"
       ]
      },
      {
       "output_type": "stream",
       "stream": "stdout",
       "text": [
        "\n",
        "Agent 22 is trading with agent 21\n",
        "Agent 23 is trading with agent 101\n",
        "Agent 27 has died"
       ]
      },
      {
       "output_type": "stream",
       "stream": "stdout",
       "text": [
        "\n",
        "Agent 31 is trading with agent 46"
       ]
      },
      {
       "output_type": "stream",
       "stream": "stdout",
       "text": [
        "\n",
        "Agent 36 is trading with agent 80\n",
        "Agent 46 is trading with agent 31\n",
        "Agent 80 is trading with agent 36"
       ]
      },
      {
       "output_type": "stream",
       "stream": "stdout",
       "text": [
        "\n",
        "Agent 87 is trading with agent 106\n",
        "Agent 90 is trading with agent 133"
       ]
      },
      {
       "output_type": "stream",
       "stream": "stdout",
       "text": [
        "\n",
        "Agent 98 is trading with agent 126\n",
        "Agent 101 is trading with agent 23"
       ]
      },
      {
       "output_type": "stream",
       "stream": "stdout",
       "text": [
        "\n",
        "Agent 106 is trading with agent 87\n",
        "Agent 108 is trading with agent 116\n",
        "Agent 116 is trading with agent 108"
       ]
      },
      {
       "output_type": "stream",
       "stream": "stdout",
       "text": [
        "\n",
        "Agent 123 is trading with agent 5"
       ]
      },
      {
       "output_type": "stream",
       "stream": "stdout",
       "text": [
        "\n",
        "Agent 126 is trading with agent 98\n",
        "Agent 129 is trading with agent 128"
       ]
      },
      {
       "output_type": "stream",
       "stream": "stdout",
       "text": [
        "\n",
        "Agent 133 is trading with agent 90\n",
        "Agent 137 divided and created Agent 168"
       ]
      },
      {
       "output_type": "stream",
       "stream": "stdout",
       "text": [
        "\n",
        "Step: 64"
       ]
      },
      {
       "output_type": "stream",
       "stream": "stdout",
       "text": [
        "\n",
        "Number of Agents: 90\n",
        "Number of Goods: 274\n",
        "Gini: 23.6564287379\n",
        "\n",
        "\n",
        "Agent 5 is trading with agent 123\n",
        "Agent 5 has died\n",
        "Agent 16 is trading with agent 28"
       ]
      },
      {
       "output_type": "stream",
       "stream": "stdout",
       "text": [
        "\n",
        "Agent 21 is trading with agent 22\n",
        "Agent 22 is trading with agent 21\n",
        "Agent 23 is trading with agent 101"
       ]
      },
      {
       "output_type": "stream",
       "stream": "stdout",
       "text": [
        "\n",
        "Agent 31 is trading with agent 46\n",
        "Agent 36 is trading with agent 80"
       ]
      },
      {
       "output_type": "stream",
       "stream": "stdout",
       "text": [
        "\n",
        "Agent 46 is trading with agent 31\n",
        "Agent 80 is trading with agent 36"
       ]
      },
      {
       "output_type": "stream",
       "stream": "stdout",
       "text": [
        "\n",
        "Agent 87 is trading with agent 147\n",
        "Agent 90 is trading with agent 133"
       ]
      },
      {
       "output_type": "stream",
       "stream": "stdout",
       "text": [
        "\n",
        "Agent 98 is trading with agent 126\n",
        "Agent 108 is trading with agent 116"
       ]
      },
      {
       "output_type": "stream",
       "stream": "stdout",
       "text": [
        "\n",
        "Agent 116 is trading with agent 108\n",
        "Agent 124 is trading with agent 72"
       ]
      },
      {
       "output_type": "stream",
       "stream": "stdout",
       "text": [
        "\n",
        "Agent 126 is trading with agent 98\n",
        "Agent 128 is trading with agent 129\n",
        "Agent 129 is trading with agent 128\n",
        "Agent 133 is trading with agent 132"
       ]
      },
      {
       "output_type": "stream",
       "stream": "stdout",
       "text": [
        "\n",
        "Agent 137 is trading with agent 130\n",
        "Agent 147 is trading with agent 87"
       ]
      },
      {
       "output_type": "stream",
       "stream": "stdout",
       "text": [
        "\n",
        "Step: 65"
       ]
      },
      {
       "output_type": "stream",
       "stream": "stdout",
       "text": [
        "\n",
        "Number of Agents: 89\n",
        "Number of Goods: 272\n",
        "Gini: 24.3586958457\n",
        "\n",
        "\n",
        "Agent 21 is trading with agent 22"
       ]
      },
      {
       "output_type": "stream",
       "stream": "stdout",
       "text": [
        "\n",
        "Agent 22 is trading with agent 21\n",
        "Agent 31 is trading with agent 46"
       ]
      },
      {
       "output_type": "stream",
       "stream": "stdout",
       "text": [
        "\n",
        "Agent 36 is trading with agent 80\n",
        "Agent 46 is trading with agent 31\n",
        "Agent 72 is trading with agent 124"
       ]
      },
      {
       "output_type": "stream",
       "stream": "stdout",
       "text": [
        "\n",
        "Agent 80 is trading with agent 105\n",
        "Agent 87 is trading with agent 147"
       ]
      },
      {
       "output_type": "stream",
       "stream": "stdout",
       "text": [
        "\n",
        "Agent 87 has died\n",
        "Agent 98 is trading with agent 126\n",
        "Agent 101 is trading with agent 23"
       ]
      },
      {
       "output_type": "stream",
       "stream": "stdout",
       "text": [
        "\n",
        "Agent 105 is trading with agent 80\n",
        "Agent 108 is trading with agent 116\n",
        "Agent 116 is trading with agent 108"
       ]
      },
      {
       "output_type": "stream",
       "stream": "stdout",
       "text": [
        "\n",
        "Agent 119 divided and created Agent 169\n",
        "Agent 123 is trading with agent 58\n",
        "Agent 124 is trading with agent 72"
       ]
      },
      {
       "output_type": "stream",
       "stream": "stdout",
       "text": [
        "\n",
        "Agent 126 is trading with agent 98\n",
        "Agent 130 is trading with agent 137\n",
        "Agent 132 is trading with agent 133\n",
        "Agent 133 is trading with agent 90"
       ]
      },
      {
       "output_type": "stream",
       "stream": "stdout",
       "text": [
        "\n",
        "Agent 137 is trading with agent 130\n",
        "Agent 158 has died"
       ]
      },
      {
       "output_type": "stream",
       "stream": "stdout",
       "text": [
        "\n",
        "Step: 66"
       ]
      },
      {
       "output_type": "stream",
       "stream": "stdout",
       "text": [
        "\n",
        "Number of Agents: 88\n",
        "Number of Goods: 269\n",
        "Gini: 24.1017485251\n",
        "\n",
        "\n",
        "Agent 10 has died\n",
        "Agent 170 was created\n",
        "Agent 21 is trading with agent 22"
       ]
      },
      {
       "output_type": "stream",
       "stream": "stdout",
       "text": [
        "\n",
        "Agent 22 is trading with agent 21\n",
        "Agent 23 is trading with agent 101\n",
        "Agent 31 is trading with agent 46"
       ]
      },
      {
       "output_type": "stream",
       "stream": "stdout",
       "text": [
        "\n",
        "Agent 32 has died\n",
        "Agent 46 is trading with agent 31"
       ]
      },
      {
       "output_type": "stream",
       "stream": "stdout",
       "text": [
        "\n",
        "Agent 72 is trading with agent 124\n",
        "Agent 80 is trading with agent 105\n",
        "Agent 90 is trading with agent 133"
       ]
      },
      {
       "output_type": "stream",
       "stream": "stdout",
       "text": [
        "\n",
        "Agent 97 divided and created Agent 171\n",
        "Agent 98 is trading with agent 138\n",
        "Agent 101 is trading with agent 23\n",
        "Agent 105 is trading with agent 80\n",
        "Agent 108 is trading with agent 116"
       ]
      },
      {
       "output_type": "stream",
       "stream": "stdout",
       "text": [
        "\n",
        "Agent 116 is trading with agent 108\n",
        "Agent 127 divided and created Agent 172"
       ]
      },
      {
       "output_type": "stream",
       "stream": "stdout",
       "text": [
        "\n",
        "Agent 130 is trading with agent 137\n",
        "Agent 133 is trading with agent 90\n",
        "Agent 135 is trading with agent 115"
       ]
      },
      {
       "output_type": "stream",
       "stream": "stdout",
       "text": [
        "\n",
        "Agent 137 is trading with agent 130\n",
        "Agent 138 is trading with agent 98\n",
        "Step: 67"
       ]
      },
      {
       "output_type": "stream",
       "stream": "stdout",
       "text": [
        "\n",
        "Number of Agents: 89\n",
        "Number of Goods: 266\n",
        "Gini: 25.4368668691\n",
        "\n",
        "\n",
        "Agent 0 divided and created Agent 173\n",
        "Agent 23 is trading with agent 101"
       ]
      },
      {
       "output_type": "stream",
       "stream": "stdout",
       "text": [
        "\n",
        "Agent 31 is trading with agent 46"
       ]
      },
      {
       "output_type": "stream",
       "stream": "stdout",
       "text": [
        "\n",
        "Agent 46 is trading with agent 31\n",
        "Agent 58 is trading with agent 28\n",
        "Agent 80 is trading with agent 105\n",
        "Agent 90 is trading with agent 133"
       ]
      },
      {
       "output_type": "stream",
       "stream": "stdout",
       "text": [
        "\n",
        "Agent 98 is trading with agent 126\n",
        "Agent 101 is trading with agent 23\n",
        "Agent 105 is trading with agent 80\n",
        "Agent 106 is trading with agent 21\n",
        "Agent 108 is trading with agent 116"
       ]
      },
      {
       "output_type": "stream",
       "stream": "stdout",
       "text": [
        "\n",
        "Agent 115 is trading with agent 135\n",
        "Agent 116 is trading with agent 108\n",
        "Agent 126 is trading with agent 98"
       ]
      },
      {
       "output_type": "stream",
       "stream": "stdout",
       "text": [
        "\n",
        "Agent 128 is trading with agent 129\n",
        "Agent 129 is trading with agent 128\n",
        "Agent 130 is trading with agent 137\n",
        "Agent 133 is trading with agent 37"
       ]
      },
      {
       "output_type": "stream",
       "stream": "stdout",
       "text": [
        "\n",
        "Agent 135 is trading with agent 115\n",
        "Agent 137 is trading with agent 130\n",
        "Agent 146 divided and created Agent 174"
       ]
      },
      {
       "output_type": "stream",
       "stream": "stdout",
       "text": [
        "\n",
        "Step: 68"
       ]
      },
      {
       "output_type": "stream",
       "stream": "stdout",
       "text": [
        "\n",
        "Number of Agents: 91\n",
        "Number of Goods: 266\n",
        "Gini: 24.7511702799\n",
        "\n",
        "\n",
        "Agent 21 is trading with agent 106\n",
        "Agent 23 is trading with agent 101"
       ]
      },
      {
       "output_type": "stream",
       "stream": "stdout",
       "text": [
        "\n",
        "Agent 23 has died\n",
        "Agent 28 is trading with agent 58\n",
        "Agent 31 is trading with agent 46"
       ]
      },
      {
       "output_type": "stream",
       "stream": "stdout",
       "text": [
        "\n",
        "Agent 35 has died\n",
        "Agent 37 is trading with agent 133\n",
        "Agent 46 is trading with agent 31\n",
        "Agent 58 is trading with agent 123\n",
        "Agent 80 is trading with agent 105"
       ]
      },
      {
       "output_type": "stream",
       "stream": "stdout",
       "text": [
        "\n",
        "Agent 90 divided and created Agent 175\n",
        "Agent 98 is trading with agent 138\n",
        "Agent 105 is trading with agent 80"
       ]
      },
      {
       "output_type": "stream",
       "stream": "stdout",
       "text": [
        "\n",
        "Agent 106 is trading with agent 21\n",
        "Agent 108 is trading with agent 116"
       ]
      },
      {
       "output_type": "stream",
       "stream": "stdout",
       "text": [
        "\n",
        "Agent 112 divided and created Agent 176\n",
        "Agent 113 divided and created Agent 177\n",
        "Agent 115 is trading with agent 135\n",
        "Agent 116 is trading with agent 108\n",
        "Agent 117 divided and created Agent 178"
       ]
      },
      {
       "output_type": "stream",
       "stream": "stdout",
       "text": [
        "\n",
        "Agent 123 is trading with agent 58"
       ]
      },
      {
       "output_type": "stream",
       "stream": "stdout",
       "text": [
        "\n",
        "Agent 128 is trading with agent 129\n",
        "Agent 129 is trading with agent 128\n",
        "Agent 130 is trading with agent 137"
       ]
      },
      {
       "output_type": "stream",
       "stream": "stdout",
       "text": [
        "\n",
        "Agent 133 is trading with agent 37\n",
        "Agent 135 is trading with agent 115\n",
        "Agent 137 is trading with agent 130"
       ]
      },
      {
       "output_type": "stream",
       "stream": "stdout",
       "text": [
        "\n",
        "Agent 138 is trading with agent 98\n",
        "Step: 69"
       ]
      },
      {
       "output_type": "stream",
       "stream": "stdout",
       "text": [
        "\n",
        "Number of Agents: 93\n",
        "Number of Goods: 264\n",
        "Gini: 24.7964245563\n",
        "\n",
        "\n",
        "Agent 7 divided and created Agent 179\n",
        "Agent 7 has died\n",
        "Agent 13 is trading with agent 25\n",
        "Agent 21 is trading with agent 22"
       ]
      },
      {
       "output_type": "stream",
       "stream": "stdout",
       "text": [
        "\n",
        "Agent 22 is trading with agent 21\n",
        "Agent 25 is trading with agent 13\n",
        "Agent 31 is trading with agent 46"
       ]
      },
      {
       "output_type": "stream",
       "stream": "stdout",
       "text": [
        "\n",
        "Agent 31 has died\n",
        "Agent 37 is trading with agent 133\n",
        "Agent 80 is trading with agent 105"
       ]
      },
      {
       "output_type": "stream",
       "stream": "stdout",
       "text": [
        "\n",
        "Agent 91 has died\n",
        "Agent 98 is trading with agent 126\n",
        "Agent 101 has died"
       ]
      },
      {
       "output_type": "stream",
       "stream": "stdout",
       "text": [
        "\n",
        "Agent 105 is trading with agent 80\n",
        "Agent 108 is trading with agent 116"
       ]
      },
      {
       "output_type": "stream",
       "stream": "stdout",
       "text": [
        "\n",
        "Agent 115 is trading with agent 135"
       ]
      },
      {
       "output_type": "stream",
       "stream": "stdout",
       "text": [
        "\n",
        "Agent 116 is trading with agent 108\n",
        "Agent 126 is trading with agent 98"
       ]
      },
      {
       "output_type": "stream",
       "stream": "stdout",
       "text": [
        "\n",
        "Agent 128 is trading with agent 129\n",
        "Agent 129 is trading with agent 128\n",
        "Agent 130 is trading with agent 137\n",
        "Agent 135 is trading with agent 115"
       ]
      },
      {
       "output_type": "stream",
       "stream": "stdout",
       "text": [
        "\n",
        "Agent 137 is trading with agent 130\n",
        "Step: 70"
       ]
      },
      {
       "output_type": "stream",
       "stream": "stdout",
       "text": [
        "\n",
        "Number of Agents: 90\n",
        "Number of Goods: 266\n",
        "Gini: 24.5178853101\n",
        "\n",
        "\n",
        "Agent 13 is trading with agent 25\n",
        "Agent 21 is trading with agent 22"
       ]
      },
      {
       "output_type": "stream",
       "stream": "stdout",
       "text": [
        "\n",
        "Agent 22 is trading with agent 21\n",
        "Agent 25 is trading with agent 13\n",
        "Agent 58 is trading with agent 62\n",
        "Agent 62 is trading with agent 58"
       ]
      },
      {
       "output_type": "stream",
       "stream": "stdout",
       "text": [
        "\n",
        "Agent 63 has died\n",
        "Agent 80 is trading with agent 105\n",
        "Agent 98 is trading with agent 126\n",
        "Agent 105 is trading with agent 80\n",
        "Agent 108 is trading with agent 116"
       ]
      },
      {
       "output_type": "stream",
       "stream": "stdout",
       "text": [
        "\n",
        "Agent 115 is trading with agent 135\n",
        "Agent 116 is trading with agent 108\n",
        "Agent 126 is trading with agent 98"
       ]
      },
      {
       "output_type": "stream",
       "stream": "stdout",
       "text": [
        "\n",
        "Agent 128 is trading with agent 129\n",
        "Agent 129 is trading with agent 128\n",
        "Agent 130 is trading with agent 137\n",
        "Agent 135 is trading with agent 115\n",
        "Agent 137 is trading with agent 130"
       ]
      },
      {
       "output_type": "stream",
       "stream": "stdout",
       "text": [
        "\n",
        "Agent 144 divided and created Agent 180"
       ]
      },
      {
       "output_type": "stream",
       "stream": "stdout",
       "text": [
        "\n",
        "Agent 148 divided and created Agent 181"
       ]
      },
      {
       "output_type": "stream",
       "stream": "stdout",
       "text": [
        "\n",
        "Step: 71"
       ]
      },
      {
       "output_type": "stream",
       "stream": "stdout",
       "text": [
        "\n",
        "Number of Agents: 91\n",
        "Number of Goods: 276\n",
        "Gini: 25.0431153364\n",
        "\n",
        "\n",
        "Agent 13 is trading with agent 25\n",
        "Agent 21 is trading with agent 22"
       ]
      },
      {
       "output_type": "stream",
       "stream": "stdout",
       "text": [
        "\n",
        "Agent 22 is trading with agent 21\n",
        "Agent 25 is trading with agent 13\n",
        "Agent 58 is trading with agent 28"
       ]
      },
      {
       "output_type": "stream",
       "stream": "stdout",
       "text": [
        "\n",
        "Agent 80 is trading with agent 36\n",
        "Agent 98 is trading with agent 138\n",
        "Agent 108 is trading with agent 116"
       ]
      },
      {
       "output_type": "stream",
       "stream": "stdout",
       "text": [
        "\n",
        "Agent 115 is trading with agent 135\n",
        "Agent 116 is trading with agent 108\n",
        "Agent 130 is trading with agent 137"
       ]
      },
      {
       "output_type": "stream",
       "stream": "stdout",
       "text": [
        "\n",
        "Agent 133 is trading with agent 132\n",
        "Agent 135 is trading with agent 115\n",
        "Agent 137 is trading with agent 130\n",
        "Agent 138 is trading with agent 98"
       ]
      },
      {
       "output_type": "stream",
       "stream": "stdout",
       "text": [
        "\n",
        "Agent 139 divided and created Agent 182\n",
        "Agent 146 divided and created Agent 183"
       ]
      },
      {
       "output_type": "stream",
       "stream": "stdout",
       "text": [
        "\n",
        "Agent 153 divided and created Agent 184"
       ]
      },
      {
       "output_type": "stream",
       "stream": "stdout",
       "text": [
        "\n",
        "Step: 72"
       ]
      },
      {
       "output_type": "stream",
       "stream": "stdout",
       "text": [
        "\n",
        "Number of Agents: 94\n",
        "Number of Goods: 273\n",
        "Gini: 25.0400901756\n",
        "\n",
        "\n",
        "Agent 11 has died\n",
        "Agent 12 has died\n",
        "Agent 13 is trading with agent 25\n",
        "Agent 21 is trading with agent 106\n",
        "Agent 22 has died"
       ]
      },
      {
       "output_type": "stream",
       "stream": "stdout",
       "text": [
        "\n",
        "Agent 185 was created\n",
        "Agent 25 is trading with agent 13\n",
        "Agent 28 is trading with agent 58\n",
        "Agent 36 is trading with agent 80\n",
        "Agent 36 has died\n",
        "Agent 62 has died"
       ]
      },
      {
       "output_type": "stream",
       "stream": "stdout",
       "text": [
        "\n",
        "Agent 80 divided and created Agent 186\n",
        "Agent 97 is trading with agent 127\n",
        "Agent 98 is trading with agent 138\n",
        "Agent 106 is trading with agent 21\n",
        "Agent 115 is trading with agent 135"
       ]
      },
      {
       "output_type": "stream",
       "stream": "stdout",
       "text": [
        "\n",
        "Agent 123 has died"
       ]
      },
      {
       "output_type": "stream",
       "stream": "stdout",
       "text": [
        "\n",
        "Agent 127 is trading with agent 97\n",
        "Agent 128 is trading with agent 129\n",
        "Agent 129 is trading with agent 128\n",
        "Agent 130 divided and created Agent 187\n",
        "Agent 132 is trading with agent 133\n",
        "Agent 133 is trading with agent 132"
       ]
      },
      {
       "output_type": "stream",
       "stream": "stdout",
       "text": [
        "\n",
        "Agent 135 is trading with agent 115\n",
        "Agent 136 divided and created Agent 188\n",
        "Agent 138 is trading with agent 98\n",
        "Agent 145 divided and created Agent 189"
       ]
      },
      {
       "output_type": "stream",
       "stream": "stdout",
       "text": [
        "\n",
        "Agent 161 divided and created Agent 190"
       ]
      },
      {
       "output_type": "stream",
       "stream": "stdout",
       "text": [
        "\n",
        "Agent 162 has died\n",
        "Step: 73"
       ]
      },
      {
       "output_type": "stream",
       "stream": "stdout",
       "text": [
        "\n",
        "Number of Agents: 93\n",
        "Number of Goods: 274\n",
        "Gini: 24.2997836546\n",
        "\n",
        "\n",
        "Agent 13 is trading with agent 25\n",
        "Agent 13 has died\n",
        "Agent 21 is trading with agent 106\n",
        "Agent 28 is trading with agent 16\n",
        "Agent 80 is trading with agent 105"
       ]
      },
      {
       "output_type": "stream",
       "stream": "stdout",
       "text": [
        "\n",
        "Agent 97 is trading with agent 95\n",
        "Agent 98 is trading with agent 126\n",
        "Agent 105 is trading with agent 80\n",
        "Agent 106 is trading with agent 21\n",
        "Agent 107 has died\n",
        "Agent 115 is trading with agent 135"
       ]
      },
      {
       "output_type": "stream",
       "stream": "stdout",
       "text": [
        "\n",
        "Agent 120 divided and created Agent 191\n",
        "Agent 126 is trading with agent 98"
       ]
      },
      {
       "output_type": "stream",
       "stream": "stdout",
       "text": [
        "\n",
        "Agent 128 is trading with agent 129\n",
        "Agent 129 is trading with agent 128\n",
        "Agent 130 is trading with agent 137\n",
        "Agent 132 is trading with agent 133\n",
        "Agent 132 has died\n",
        "Agent 135 is trading with agent 115\n",
        "Agent 137 is trading with agent 130"
       ]
      },
      {
       "output_type": "stream",
       "stream": "stdout",
       "text": [
        "\n",
        "Agent 143 divided and created Agent 192"
       ]
      },
      {
       "output_type": "stream",
       "stream": "stdout",
       "text": [
        "\n",
        "Agent 147 divided and created Agent 193"
       ]
      },
      {
       "output_type": "stream",
       "stream": "stdout",
       "text": [
        "\n",
        "Agent 151 divided and created Agent 194\n",
        "Agent 154 divided and created Agent 195\n",
        "Step: 74"
       ]
      },
      {
       "output_type": "stream",
       "stream": "stdout",
       "text": [
        "\n",
        "Number of Agents: 95\n",
        "Number of Goods: 272\n",
        "Gini: 22.7914561617\n",
        "\n",
        "\n",
        "Agent 16 is trading with agent 28\n",
        "Agent 21 is trading with agent 106\n",
        "Agent 25 has died\n",
        "Agent 28 is trading with agent 16\n",
        "Agent 80 is trading with agent 105"
       ]
      },
      {
       "output_type": "stream",
       "stream": "stdout",
       "text": [
        "\n",
        "Agent 97 is trading with agent 127\n",
        "Agent 97 has died\n",
        "Agent 98 is trading with agent 126\n",
        "Agent 105 is trading with agent 80\n",
        "Agent 106 is trading with agent 21\n",
        "Agent 108 is trading with agent 116"
       ]
      },
      {
       "output_type": "stream",
       "stream": "stdout",
       "text": [
        "\n",
        "Agent 112 divided and created Agent 196\n",
        "Agent 112 has died\n",
        "Agent 197 was created\n",
        "Agent 115 is trading with agent 135\n",
        "Agent 116 is trading with agent 108\n",
        "Agent 124 divided and created Agent 198"
       ]
      },
      {
       "output_type": "stream",
       "stream": "stdout",
       "text": [
        "\n",
        "Agent 126 is trading with agent 98\n",
        "Agent 128 is trading with agent 129\n",
        "Agent 129 is trading with agent 128\n",
        "Agent 130 is trading with agent 137\n",
        "Agent 135 is trading with agent 115\n",
        "Agent 142 divided and created Agent 199"
       ]
      },
      {
       "output_type": "stream",
       "stream": "stdout",
       "text": [
        "\n",
        "Agent 170 has died"
       ]
      },
      {
       "output_type": "stream",
       "stream": "stdout",
       "text": [
        "\n",
        "Agent 200 was created\n",
        "Step: 75"
       ]
      },
      {
       "output_type": "stream",
       "stream": "stdout",
       "text": [
        "\n",
        "Number of Agents: 96\n",
        "Number of Goods: 273\n",
        "Gini: 23.5468962649\n",
        "\n",
        "\n",
        "Agent 21 is trading with agent 106\n",
        "Agent 37 is trading with agent 133"
       ]
      },
      {
       "output_type": "stream",
       "stream": "stdout",
       "text": [
        "\n",
        "Agent 58 has died\n",
        "Agent 98 is trading with agent 138"
       ]
      },
      {
       "output_type": "stream",
       "stream": "stdout",
       "text": [
        "\n",
        "Agent 106 is trading with agent 21\n",
        "Agent 115 is trading with agent 135"
       ]
      },
      {
       "output_type": "stream",
       "stream": "stdout",
       "text": [
        "\n",
        "Agent 133 is trading with agent 90"
       ]
      },
      {
       "output_type": "stream",
       "stream": "stdout",
       "text": [
        "\n",
        "Agent 135 is trading with agent 115\n",
        "Agent 138 is trading with agent 98\n",
        "Agent 164 divided and created Agent 201"
       ]
      },
      {
       "output_type": "stream",
       "stream": "stdout",
       "text": [
        "\n",
        "Step: 76"
       ]
      },
      {
       "output_type": "stream",
       "stream": "stdout",
       "text": [
        "\n",
        "Number of Agents: 96\n",
        "Number of Goods: 263\n",
        "Gini: 22.9007820137\n",
        "\n",
        "\n",
        "Agent 16 is trading with agent 28\n",
        "Agent 21 is trading with agent 106\n",
        "Agent 28 is trading with agent 16\n",
        "Agent 45 divided and created Agent 202\n",
        "Agent 72 has died\n",
        "Agent 90 is trading with agent 133"
       ]
      },
      {
       "output_type": "stream",
       "stream": "stdout",
       "text": [
        "\n",
        "Agent 98 is trading with agent 138\n",
        "Agent 106 is trading with agent 21\n",
        "Agent 108 is trading with agent 116\n",
        "Agent 113 has died\n",
        "Agent 115 is trading with agent 135\n",
        "Agent 116 is trading with agent 108\n",
        "Agent 128 is trading with agent 129"
       ]
      },
      {
       "output_type": "stream",
       "stream": "stdout",
       "text": [
        "\n",
        "Agent 129 is trading with agent 128\n",
        "Agent 133 is trading with agent 37\n",
        "Agent 135 is trading with agent 115\n",
        "Agent 137 is trading with agent 130\n",
        "Agent 138 is trading with agent 98"
       ]
      },
      {
       "output_type": "stream",
       "stream": "stdout",
       "text": [
        "\n",
        "Agent 150 divided and created Agent 203"
       ]
      },
      {
       "output_type": "stream",
       "stream": "stdout",
       "text": [
        "\n",
        "Agent 157 divided and created Agent 204\n",
        "Step: 77"
       ]
      },
      {
       "output_type": "stream",
       "stream": "stdout",
       "text": [
        "\n",
        "Number of Agents: 97\n",
        "Number of Goods: 257\n",
        "Gini: 23.1227752259\n",
        "\n",
        "\n",
        "Agent 16 is trading with agent 28\n",
        "Agent 21 is trading with agent 143\n",
        "Agent 21 has died\n",
        "Agent 28 is trading with agent 16\n",
        "Agent 37 is trading with agent 133\n",
        "Agent 98 is trading with agent 138"
       ]
      },
      {
       "output_type": "stream",
       "stream": "stdout",
       "text": [
        "\n",
        "Agent 108 is trading with agent 116\n",
        "Agent 115 is trading with agent 135\n",
        "Agent 116 is trading with agent 108\n",
        "Agent 117 divided and created Agent 205\n",
        "Agent 124 is trading with agent 76"
       ]
      },
      {
       "output_type": "stream",
       "stream": "stdout",
       "text": [
        "\n",
        "Agent 130 is trading with agent 137\n",
        "Agent 133 is trading with agent 37\n",
        "Agent 135 is trading with agent 115\n",
        "Agent 137 is trading with agent 130"
       ]
      },
      {
       "output_type": "stream",
       "stream": "stdout",
       "text": [
        "\n",
        "Agent 138 is trading with agent 98\n",
        "Step: 78"
       ]
      },
      {
       "output_type": "stream",
       "stream": "stdout",
       "text": [
        "\n",
        "Number of Agents: 97\n",
        "Number of Goods: 254\n",
        "Gini: 23.25605884\n",
        "\n",
        "\n",
        "Agent 16 is trading with agent 28\n",
        "Agent 28 is trading with agent 16\n",
        "Agent 37 is trading with agent 133\n",
        "Agent 98 is trading with agent 126"
       ]
      },
      {
       "output_type": "stream",
       "stream": "stdout",
       "text": [
        "\n",
        "Agent 115 is trading with agent 135\n",
        "Agent 126 is trading with agent 98"
       ]
      },
      {
       "output_type": "stream",
       "stream": "stdout",
       "text": [
        "\n",
        "Agent 127 divided and created Agent 206\n",
        "Agent 130 is trading with agent 137\n",
        "Agent 133 is trading with agent 90\n",
        "Agent 135 is trading with agent 115\n",
        "Agent 143 is trading with agent 21"
       ]
      },
      {
       "output_type": "stream",
       "stream": "stdout",
       "text": [
        "\n",
        "Step: 79"
       ]
      },
      {
       "output_type": "stream",
       "stream": "stdout",
       "text": [
        "\n",
        "Number of Agents: 98\n",
        "Number of Goods: 255\n",
        "Gini: 23.8807128883\n",
        "\n",
        "\n",
        "Agent 16 is trading with agent 8\n",
        "Agent 90 is trading with agent 133"
       ]
      },
      {
       "output_type": "stream",
       "stream": "stdout",
       "text": [
        "\n",
        "Agent 98 is trading with agent 138\n",
        "Agent 108 is trading with agent 116\n",
        "Agent 115 is trading with agent 135\n",
        "Agent 116 is trading with agent 108\n",
        "Agent 133 is trading with agent 37"
       ]
      },
      {
       "output_type": "stream",
       "stream": "stdout",
       "text": [
        "\n",
        "Agent 135 is trading with agent 115\n",
        "Agent 137 is trading with agent 130\n",
        "Agent 138 is trading with agent 98\n",
        "Agent 160 divided and created Agent 207"
       ]
      },
      {
       "output_type": "stream",
       "stream": "stdout",
       "text": [
        "\n",
        "Agent 174 divided and created Agent 208"
       ]
      },
      {
       "output_type": "stream",
       "stream": "stdout",
       "text": [
        "\n",
        "Agent 176 divided and created Agent 209\n",
        "Step: 80"
       ]
      },
      {
       "output_type": "stream",
       "stream": "stdout",
       "text": [
        "\n",
        "Number of Agents: 101\n",
        "Number of Goods: 251\n",
        "Gini: 23.0177815052\n",
        "\n",
        "\n",
        "Agent 8 is trading with agent 16\n",
        "Agent 16 is trading with agent 28\n",
        "Agent 28 is trading with agent 16\n",
        "Agent 37 is trading with agent 133"
       ]
      },
      {
       "output_type": "stream",
       "stream": "stdout",
       "text": [
        "\n",
        "Agent 80 is trading with agent 105\n",
        "Agent 98 is trading with agent 126\n",
        "Agent 105 is trading with agent 80\n",
        "Agent 108 is trading with agent 116"
       ]
      },
      {
       "output_type": "stream",
       "stream": "stdout",
       "text": [
        "\n",
        "Agent 111 divided and created Agent 210\n",
        "Agent 115 is trading with agent 135\n",
        "Agent 116 is trading with agent 108\n",
        "Agent 126 is trading with agent 98"
       ]
      },
      {
       "output_type": "stream",
       "stream": "stdout",
       "text": [
        "\n",
        "Agent 128 has died\n",
        "Agent 130 is trading with agent 137\n",
        "Agent 133 is trading with agent 37\n",
        "Agent 137 is trading with agent 130\n",
        "Agent 144 divided and created Agent 211"
       ]
      },
      {
       "output_type": "stream",
       "stream": "stdout",
       "text": [
        "\n",
        "Agent 153 is trading with agent 135"
       ]
      },
      {
       "output_type": "stream",
       "stream": "stdout",
       "text": [
        "\n",
        "Agent 154 is trading with agent 168\n",
        "Agent 166 divided and created Agent 212"
       ]
      },
      {
       "output_type": "stream",
       "stream": "stdout",
       "text": [
        "\n",
        "Agent 168 is trading with agent 154\n",
        "Agent 172 divided and created Agent 213\n",
        "Step: 81"
       ]
      },
      {
       "output_type": "stream",
       "stream": "stdout",
       "text": [
        "\n",
        "Number of Agents: 104\n",
        "Number of Goods: 245\n",
        "Gini: 22.2053574989\n",
        "\n",
        "\n",
        "Agent 16 is trading with agent 8\n",
        "Agent 37 is trading with agent 133"
       ]
      },
      {
       "output_type": "stream",
       "stream": "stdout",
       "text": [
        "\n",
        "Agent 98 is trading with agent 126\n",
        "Agent 108 is trading with agent 116\n",
        "Agent 116 is trading with agent 108"
       ]
      },
      {
       "output_type": "stream",
       "stream": "stdout",
       "text": [
        "\n",
        "Agent 126 is trading with agent 98"
       ]
      },
      {
       "output_type": "stream",
       "stream": "stdout",
       "text": [
        "\n",
        "Agent 130 is trading with agent 137\n",
        "Agent 133 is trading with agent 37\n",
        "Agent 137 is trading with agent 130"
       ]
      },
      {
       "output_type": "stream",
       "stream": "stdout",
       "text": [
        "\n",
        "Agent 147 is trading with agent 87"
       ]
      },
      {
       "output_type": "stream",
       "stream": "stdout",
       "text": [
        "\n",
        "Agent 154 is trading with agent 168\n",
        "Step: 82"
       ]
      },
      {
       "output_type": "stream",
       "stream": "stdout",
       "text": [
        "\n",
        "Number of Agents: 104\n",
        "Number of Goods: 246\n",
        "Gini: 23.0143938804\n",
        "\n",
        "\n",
        "Agent 8 is trading with agent 16\n",
        "Agent 16 is trading with agent 8\n",
        "Agent 37 is trading with agent 133"
       ]
      },
      {
       "output_type": "stream",
       "stream": "stdout",
       "text": [
        "\n",
        "Agent 80 is trading with agent 105\n",
        "Agent 98 is trading with agent 126\n",
        "Agent 105 is trading with agent 80\n",
        "Agent 108 is trading with agent 116\n",
        "Agent 116 is trading with agent 108"
       ]
      },
      {
       "output_type": "stream",
       "stream": "stdout",
       "text": [
        "\n",
        "Agent 126 is trading with agent 98"
       ]
      },
      {
       "output_type": "stream",
       "stream": "stdout",
       "text": [
        "\n",
        "Agent 130 is trading with agent 137\n",
        "Agent 133 is trading with agent 37\n",
        "Agent 136 divided and created Agent 214"
       ]
      },
      {
       "output_type": "stream",
       "stream": "stdout",
       "text": [
        "\n",
        "Agent 137 is trading with agent 130\n",
        "Agent 164 is trading with agent 101"
       ]
      },
      {
       "output_type": "stream",
       "stream": "stdout",
       "text": [
        "\n",
        "Agent 168 is trading with agent 154\n",
        "Agent 181 is trading with agent 142"
       ]
      },
      {
       "output_type": "stream",
       "stream": "stdout",
       "text": [
        "\n",
        "Step: 83"
       ]
      },
      {
       "output_type": "stream",
       "stream": "stdout",
       "text": [
        "\n",
        "Number of Agents: 105\n",
        "Number of Goods: 248\n",
        "Gini: 23.3266811484\n",
        "\n",
        "\n",
        "Agent 8 is trading with agent 16\n",
        "Agent 16 is trading with agent 8\n",
        "Agent 37 is trading with agent 133\n",
        "Agent 80 has died\n",
        "Agent 98 is trading with agent 138"
       ]
      },
      {
       "output_type": "stream",
       "stream": "stdout",
       "text": [
        "\n",
        "Agent 108 is trading with agent 116\n",
        "Agent 116 is trading with agent 108\n",
        "Agent 121 has died"
       ]
      },
      {
       "output_type": "stream",
       "stream": "stdout",
       "text": [
        "\n",
        "Agent 215 was created\n",
        "Agent 130 is trading with agent 137"
       ]
      },
      {
       "output_type": "stream",
       "stream": "stdout",
       "text": [
        "\n",
        "Agent 133 is trading with agent 37\n",
        "Agent 135 is trading with agent 153\n",
        "Agent 137 is trading with agent 130"
       ]
      },
      {
       "output_type": "stream",
       "stream": "stdout",
       "text": [
        "\n",
        "Agent 138 is trading with agent 98\n",
        "Agent 141 divided and created Agent 216\n",
        "Agent 142 is trading with agent 181\n",
        "Agent 145 divided and created Agent 217"
       ]
      },
      {
       "output_type": "stream",
       "stream": "stdout",
       "text": [
        "\n",
        "Agent 146 divided and created Agent 218\n",
        "Agent 153 is trading with agent 135"
       ]
      },
      {
       "output_type": "stream",
       "stream": "stdout",
       "text": [
        "\n",
        "Agent 154 is trading with agent 168\n",
        "Agent 155 divided and created Agent 219\n",
        "Agent 161 divided and created Agent 220"
       ]
      },
      {
       "output_type": "stream",
       "stream": "stdout",
       "text": [
        "\n",
        "Agent 163 divided and created Agent 221\n",
        "Agent 168 is trading with agent 154"
       ]
      },
      {
       "output_type": "stream",
       "stream": "stdout",
       "text": [
        "\n",
        "Step: 84"
       ]
      },
      {
       "output_type": "stream",
       "stream": "stdout",
       "text": [
        "\n",
        "Number of Agents: 110\n",
        "Number of Goods: 251\n",
        "Gini: 21.7588885242\n",
        "\n",
        "\n",
        "Agent 8 is trading with agent 16\n",
        "Agent 16 is trading with agent 28\n",
        "Agent 28 is trading with agent 16\n",
        "Agent 37 is trading with agent 133"
       ]
      },
      {
       "output_type": "stream",
       "stream": "stdout",
       "text": [
        "\n",
        "Agent 46 is trading with agent 31\n",
        "Agent 98 is trading with agent 138\n",
        "Agent 108 is trading with agent 181\n",
        "Agent 130 is trading with agent 137"
       ]
      },
      {
       "output_type": "stream",
       "stream": "stdout",
       "text": [
        "\n",
        "Agent 133 is trading with agent 90\n",
        "Agent 135 is trading with agent 153\n",
        "Agent 138 is trading with agent 98"
       ]
      },
      {
       "output_type": "stream",
       "stream": "stdout",
       "text": [
        "\n",
        "Agent 153 is trading with agent 135"
       ]
      },
      {
       "output_type": "stream",
       "stream": "stdout",
       "text": [
        "\n",
        "Agent 154 is trading with agent 168\n",
        "Agent 163 divided and created Agent 222"
       ]
      },
      {
       "output_type": "stream",
       "stream": "stdout",
       "text": [
        "\n",
        "Agent 168 is trading with agent 154"
       ]
      },
      {
       "output_type": "stream",
       "stream": "stdout",
       "text": [
        "\n",
        "Agent 181 is trading with agent 108"
       ]
      },
      {
       "output_type": "stream",
       "stream": "stdout",
       "text": [
        "\n",
        "Step: 85"
       ]
      },
      {
       "output_type": "stream",
       "stream": "stdout",
       "text": [
        "\n",
        "Number of Agents: 111\n",
        "Number of Goods: 247\n",
        "Gini: 22.1587943083\n",
        "\n",
        "\n",
        "Agent 16 is trading with agent 8\n",
        "Agent 60 has died"
       ]
      },
      {
       "output_type": "stream",
       "stream": "stdout",
       "text": [
        "\n",
        "Agent 90 is trading with agent 133\n",
        "Agent 98 is trading with agent 138\n",
        "Agent 108 is trading with agent 116\n",
        "Agent 116 is trading with agent 108"
       ]
      },
      {
       "output_type": "stream",
       "stream": "stdout",
       "text": [
        "\n",
        "Agent 133 is trading with agent 37"
       ]
      },
      {
       "output_type": "stream",
       "stream": "stdout",
       "text": [
        "\n",
        "Agent 138 is trading with agent 98\n",
        "Agent 151 divided and created Agent 223"
       ]
      },
      {
       "output_type": "stream",
       "stream": "stdout",
       "text": [
        "\n",
        "Agent 154 is trading with agent 168\n",
        "Agent 157 divided and created Agent 224\n",
        "Agent 168 divided and created Agent 225"
       ]
      },
      {
       "output_type": "stream",
       "stream": "stdout",
       "text": [
        "\n",
        "Agent 171 is trading with agent 149\n",
        "Agent 193 divided and created Agent 226"
       ]
      },
      {
       "output_type": "stream",
       "stream": "stdout",
       "text": [
        "\n",
        "Agent 200 has died"
       ]
      },
      {
       "output_type": "stream",
       "stream": "stdout",
       "text": [
        "\n",
        "Agent 227 was created\n",
        "Step: 86"
       ]
      },
      {
       "output_type": "stream",
       "stream": "stdout",
       "text": [
        "\n",
        "Number of Agents: 114\n",
        "Number of Goods: 246\n",
        "Gini: 23.0765517325\n",
        "\n",
        "\n",
        "Agent 8 is trading with agent 16\n",
        "Agent 16 is trading with agent 8\n",
        "Agent 37 is trading with agent 133"
       ]
      },
      {
       "output_type": "stream",
       "stream": "stdout",
       "text": [
        "\n",
        "Agent 46 has died\n",
        "Agent 98 is trading with agent 126\n",
        "Agent 105 has died\n",
        "Agent 106 has died\n",
        "Agent 115 has died"
       ]
      },
      {
       "output_type": "stream",
       "stream": "stdout",
       "text": [
        "\n",
        "Agent 126 is trading with agent 98"
       ]
      },
      {
       "output_type": "stream",
       "stream": "stdout",
       "text": [
        "\n",
        "Agent 133 is trading with agent 90\n",
        "Agent 137 is trading with agent 187"
       ]
      },
      {
       "output_type": "stream",
       "stream": "stdout",
       "text": [
        "\n",
        "Agent 140 divided and created Agent 228\n",
        "Agent 149 is trading with agent 171"
       ]
      },
      {
       "output_type": "stream",
       "stream": "stdout",
       "text": [
        "\n",
        "Agent 150 divided and created Agent 229\n",
        "Agent 163 is trading with agent 165"
       ]
      },
      {
       "output_type": "stream",
       "stream": "stdout",
       "text": [
        "\n",
        "Agent 165 is trading with agent 163\n",
        "Agent 168 is trading with agent 154\n",
        "Agent 171 is trading with agent 149"
       ]
      },
      {
       "output_type": "stream",
       "stream": "stdout",
       "text": [
        "\n",
        "Agent 174 divided and created Agent 230\n",
        "Agent 177 divided and created Agent 231\n",
        "Agent 181 is trading with agent 108\n",
        "Agent 187 is trading with agent 137"
       ]
      },
      {
       "output_type": "stream",
       "stream": "stdout",
       "text": [
        "\n",
        "Step: 87"
       ]
      },
      {
       "output_type": "stream",
       "stream": "stdout",
       "text": [
        "\n",
        "Number of Agents: 114\n",
        "Number of Goods: 248\n",
        "Gini: 22.749954471\n",
        "\n",
        "\n",
        "Agent 8 is trading with agent 16\n",
        "Agent 16 is trading with agent 8\n",
        "Agent 90 is trading with agent 133"
       ]
      },
      {
       "output_type": "stream",
       "stream": "stdout",
       "text": [
        "\n",
        "Agent 98 is trading with agent 138\n",
        "Agent 108 is trading with agent 116\n",
        "Agent 116 is trading with agent 108"
       ]
      },
      {
       "output_type": "stream",
       "stream": "stdout",
       "text": [
        "\n",
        "Agent 133 is trading with agent 37"
       ]
      },
      {
       "output_type": "stream",
       "stream": "stdout",
       "text": [
        "\n",
        "Agent 137 is trading with agent 187\n",
        "Agent 138 is trading with agent 98\n",
        "Agent 149 is trading with agent 171"
       ]
      },
      {
       "output_type": "stream",
       "stream": "stdout",
       "text": [
        "\n",
        "Agent 154 is trading with agent 168"
       ]
      },
      {
       "output_type": "stream",
       "stream": "stdout",
       "text": [
        "\n",
        "Agent 163 is trading with agent 165\n",
        "Agent 165 is trading with agent 163\n",
        "Agent 168 is trading with agent 154"
       ]
      },
      {
       "output_type": "stream",
       "stream": "stdout",
       "text": [
        "\n",
        "Agent 171 is trading with agent 149\n",
        "Agent 175 divided and created Agent 232\n",
        "Agent 183 divided and created Agent 233"
       ]
      },
      {
       "output_type": "stream",
       "stream": "stdout",
       "text": [
        "\n",
        "Agent 187 is trading with agent 137\n",
        "Agent 188 divided and created Agent 234\n",
        "Agent 198 has died"
       ]
      },
      {
       "output_type": "stream",
       "stream": "stdout",
       "text": [
        "\n",
        "Step: 88"
       ]
      },
      {
       "output_type": "stream",
       "stream": "stdout",
       "text": [
        "\n",
        "Number of Agents: 116\n",
        "Number of Goods: 241\n",
        "Gini: 21.9162283265\n",
        "\n",
        "\n",
        "Agent 8 is trading with agent 16\n",
        "Agent 8 has died\n",
        "Agent 16 is trading with agent 28\n",
        "Agent 16 has died\n",
        "Agent 37 is trading with agent 133"
       ]
      },
      {
       "output_type": "stream",
       "stream": "stdout",
       "text": [
        "\n",
        "Agent 45 has died\n",
        "Agent 90 has died\n",
        "Agent 98 is trading with agent 138\n",
        "Agent 108 is trading with agent 181\n",
        "Agent 133 is trading with agent 37"
       ]
      },
      {
       "output_type": "stream",
       "stream": "stdout",
       "text": [
        "\n",
        "Agent 136 divided and created Agent 235\n",
        "Agent 137 is trading with agent 187\n",
        "Agent 138 is trading with agent 98\n",
        "Agent 149 is trading with agent 171"
       ]
      },
      {
       "output_type": "stream",
       "stream": "stdout",
       "text": [
        "\n",
        "Agent 154 is trading with agent 168\n",
        "Agent 163 is trading with agent 165"
       ]
      },
      {
       "output_type": "stream",
       "stream": "stdout",
       "text": [
        "\n",
        "Agent 165 is trading with agent 163\n",
        "Agent 166 divided and created Agent 236\n",
        "Agent 171 is trading with agent 149"
       ]
      },
      {
       "output_type": "stream",
       "stream": "stdout",
       "text": [
        "\n",
        "Agent 181 is trading with agent 142\n",
        "Agent 185 divided and created Agent 237"
       ]
      },
      {
       "output_type": "stream",
       "stream": "stdout",
       "text": [
        "\n",
        "Agent 187 is trading with agent 137\n",
        "Step: 89"
       ]
      },
      {
       "output_type": "stream",
       "stream": "stdout",
       "text": [
        "\n",
        "Number of Agents: 115\n",
        "Number of Goods: 242\n",
        "Gini: 21.7421760253\n",
        "\n",
        "\n",
        "Agent 37 is trading with agent 133\n",
        "Agent 98 is trading with agent 126\n",
        "Agent 98 has died\n",
        "Agent 238 was created\n",
        "Agent 111 divided and created Agent 239\n",
        "Agent 116 divided and created Agent 240"
       ]
      },
      {
       "output_type": "stream",
       "stream": "stdout",
       "text": [
        "\n",
        "Agent 133 is trading with agent 37"
       ]
      },
      {
       "output_type": "stream",
       "stream": "stdout",
       "text": [
        "\n",
        "Agent 137 is trading with agent 130\n",
        "Agent 142 is trading with agent 181"
       ]
      },
      {
       "output_type": "stream",
       "stream": "stdout",
       "text": [
        "\n",
        "Agent 149 is trading with agent 171"
       ]
      },
      {
       "output_type": "stream",
       "stream": "stdout",
       "text": [
        "\n",
        "Agent 163 is trading with agent 165"
       ]
      },
      {
       "output_type": "stream",
       "stream": "stdout",
       "text": [
        "\n",
        "Agent 165 is trading with agent 163\n",
        "Agent 171 is trading with agent 149"
       ]
      },
      {
       "output_type": "stream",
       "stream": "stdout",
       "text": [
        "\n",
        "Agent 181 is trading with agent 108\n",
        "Agent 201 divided and created Agent 241"
       ]
      },
      {
       "output_type": "stream",
       "stream": "stdout",
       "text": [
        "\n",
        "Step: 90"
       ]
      },
      {
       "output_type": "stream",
       "stream": "stdout",
       "text": [
        "\n",
        "Number of Agents: 118\n",
        "Number of Goods: 233\n",
        "Gini: 22.1724178909\n",
        "\n",
        "\n",
        "Agent 0 has died\n",
        "Agent 242 was created\n",
        "Agent 37 is trading with agent 133\n",
        "Agent 108 is trading with agent 181"
       ]
      },
      {
       "output_type": "stream",
       "stream": "stdout",
       "text": [
        "\n",
        "Agent 130 is trading with agent 137"
       ]
      },
      {
       "output_type": "stream",
       "stream": "stdout",
       "text": [
        "\n",
        "Agent 133 is trading with agent 37\n",
        "Agent 149 is trading with agent 171"
       ]
      },
      {
       "output_type": "stream",
       "stream": "stdout",
       "text": [
        "\n",
        "Agent 154 is trading with agent 168\n",
        "Agent 163 is trading with agent 165"
       ]
      },
      {
       "output_type": "stream",
       "stream": "stdout",
       "text": [
        "\n",
        "Agent 165 is trading with agent 163\n",
        "Agent 168 is trading with agent 154\n",
        "Agent 171 is trading with agent 149\n",
        "Agent 181 is trading with agent 142"
       ]
      },
      {
       "output_type": "stream",
       "stream": "stdout",
       "text": [
        "\n",
        "Agent 190 divided and created Agent 243"
       ]
      },
      {
       "output_type": "stream",
       "stream": "stdout",
       "text": [
        "\n",
        "Agent 199 divided and created Agent 244"
       ]
      },
      {
       "output_type": "stream",
       "stream": "stdout",
       "text": [
        "\n",
        "Step: 91"
       ]
      },
      {
       "output_type": "stream",
       "stream": "stdout",
       "text": [
        "\n",
        "Number of Agents: 120\n",
        "Number of Goods: 218\n",
        "Gini: 22.591436297\n",
        "\n",
        "\n",
        "Agent 37 is trading with agent 133\n",
        "Agent 117 has died"
       ]
      },
      {
       "output_type": "stream",
       "stream": "stdout",
       "text": [
        "\n",
        "Agent 245 was created\n",
        "Agent 127 divided and created Agent 246"
       ]
      },
      {
       "output_type": "stream",
       "stream": "stdout",
       "text": [
        "\n",
        "Agent 127 has died\n",
        "Agent 137 is trading with agent 130"
       ]
      },
      {
       "output_type": "stream",
       "stream": "stdout",
       "text": [
        "\n",
        "Agent 142 is trading with agent 181\n",
        "Agent 149 is trading with agent 171"
       ]
      },
      {
       "output_type": "stream",
       "stream": "stdout",
       "text": [
        "\n",
        "Agent 154 is trading with agent 168\n",
        "Agent 157 is trading with agent 133\n",
        "Agent 163 is trading with agent 165"
       ]
      },
      {
       "output_type": "stream",
       "stream": "stdout",
       "text": [
        "\n",
        "Agent 165 is trading with agent 163\n",
        "Agent 168 is trading with agent 154\n"
       ]
      },
      {
       "output_type": "stream",
       "stream": "stdout",
       "text": [
        "Agent 171 is trading with agent 149\n",
        "Agent 175 divided and created Agent 247\n",
        "Agent 178 divided and created Agent 248"
       ]
      },
      {
       "output_type": "stream",
       "stream": "stdout",
       "text": [
        "\n",
        "Agent 181 is trading with agent 108\n",
        "Step: 92"
       ]
      },
      {
       "output_type": "stream",
       "stream": "stdout",
       "text": [
        "\n",
        "Number of Agents: 122\n",
        "Number of Goods: 226\n",
        "Gini: 23.0242788082\n",
        "\n",
        "\n",
        "Agent 108 is trading with agent 181"
       ]
      },
      {
       "output_type": "stream",
       "stream": "stdout",
       "text": [
        "\n",
        "Agent 130 is trading with agent 137"
       ]
      },
      {
       "output_type": "stream",
       "stream": "stdout",
       "text": [
        "\n",
        "Agent 133 is trading with agent 37\n",
        "Agent 137 is trading with agent 130\n",
        "Agent 149 is trading with agent 171"
       ]
      },
      {
       "output_type": "stream",
       "stream": "stdout",
       "text": [
        "\n",
        "Agent 154 is trading with agent 168\n",
        "Agent 163 is trading with agent 165"
       ]
      },
      {
       "output_type": "stream",
       "stream": "stdout",
       "text": [
        "\n",
        "Agent 165 is trading with agent 163\n",
        "Agent 168 is trading with agent 154"
       ]
      },
      {
       "output_type": "stream",
       "stream": "stdout",
       "text": [
        "\n",
        "Agent 171 is trading with agent 149\n",
        "Agent 179 reproduced with agent 151 and had baby Agent 249"
       ]
      },
      {
       "output_type": "stream",
       "stream": "stdout",
       "text": [
        "\n",
        "Agent 181 is trading with agent 108\n",
        "Agent 196 divided and created Agent 250"
       ]
      },
      {
       "output_type": "stream",
       "stream": "stdout",
       "text": [
        "\n",
        "Agent 199 is trading with agent 175\n",
        "Agent 202 divided and created Agent 251\n",
        "Agent 207 divided and created Agent 252"
       ]
      },
      {
       "output_type": "stream",
       "stream": "stdout",
       "text": [
        "\n",
        "Agent 221 divided and created Agent 253"
       ]
      },
      {
       "output_type": "stream",
       "stream": "stdout",
       "text": [
        "\n",
        "Step: 93"
       ]
      },
      {
       "output_type": "stream",
       "stream": "stdout",
       "text": [
        "\n",
        "Number of Agents: 127\n",
        "Number of Goods: 213\n",
        "Gini: 21.814071316\n",
        "\n",
        "\n",
        "Agent 37 is trading with agent 133\n",
        "Agent 37 has died\n",
        "Agent 108 has died\n",
        "Agent 130 is trading with agent 137"
       ]
      },
      {
       "output_type": "stream",
       "stream": "stdout",
       "text": [
        "\n",
        "Agent 133 is trading with agent 157\n",
        "Agent 137 is trading with agent 187\n",
        "Agent 147 divided and created Agent 254"
       ]
      },
      {
       "output_type": "stream",
       "stream": "stdout",
       "text": [
        "\n",
        "Agent 149 is trading with agent 171\n",
        "Agent 154 is trading with agent 168"
       ]
      },
      {
       "output_type": "stream",
       "stream": "stdout",
       "text": [
        "\n",
        "Agent 157 is trading with agent 133\n",
        "Agent 163 is trading with agent 165\n",
        "Agent 165 is trading with agent 163"
       ]
      },
      {
       "output_type": "stream",
       "stream": "stdout",
       "text": [
        "\n",
        "Agent 168 is trading with agent 154\n",
        "Agent 171 is trading with agent 149\n",
        "Agent 175 is trading with agent 199"
       ]
      },
      {
       "output_type": "stream",
       "stream": "stdout",
       "text": [
        "\n",
        "Agent 181 is trading with agent 142\n",
        "Agent 186 is trading with agent 185"
       ]
      },
      {
       "output_type": "stream",
       "stream": "stdout",
       "text": [
        "\n",
        "Agent 187 is trading with agent 137\n",
        "Agent 194 divided and created Agent 255"
       ]
      },
      {
       "output_type": "stream",
       "stream": "stdout",
       "text": [
        "\n",
        "Agent 195 divided and created Agent 256\n",
        "Agent 199 is trading with agent 175\n",
        "Agent 203 divided and created Agent 257"
       ]
      },
      {
       "output_type": "stream",
       "stream": "stdout",
       "text": [
        "\n",
        "Agent 204 divided and created Agent 258\n",
        "Agent 205 divided and created Agent 259\n",
        "Agent 212 divided and created Agent 260"
       ]
      },
      {
       "output_type": "stream",
       "stream": "stdout",
       "text": [
        "\n",
        "Step: 94"
       ]
      },
      {
       "output_type": "stream",
       "stream": "stdout",
       "text": [
        "\n",
        "Number of Agents: 132\n",
        "Number of Goods: 215\n",
        "Gini: 20.9523132912\n",
        "\n",
        "\n",
        "Agent 28 has died\n",
        "Agent 119 divided and created Agent 261\n",
        "Agent 124 has died\n",
        "Agent 133 is trading with agent 157"
       ]
      },
      {
       "output_type": "stream",
       "stream": "stdout",
       "text": [
        "\n",
        "Agent 141 divided and created Agent 262\n",
        "Agent 142 is trading with agent 181"
       ]
      },
      {
       "output_type": "stream",
       "stream": "stdout",
       "text": [
        "\n",
        "Agent 149 is trading with agent 171"
       ]
      },
      {
       "output_type": "stream",
       "stream": "stdout",
       "text": [
        "\n",
        "Agent 154 is trading with agent 168"
       ]
      },
      {
       "output_type": "stream",
       "stream": "stdout",
       "text": [
        "\n",
        "Agent 157 is trading with agent 133\n",
        "Agent 163 is trading with agent 165\n",
        "Agent 165 is trading with agent 163"
       ]
      },
      {
       "output_type": "stream",
       "stream": "stdout",
       "text": [
        "\n",
        "Agent 168 is trading with agent 154\n",
        "Agent 171 is trading with agent 149\n",
        "Agent 175 is trading with agent 199"
       ]
      },
      {
       "output_type": "stream",
       "stream": "stdout",
       "text": [
        "\n",
        "Agent 178 divided and created Agent 263\n",
        "Agent 181 is trading with agent 142\n",
        "Agent 185 is trading with agent 186"
       ]
      },
      {
       "output_type": "stream",
       "stream": "stdout",
       "text": [
        "\n",
        "Agent 186 is trading with agent 185\n",
        "Agent 210 divided and created Agent 264"
       ]
      },
      {
       "output_type": "stream",
       "stream": "stdout",
       "text": [
        "\n",
        "Step: 95"
       ]
      },
      {
       "output_type": "stream",
       "stream": "stdout",
       "text": [
        "\n",
        "Number of Agents: 134\n",
        "Number of Goods: 218\n",
        "Gini: 21.460877431\n",
        "\n",
        "\n",
        "Agent 133 is trading with agent 157"
       ]
      },
      {
       "output_type": "stream",
       "stream": "stdout",
       "text": [
        "\n",
        "Agent 137 is trading with agent 187\n",
        "Agent 142 is trading with agent 181"
       ]
      },
      {
       "output_type": "stream",
       "stream": "stdout",
       "text": [
        "\n",
        "Agent 157 is trading with agent 133"
       ]
      },
      {
       "output_type": "stream",
       "stream": "stdout",
       "text": [
        "\n",
        "Agent 163 is trading with agent 165\n",
        "Agent 172 divided and created Agent 265"
       ]
      },
      {
       "output_type": "stream",
       "stream": "stdout",
       "text": [
        "\n",
        "Agent 177 divided and created Agent 266"
       ]
      },
      {
       "output_type": "stream",
       "stream": "stdout",
       "text": [
        "\n",
        "Agent 185 is trading with agent 186\n",
        "Agent 186 is trading with agent 185"
       ]
      },
      {
       "output_type": "stream",
       "stream": "stdout",
       "text": [
        "\n",
        "Agent 187 is trading with agent 137\n",
        "Agent 196 divided and created Agent 267"
       ]
      },
      {
       "output_type": "stream",
       "stream": "stdout",
       "text": [
        "\n",
        "Agent 222 divided and created Agent 268"
       ]
      },
      {
       "output_type": "stream",
       "stream": "stdout",
       "text": [
        "\n",
        "Step: 96"
       ]
      },
      {
       "output_type": "stream",
       "stream": "stdout",
       "text": [
        "\n",
        "Number of Agents: 138\n",
        "Number of Goods: 221\n",
        "Gini: 22.2596095676\n",
        "\n",
        "\n",
        "Agent 116 has died\n",
        "Agent 137 is trading with agent 130"
       ]
      },
      {
       "output_type": "stream",
       "stream": "stdout",
       "text": [
        "\n",
        "Agent 144 divided and created Agent 269"
       ]
      },
      {
       "output_type": "stream",
       "stream": "stdout",
       "text": [
        "\n",
        "Agent 150 divided and created Agent 270"
       ]
      },
      {
       "output_type": "stream",
       "stream": "stdout",
       "text": [
        "\n",
        "Agent 165 is trading with agent 163"
       ]
      },
      {
       "output_type": "stream",
       "stream": "stdout",
       "text": [
        "\n",
        "Agent 185 divided and created Agent 271"
       ]
      },
      {
       "output_type": "stream",
       "stream": "stdout",
       "text": [
        "\n",
        "Agent 186 has died\n",
        "Agent 272 was created\n",
        "Agent 197 divided and created Agent 273"
       ]
      },
      {
       "output_type": "stream",
       "stream": "stdout",
       "text": [
        "\n",
        "Agent 204 is trading with agent 168\n",
        "Agent 208 divided and created Agent 274"
       ]
      },
      {
       "output_type": "stream",
       "stream": "stdout",
       "text": [
        "\n",
        "Agent 209 divided and created Agent 275\n",
        "Agent 229 divided and created Agent 276"
       ]
      },
      {
       "output_type": "stream",
       "stream": "stdout",
       "text": [
        "\n",
        "Step: 97"
       ]
      },
      {
       "output_type": "stream",
       "stream": "stdout",
       "text": [
        "\n",
        "Number of Agents: 144\n",
        "Number of Goods: 220\n",
        "Gini: 22.3136308554\n",
        "\n",
        "\n",
        "Agent 126 has died\n",
        "Agent 130 is trading with agent 137"
       ]
      },
      {
       "output_type": "stream",
       "stream": "stdout",
       "text": [
        "\n",
        "Agent 133 is trading with agent 157\n",
        "Agent 137 is trading with agent 187\n",
        "Agent 157 is trading with agent 133"
       ]
      },
      {
       "output_type": "stream",
       "stream": "stdout",
       "text": [
        "\n",
        "Agent 163 is trading with agent 165\n",
        "Agent 165 is trading with agent 207"
       ]
      },
      {
       "output_type": "stream",
       "stream": "stdout",
       "text": [
        "\n",
        "Agent 168 is trading with agent 154\n",
        "Agent 181 is trading with agent 142"
       ]
      },
      {
       "output_type": "stream",
       "stream": "stdout",
       "text": [
        "\n",
        "Agent 187 is trading with agent 137\n",
        "Agent 199 is trading with agent 175"
       ]
      },
      {
       "output_type": "stream",
       "stream": "stdout",
       "text": [
        "\n",
        "Agent 201 divided and created Agent 277\n",
        "Agent 206 is trading with agent 171\n",
        "Agent 207 is trading with agent 165"
       ]
      },
      {
       "output_type": "stream",
       "stream": "stdout",
       "text": [
        "\n",
        "Agent 225 divided and created Agent 278"
       ]
      },
      {
       "output_type": "stream",
       "stream": "stdout",
       "text": [
        "\n",
        "Step: 98"
       ]
      },
      {
       "output_type": "stream",
       "stream": "stdout",
       "text": [
        "\n",
        "Number of Agents: 145\n",
        "Number of Goods: 202\n",
        "Gini: 22.1668779735\n",
        "\n",
        "\n",
        "Agent 133 is trading with agent 157\n",
        "Agent 136 divided and created Agent 279"
       ]
      },
      {
       "output_type": "stream",
       "stream": "stdout",
       "text": [
        "\n",
        "Agent 137 is trading with agent 130\n",
        "Agent 142 is trading with agent 181\n",
        "Agent 154 is trading with agent 168"
       ]
      },
      {
       "output_type": "stream",
       "stream": "stdout",
       "text": [
        "\n",
        "Agent 157 is trading with agent 133\n",
        "Agent 165 is trading with agent 221"
       ]
      },
      {
       "output_type": "stream",
       "stream": "stdout",
       "text": [
        "\n",
        "Agent 168 is trading with agent 154"
       ]
      },
      {
       "output_type": "stream",
       "stream": "stdout",
       "text": [
        "\n",
        "Agent 171 is trading with agent 206\n",
        "Agent 175 is trading with agent 199\n",
        "Agent 181 is trading with agent 142"
       ]
      },
      {
       "output_type": "stream",
       "stream": "stdout",
       "text": [
        "\n",
        "Agent 199 is trading with agent 175"
       ]
      },
      {
       "output_type": "stream",
       "stream": "stdout",
       "text": [
        "\n",
        "Agent 206 divided and created Agent 280"
       ]
      },
      {
       "output_type": "stream",
       "stream": "stdout",
       "text": [
        "\n",
        "Agent 211 is trading with agent 213"
       ]
      },
      {
       "output_type": "stream",
       "stream": "stdout",
       "text": [
        "\n",
        "Agent 213 is trading with agent 211\n",
        "Agent 214 divided and created Agent 281\n",
        "Agent 221 is trading with agent 165"
       ]
      },
      {
       "output_type": "stream",
       "stream": "stdout",
       "text": [
        "\n",
        "Step: 99"
       ]
      },
      {
       "output_type": "stream",
       "stream": "stdout",
       "text": [
        "\n",
        "Number of Agents: 148\n",
        "Number of Goods: 201\n",
        "Gini: 21.9613398185\n",
        "\n",
        "\n",
        "Agent 119 has died\n",
        "Agent 130 is trading with agent 137"
       ]
      },
      {
       "output_type": "stream",
       "stream": "stdout",
       "text": [
        "\n",
        "Agent 133 has died\n",
        "Agent 142 is trading with agent 181"
       ]
      },
      {
       "output_type": "stream",
       "stream": "stdout",
       "text": [
        "\n",
        "Agent 145 divided and created Agent 282\n",
        "Agent 146 divided and created Agent 283\n",
        "Agent 165 is trading with agent 163"
       ]
      },
      {
       "output_type": "stream",
       "stream": "stdout",
       "text": [
        "\n",
        "Agent 175 is trading with agent 199"
       ]
      },
      {
       "output_type": "stream",
       "stream": "stdout",
       "text": [
        "\n",
        "Agent 183 divided and created Agent 284"
       ]
      },
      {
       "output_type": "stream",
       "stream": "stdout",
       "text": [
        "\n",
        "Agent 194 divided and created Agent 285"
       ]
      },
      {
       "output_type": "stream",
       "stream": "stdout",
       "text": [
        "\n",
        "Agent 199 is trading with agent 175\n",
        "Agent 206 is trading with agent 171"
       ]
      },
      {
       "output_type": "stream",
       "stream": "stdout",
       "text": [
        "\n",
        "Agent 211 is trading with agent 213"
       ]
      },
      {
       "output_type": "stream",
       "stream": "stdout",
       "text": [
        "\n",
        "Agent 216 divided and created Agent 286\n",
        "Agent 223 divided and created Agent 287"
       ]
      },
      {
       "output_type": "stream",
       "stream": "stdout",
       "text": [
        "\n",
        "Agent 242 is trading with agent 137"
       ]
      },
      {
       "output_type": "stream",
       "stream": "stdout",
       "text": [
        "\n",
        "Step: 100"
       ]
      },
      {
       "output_type": "stream",
       "stream": "stdout",
       "text": [
        "\n",
        "Number of Agents: 152\n",
        "Number of Goods: 197\n",
        "Gini: 21.0709506818\n",
        "\n",
        "\n"
       ]
      },
      {
       "metadata": {},
       "output_type": "display_data",
       "png": "[encoded data removed]",
       "text": [
        "<matplotlib.figure.Figure at 0x7fbf4f60f450>"
       ]
      },
      {
       "metadata": {},
       "output_type": "display_data",
       "png": "[encoded data removed]",
       "text": [
        "<matplotlib.figure.Figure at 0x7fbf30658150>"
       ]
      }
     ],
     "prompt_number": 87
    },
    {
     "cell_type": "code",
     "collapsed": false,
     "input": [
      "SS_test2 = World()\n",
      "t2a1 = Agent_grid(0, age = 18, energy = 50, tribe = 1, position= [25,25])\n",
      "t2a2 = Agent_grid(1, age = 18, energy = 50, tribe = 2, position= [26,25])\n",
      "t2_agents = [t2a1,t2a2]\n",
      "\n",
      "SS_test2.define(t2_agents)\n",
      "SS_test2.state(t2_agents, agent_state = True)\n",
      "SS_test2.draw()\n",
      "SS_test2.update_agents(t2_agents)\n",
      "\n",
      "SS_test2.state(t2_agents, agent_state = True)\n",
      "SS_test2.draw()"
     ],
     "language": "python",
     "metadata": {},
     "outputs": [
      {
       "output_type": "stream",
       "stream": "stdout",
       "text": [
        "Step: 0\n",
        "Number of Agents: 2\n",
        "Number of Goods: 0\n",
        "Gini: 0.0\n",
        "\n",
        "\n",
        "ID: 0\n",
        "\t Age: 18\n",
        "\t Energy: 50\n",
        "\t Position: [25 25]\n",
        "\t Objective: None\n",
        "ID: 1\n",
        "\t Age: 18\n",
        "\t Energy: 50\n",
        "\t Position: [26 25]\n",
        "\t Objective: None\n",
        "Agent 1 is trading with agent 0"
       ]
      },
      {
       "output_type": "stream",
       "stream": "stdout",
       "text": [
        "\n",
        "Step: 1\n",
        "Number of Agents: 2\n",
        "Number of Goods: 0\n",
        "Gini: 5.0\n",
        "\n",
        "\n",
        "ID: 0\n",
        "\t Age: 19\n",
        "\t Energy: 55\n",
        "\t Position: [25 25]\n",
        "\t Objective: 1\n",
        "ID: 1\n",
        "\t Age: 19\n",
        "\t Energy: 45\n",
        "\t Position: [26 25]\n",
        "\t Objective: 0\n"
       ]
      },
      {
       "metadata": {},
       "output_type": "display_data",
       "png": "[encoded data removed]",
       "text": [
        "<matplotlib.figure.Figure at 0x7fbf2b2ab110>"
       ]
      },
      {
       "metadata": {},
       "output_type": "display_data",
       "png": "[encoded data removed]",
       "text": [
        "<matplotlib.figure.Figure at 0x7fbf2b2ab8d0>"
       ]
      }
     ],
     "prompt_number": 82
    }
   ],
   "metadata": {}
  }
 ]
}