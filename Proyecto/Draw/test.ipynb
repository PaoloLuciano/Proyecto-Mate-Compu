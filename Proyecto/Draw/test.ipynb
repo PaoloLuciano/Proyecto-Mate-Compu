{
 "metadata": {
  "name": "",
  "signature": "sha256:a23e1123e91397f46344c6fa729113c95baadfb22823f6ad9b54dd416ad05133"
 },
 "nbformat": 3,
 "nbformat_minor": 0,
 "worksheets": [
  {
   "cells": [
    {
     "cell_type": "code",
     "collapsed": false,
     "input": [
      "%pylab inline\n",
      "import numpy as np\n",
      "from matplotlib import pyplot as plt\n",
      "from matplotlib.path import Path\n",
      "import matplotlib.patches as patches\n",
      "import random\n",
      "import draw\n",
      "import pylab"
     ],
     "language": "python",
     "metadata": {},
     "outputs": [
      {
       "output_type": "stream",
       "stream": "stdout",
       "text": [
        "Populating the interactive namespace from numpy and matplotlib\n"
       ]
      },
      {
       "output_type": "stream",
       "stream": "stderr",
       "text": [
        "WARNING: pylab import has clobbered these variables: ['random', 'draw']\n",
        "`%matplotlib` prevents importing * from pylab and numpy\n"
       ]
      }
     ],
     "prompt_number": 10
    },
    {
     "cell_type": "code",
     "collapsed": false,
     "input": [
      "test_matrix = np.zeros((51, 51))\n",
      "for i in range(51):\n",
      "    for j in range(51):\n",
      "        test_matrix[i, j] = random.randrange(6)\n",
      "        \n",
      "color_code = {\n",
      "    1: '#64FE2E',\n",
      "    2: '#FE2E64',\n",
      "    3: '#8258FA',\n",
      "    4: '#58D3F7',\n",
      "    5: '#FFFF00'\n",
      "}"
     ],
     "language": "python",
     "metadata": {},
     "outputs": [],
     "prompt_number": 13
    },
    {
     "cell_type": "code",
     "collapsed": false,
     "input": [
      "draw.draw_matrix(test_matrix, color_code)"
     ],
     "language": "python",
     "metadata": {},
     "outputs": [
      {
       "metadata": {},
       "output_type": "display_data",
       "png": "[encoded data removed]",
       "text": [
        "<matplotlib.figure.Figure at 0x7f00a12bbf10>"
       ]
      }
     ],
     "prompt_number": 14
    }
   ],
   "metadata": {}
  }
 ]
}