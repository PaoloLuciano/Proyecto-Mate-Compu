{
 "metadata": {
  "name": "",
  "signature": "sha256:2c444478ec08a2894002417e6a37a8915d070c8149de96219307367286bb1941"
 },
 "nbformat": 3,
 "nbformat_minor": 0,
 "worksheets": [
  {
   "cells": [
    {
     "cell_type": "code",
     "collapsed": false,
     "input": [
      "%pylab inline\n",
      "import numpy as np\n",
      "from matplotlib import pyplot as plt\n",
      "from matplotlib.path import Path\n",
      "import matplotlib.patches as patches\n",
      "import random"
     ],
     "language": "python",
     "metadata": {},
     "outputs": [
      {
       "output_type": "stream",
       "stream": "stdout",
       "text": [
        "Populating the interactive namespace from numpy and matplotlib\n"
       ]
      },
      {
       "output_type": "stream",
       "stream": "stderr",
       "text": [
        "WARNING: pylab import has clobbered these variables: ['random']\n",
        "`%matplotlib` prevents importing * from pylab and numpy\n"
       ]
      }
     ],
     "prompt_number": 2
    },
    {
     "cell_type": "code",
     "collapsed": false,
     "input": [
      "def find_all(arr, test):\n",
      "    \"\"\" \n",
      "    find_all(arr, test) -> list of tuples\n",
      "    \n",
      "    Return a list containing the indices of the objects in **arr** that satisfy **test**.\n",
      "    \n",
      "    Parameters\n",
      "    ----------\n",
      "    arr: 2D NumPy array\n",
      "    test: boolean function\n",
      "    \"\"\"\n",
      "    indices = []\n",
      "    for i in range(arr.shape[0]):\n",
      "        for index, item in enumerate(arr[i]):\n",
      "            if test(item):\n",
      "                indices.append((i, index))\n",
      "    return indices\n",
      "\n",
      "def draw_matrix(arr, color_code={}):\n",
      "    \"\"\"\n",
      "    Draws **arr** as a grid and colors it according to **key**.\n",
      "    \n",
      "    Parameters\n",
      "    ----------\n",
      "    arr: 2D NumPy array\n",
      "    color_code: dictionary\n",
      "    \"\"\"\n",
      "    \n",
      "    # create figure and subplot\n",
      "    fig = plt.figure(figsize=(10, 10))\n",
      "    ax = fig.add_subplot(111)\n",
      "        \n",
      "    # format the subplot\n",
      "    ax.set_xlim(0, arr.shape[1])\n",
      "    ax.set_ylim(0, arr.shape[0])\n",
      "\n",
      "    ax.set_xticks([])\n",
      "    ax.set_yticks([])\n",
      "\n",
      "    # draw the grid\n",
      "    for i in range(arr.shape[0]):\n",
      "        ax.plot([0, arr.shape[1]], [i, i], color='#424242')\n",
      "    for j in range(arr.shape[1]):\n",
      "        ax.plot([j, j], [0, arr.shape[0]], color='#424242')\n",
      "    \n",
      "    # color the cells\n",
      "    codes = [Path.MOVETO,\n",
      "         Path.LINETO,\n",
      "         Path.LINETO,\n",
      "         Path.LINETO,\n",
      "         Path.CLOSEPOLY,\n",
      "         ]\n",
      "    \n",
      "    for key in color_code:\n",
      "        indices = find_all(arr, lambda x: x == key)\n",
      "        verts_list = [[(idx[1], idx[0]), (idx[1]+1, idx[0]), (idx[1]+1, idx[0]+1), (idx[1], idx[0]+1), (0, 0)] for idx in indices]\n",
      "        path_list = [Path(verts, codes) for verts in verts_list]\n",
      "        \n",
      "        for path in path_list:\n",
      "            patch = patches.PathPatch(path, facecolor=color_code[key], lw=1)\n",
      "            ax.add_patch(patch)\n",
      "            \n",
      "    # set the origin on the upper-left corner\n",
      "    x = pylab.gca()\n",
      "    ax.set_ylim(ax.get_ylim()[::-1]) "
     ],
     "language": "python",
     "metadata": {},
     "outputs": [],
     "prompt_number": 3
    },
    {
     "cell_type": "code",
     "collapsed": false,
     "input": [
      "test_matrix = np.zeros((51, 51))\n",
      "for i in range(51):\n",
      "    for j in range(51):\n",
      "        test_matrix[i, j] = random.randrange(6)\n",
      "        \n",
      "color_code = {\n",
      "    1: '#64FE2E',\n",
      "    2: '#FE2E64',\n",
      "    3: '#8258FA',\n",
      "    4: '#58D3F7',\n",
      "    5: '#FFFF00'\n",
      "}"
     ],
     "language": "python",
     "metadata": {},
     "outputs": [],
     "prompt_number": 4
    },
    {
     "cell_type": "code",
     "collapsed": false,
     "input": [
      "draw_matrix(test_matrix, color_code)"
     ],
     "language": "python",
     "metadata": {},
     "outputs": [
      {
       "metadata": {},
       "output_type": "display_data",
       "png": "[encoded data removed]",
       "text": [
        "<matplotlib.figure.Figure at 0x7fa4c352ce10>"
       ]
      }
     ],
     "prompt_number": 5
    }
   ],
   "metadata": {}
  }
 ]
}