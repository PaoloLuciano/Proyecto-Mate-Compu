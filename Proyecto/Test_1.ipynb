{
 "metadata": {
  "name": "",
  "signature": "sha256:4aa57e7a520db01b6a352b4ac0e540c1750c47d999c0a8cf887af2b77e90548f"
 },
 "nbformat": 3,
 "nbformat_minor": 0,
 "worksheets": [
  {
   "cells": [
    {
     "cell_type": "heading",
     "level": 1,
     "metadata": {},
     "source": [
      "Test 1"
     ]
    },
    {
     "cell_type": "markdown",
     "metadata": {},
     "source": [
      "This test shows us the basic functionalities of the program."
     ]
    },
    {
     "cell_type": "code",
     "collapsed": false,
     "input": [
      "SS = World()\n",
      "test_agent = Agent_grid(id = 0, x = 1, y= 1, vision=2)\n",
      "test_agents = [test_agent]\n",
      "test_sugars = [Sugar(0,x=0,y=0, quantity=3), Sugar(1,x=1,y=2,quantity=10),Sugar(2,x=2,y=1,quantity=15)]\n",
      "SS.define(test_agents)\n",
      "SS.place_sugars(n = None, practice_sugars = test_sugars)\n",
      "\n",
      "test_agent.state(SS, full_state = True)\n",
      "SS.draw()\n",
      "\n",
      "SS.update_agents(test_agents,1)\n",
      "test_agent.state(SS)\n",
      "SS.draw()\n",
      "\n",
      "SS.update_agents(test_agents,2)\n",
      "test_agent.state(SS)\n",
      "SS.draw()\n",
      "\n",
      "SS.update_agents(test_agents,3)\n",
      "test_agent.state(SS)\n",
      "SS.draw()\n",
      "\n",
      "SS.update_agents(test_agents,4)\n",
      "test_agent.state(SS)\n",
      "SS.draw()\n",
      "\n",
      "SS.update_agents(test_agents,5)\n",
      "test_agent.state(SS)\n",
      "SS.draw()"
     ],
     "language": "python",
     "metadata": {},
     "outputs": [
      {
       "ename": "NameError",
       "evalue": "name 'World' is not defined",
       "output_type": "pyerr",
       "traceback": [
        "\u001b[1;31m---------------------------------------------------------------------------\u001b[0m\n\u001b[1;31mNameError\u001b[0m                                 Traceback (most recent call last)",
        "\u001b[1;32m<ipython-input-1-b2a3f9d0755c>\u001b[0m in \u001b[0;36m<module>\u001b[1;34m()\u001b[0m\n\u001b[1;32m----> 1\u001b[1;33m \u001b[0mSS\u001b[0m \u001b[1;33m=\u001b[0m \u001b[0mWorld\u001b[0m\u001b[1;33m(\u001b[0m\u001b[1;33m)\u001b[0m\u001b[1;33m\u001b[0m\u001b[0m\n\u001b[0m\u001b[0;32m      2\u001b[0m \u001b[0mtest_agent\u001b[0m \u001b[1;33m=\u001b[0m \u001b[0mAgent_grid\u001b[0m\u001b[1;33m(\u001b[0m\u001b[0mid\u001b[0m \u001b[1;33m=\u001b[0m \u001b[1;36m0\u001b[0m\u001b[1;33m,\u001b[0m \u001b[0mx\u001b[0m \u001b[1;33m=\u001b[0m \u001b[1;36m1\u001b[0m\u001b[1;33m,\u001b[0m \u001b[0my\u001b[0m\u001b[1;33m=\u001b[0m \u001b[1;36m1\u001b[0m\u001b[1;33m,\u001b[0m \u001b[0mvision\u001b[0m\u001b[1;33m=\u001b[0m\u001b[1;36m2\u001b[0m\u001b[1;33m)\u001b[0m\u001b[1;33m\u001b[0m\u001b[0m\n\u001b[0;32m      3\u001b[0m \u001b[0mtest_agents\u001b[0m \u001b[1;33m=\u001b[0m \u001b[1;33m[\u001b[0m\u001b[0mtest_agent\u001b[0m\u001b[1;33m]\u001b[0m\u001b[1;33m\u001b[0m\u001b[0m\n\u001b[0;32m      4\u001b[0m \u001b[0mtest_sugars\u001b[0m \u001b[1;33m=\u001b[0m \u001b[1;33m[\u001b[0m\u001b[0mSugar\u001b[0m\u001b[1;33m(\u001b[0m\u001b[1;36m0\u001b[0m\u001b[1;33m,\u001b[0m\u001b[0mx\u001b[0m\u001b[1;33m=\u001b[0m\u001b[1;36m0\u001b[0m\u001b[1;33m,\u001b[0m\u001b[0my\u001b[0m\u001b[1;33m=\u001b[0m\u001b[1;36m0\u001b[0m\u001b[1;33m,\u001b[0m \u001b[0mquantity\u001b[0m\u001b[1;33m=\u001b[0m\u001b[1;36m3\u001b[0m\u001b[1;33m)\u001b[0m\u001b[1;33m,\u001b[0m \u001b[0mSugar\u001b[0m\u001b[1;33m(\u001b[0m\u001b[1;36m1\u001b[0m\u001b[1;33m,\u001b[0m\u001b[0mx\u001b[0m\u001b[1;33m=\u001b[0m\u001b[1;36m1\u001b[0m\u001b[1;33m,\u001b[0m\u001b[0my\u001b[0m\u001b[1;33m=\u001b[0m\u001b[1;36m2\u001b[0m\u001b[1;33m,\u001b[0m\u001b[0mquantity\u001b[0m\u001b[1;33m=\u001b[0m\u001b[1;36m10\u001b[0m\u001b[1;33m)\u001b[0m\u001b[1;33m,\u001b[0m\u001b[0mSugar\u001b[0m\u001b[1;33m(\u001b[0m\u001b[1;36m2\u001b[0m\u001b[1;33m,\u001b[0m\u001b[0mx\u001b[0m\u001b[1;33m=\u001b[0m\u001b[1;36m2\u001b[0m\u001b[1;33m,\u001b[0m\u001b[0my\u001b[0m\u001b[1;33m=\u001b[0m\u001b[1;36m1\u001b[0m\u001b[1;33m,\u001b[0m\u001b[0mquantity\u001b[0m\u001b[1;33m=\u001b[0m\u001b[1;36m15\u001b[0m\u001b[1;33m)\u001b[0m\u001b[1;33m]\u001b[0m\u001b[1;33m\u001b[0m\u001b[0m\n\u001b[0;32m      5\u001b[0m \u001b[0mSS\u001b[0m\u001b[1;33m.\u001b[0m\u001b[0mdefine\u001b[0m\u001b[1;33m(\u001b[0m\u001b[0mtest_agents\u001b[0m\u001b[1;33m)\u001b[0m\u001b[1;33m\u001b[0m\u001b[0m\n",
        "\u001b[1;31mNameError\u001b[0m: name 'World' is not defined"
       ]
      }
     ],
     "prompt_number": 1
    },
    {
     "cell_type": "code",
     "collapsed": false,
     "input": [
      "SS = World()\n",
      "agents = [(Agent_grid(i)) for i in xrange(100)]\n",
      "SS.define(agents)\n",
      "SS.place_sugars(n = 500)\n",
      "SS.draw()\n",
      "\n",
      "steps=20\n",
      "\n",
      "for i in xrange(1,steps+1): \n",
      "    SS.update_agents(agents, step)\n",
      "    SS.update_sugars()\n",
      "    SS.draw()\n",
      "\n",
      "\n"
     ],
     "language": "python",
     "metadata": {},
     "outputs": []
    }
   ],
   "metadata": {}
  }
 ]
}