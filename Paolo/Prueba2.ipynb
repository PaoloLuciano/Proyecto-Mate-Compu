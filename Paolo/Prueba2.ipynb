{
 "metadata": {
  "name": "",
  "signature": "sha256:4d79876d235df9e45d0fc4853d7e40fd39429e1ecbdd6dcfa85eb63f24fdcd83"
 },
 "nbformat": 3,
 "nbformat_minor": 0,
 "worksheets": [
  {
   "cells": [
    {
     "cell_type": "code",
     "collapsed": false,
     "input": [
      "%pylab inline\n",
      "import numpy as np\n",
      "import matplotlib.pyplot as plt\n",
      "from random import randint"
     ],
     "language": "python",
     "metadata": {},
     "outputs": [
      {
       "output_type": "stream",
       "stream": "stdout",
       "text": [
        "Populating the interactive namespace from numpy and matplotlib\n"
       ]
      }
     ],
     "prompt_number": 2
    },
    {
     "cell_type": "code",
     "collapsed": false,
     "input": [
      "class Agente_grid:\n",
      "    \"\"\"Agente con una posici\u00f3n especifica (aleatoria) en una cuadricula discreta\"\"\"\n",
      "    \n",
      "    def __init__(self, id ,tipo = 1):\n",
      "        self.id = id\n",
      "        self.tipo = tipo\n",
      "        self.posicion = np.array([random.randint(0,51), random.randint(0,51)])\n",
      "        self.existencia = False    \n",
      "        self.vision = random.randint(1,3)\n",
      "        \n",
      "    def explorar(self, mundo):\n",
      "        \"\"\"\n",
      "        Basado en el rango de visi\u00f3n, el agente explora sus alrededores en busca de azucar.\n",
      "        Los 4 if's actuan cuando el agente est\u00e1 en alguna de las orillas del mapa evitando salirnos del arreglo.\n",
      "        \"\"\"\n",
      "        if self.posicion[0] - self.vision < 0:\n",
      "            x_min = 0\n",
      "        else:\n",
      "            x_min = self.posicion[0]-self.vision\n",
      "            \n",
      "        if  self.posicion[0] + self.vision + 1 > 51:\n",
      "            x_max = 51\n",
      "        else:\n",
      "            x_max = self.posicion[0] + self.vision + 1\n",
      "            \n",
      "        if self.posicion[1] - self.vision < 0:\n",
      "            y_min = 0\n",
      "        else:\n",
      "            y_min = self.posicion[1] - self.vision\n",
      "            \n",
      "        if self.posicion[1] + self.vision + 1 > 51:\n",
      "            y_max = 51\n",
      "        else:\n",
      "            y_max =self.posicion[1] + self.vision + 1\n",
      "#         return mundo[x_min : x_max , y_min : y_max] #Esto era para subsetear la matriz, resulto m\u00e1s conveniente pasar solo los \u00edndices\n",
      "        return np.array([x_min,x_max,y_min,y_max])\n",
      "    \n",
      "    def decidir(self, mundo):\n",
      "        \"\"\"\n",
      "        Recorre el campo de acci\u00f3n del agente buscando azucar (agentes tipo 2).\n",
      "        Despu\u00e9s decide cual de ellas es la mejor opci\u00f3n (basado en cercan\u00eda y cantidad)\n",
      "        \"\"\"\n",
      "        lim = self.explorar(mundo)\n",
      "        for i in xrange(lim[0],lim[1]): #Renglones\n",
      "            for j in xrange(lim[2],lim[3]): #Columnas \n",
      "                if mundo[i,j] == 2:\n",
      "                    print \"a huevo tu azucar est\u00e1 en la posici\u00f3n, (%s, %s)\" % (i,j)"
     ],
     "language": "python",
     "metadata": {},
     "outputs": [],
     "prompt_number": 13
    },
    {
     "cell_type": "code",
     "collapsed": false,
     "input": [
      "class Agente_grid_prueba:\n",
      "    \"\"\"Agente con una posici\u00f3n especifica (definida por el usuario) en una cuadricula discreta\"\"\"\n",
      "    \n",
      "    def __init__(self, id ,tipo = 1, x = 0, y = 0, vision = 1):\n",
      "        self.id = id\n",
      "        self.tipo = tipo\n",
      "        self.posicion = np.array([x,y])\n",
      "        self.existencia = False    \n",
      "        self.vision = vision\n",
      "        \n",
      "    def explorar(self, mundo):\n",
      "        \"\"\"\n",
      "        Basado en el rango de visi\u00f3n, el agente explora sus alrededores en busca de azucar.\n",
      "        Los 4 if's actuan cuando el agente est\u00e1 en alguna de las orillas del mapa evitando salirnos del arreglo.\n",
      "        \"\"\"\n",
      "        if self.posicion[0] - self.vision < 0:\n",
      "            x_min = 0\n",
      "        else:\n",
      "            x_min = self.posicion[0]-self.vision\n",
      "            \n",
      "        if  self.posicion[0] + self.vision + 1 > 51:\n",
      "            x_max = 51\n",
      "        else:\n",
      "            x_max = self.posicion[0] + self.vision + 1\n",
      "            \n",
      "        if self.posicion[1] - self.vision < 0:\n",
      "            y_min = 0\n",
      "        else:\n",
      "            y_min = self.posicion[1] - self.vision\n",
      "            \n",
      "        if self.posicion[1] + self.vision + 1 > 51:\n",
      "            y_max = 51\n",
      "        else:\n",
      "            y_max =self.posicion[1] + self.vision + 1\n",
      "        print mundo[x_min : x_max , y_min : y_max]  #Linea para pruebas ELIMINAR\n",
      "        return np.array([x_min,x_max,y_min,y_max])\n",
      "\n",
      "    def decidir(self, mundo):\n",
      "        \"\"\"\n",
      "        Recorre el campo de acci\u00f3n del agente buscando azucar (agentes tipo 2).\n",
      "        Despu\u00e9s decide cual de ellas es la mejor opci\u00f3n (basado en cercan\u00eda y cantidad)\n",
      "        \"\"\"\n",
      "        lim = self.explorar(mundo)\n",
      "        for i in xrange(lim[0],lim[1]): #Renglones\n",
      "            for j in xrange(lim[2],lim[3]): #Columnas \n",
      "                if mundo[i,j] == 2:\n",
      "                    print \"a huevo tu azucar est\u00e1 en la posici\u00f3n, (%s, %s)\" % (i,j)"
     ],
     "language": "python",
     "metadata": {},
     "outputs": [],
     "prompt_number": 14
    },
    {
     "cell_type": "code",
     "collapsed": false,
     "input": [
      "class Azucar_prueba:\n",
      "    \"\"\"Montoncitos de azucar de trama\u00f1os variables en una  posici\u00f3n especifica en una cuadricula discreta.\"\"\"\n",
      "    \n",
      "    def __init__(self, id ,tipo = 2, x = 0, y = 0, cantidad = 5):\n",
      "        self.id = id\n",
      "        self.tipo = tipo\n",
      "        self.posicion = np.array([x,y])\n",
      "        self.existencia = False\n",
      "        self.cantidad = cantidad"
     ],
     "language": "python",
     "metadata": {},
     "outputs": [],
     "prompt_number": 15
    },
    {
     "cell_type": "code",
     "collapsed": false,
     "input": [
      "class Mundo:\n",
      "    \"\"\"\n",
      "    Un Mundo de SugarScape representado por un array de NumPy de 2D de 51x51\n",
      "    \"\"\"\n",
      "    \n",
      "    def __init__(self):\n",
      "        \"\"\"Creamos la cuadricula\"\"\"\n",
      "        self.mundo = np.zeros((51,51))\n",
      "        \n",
      "    def definirse(self, agentes):\n",
      "        \"\"\"\n",
      "        Les da existencia a los agentes en el mundo\n",
      "        Es decir, en una cuadricula (NumPy array de 2 dimensiones),\n",
      "        la funci\u00f3n coloca cada agente en las cordenadas aleatorias que tiene cada uno en self.posicion\n",
      "        Al ser colocado se dice que el agente existe\n",
      "        Si esa casilla ya esta ocupada, se buscan nuevas coordenadas aleatorias para existir hasta que se logre. \n",
      "        \"\"\"\n",
      "        for i in xrange(len(agentes)):\n",
      "            while agentes[i].existencia == False:\n",
      "                x,y = agentes[i].posicion\n",
      "                if self.mundo[x,y] == 0:\n",
      "                    self.mundo[x,y] = agentes[i].tipo\n",
      "                    agentes[i].existencia = True\n",
      "                else:\n",
      "                    agentes[i].posicion = np.array([random.randint(0,50), random.randint(0,50)]) \n",
      "            \n",
      "    def dibujarse(self):\n",
      "        plt.figure(figsize=(11,10), dpi=80)\n",
      "        pyplot.pcolor(-numpy.flipud(self.mundo))\n",
      "        plt.axis([0, 51, 0, 51])\n",
      "        plt.gray()\n",
      "        plt.colorbar() #ELIMINAR\n",
      "#         plt.axis('off') #ELIMINAR"
     ],
     "language": "python",
     "metadata": {},
     "outputs": [],
     "prompt_number": 30
    },
    {
     "cell_type": "code",
     "collapsed": false,
     "input": [
      "Paolo = Agente_grid_prueba(tipo = 1 ,id = 0, x = 3 , y = 6, vision = 1)\n",
      "Azucar = Azucar_prueba(id = 0, x = 3, y = 7)\n",
      "agentes = [Paolo, Azucar]\n",
      "SS = Mundo()"
     ],
     "language": "python",
     "metadata": {},
     "outputs": [],
     "prompt_number": 31
    },
    {
     "cell_type": "code",
     "collapsed": false,
     "input": [
      "SS.definirse(agentes)\n",
      "SS.dibujarse()"
     ],
     "language": "python",
     "metadata": {},
     "outputs": [
      {
       "metadata": {},
       "output_type": "display_data",
       "png": "[encoded data removed]",
       "text": [
        "<matplotlib.figure.Figure at 0x7f213d6bbd10>"
       ]
      }
     ],
     "prompt_number": 32
    }
   ],
   "metadata": {}
  }
 ]
}