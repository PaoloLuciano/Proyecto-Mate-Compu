{
 "metadata": {
  "name": "",
  "signature": "sha256:5161d73e40bf568a927a78383758d0009b07ea8ee7a076a839047e67f817ef13"
 },
 "nbformat": 3,
 "nbformat_minor": 0,
 "worksheets": [
  {
   "cells": [
    {
     "cell_type": "code",
     "collapsed": false,
     "input": [
      "%pylab inline\n",
      "import numpy as np\n",
      "import matplotlib.pyplot as plt\n",
      "from random import randint"
     ],
     "language": "python",
     "metadata": {},
     "outputs": [
      {
       "output_type": "stream",
       "stream": "stdout",
       "text": [
        "Populating the interactive namespace from numpy and matplotlib\n"
       ]
      }
     ],
     "prompt_number": 1
    },
    {
     "cell_type": "code",
     "collapsed": false,
     "input": [
      "class Agente_grid:\n",
      "    \"\"\"Agente con una posici\u00f3n especifica (aleatoria) en una cuadricula discreta\n",
      "          id: guarda un n\u00famero \u00fanico para cada agente\n",
      "        tipo: un n\u00famero para efectos de graficaci\u00f3n\n",
      "        posicion: la posici\u00f3n en ese momento del agente\n",
      "        existencia: booleano que asegura que el agente exista en el mundo, ya que este puede morir o solaparse con otros.\n",
      "        vision: entero entre 1 y 2, caracteristica intrinseca de cada agente que le permite tener mayor campo de acci\u00f3n\n",
      "        vecindad: diccionario donde se guardan los agentes vecinos con los que podr\u00eda interactuar\n",
      "        posicion_deseada: posici\u00f3n a la que el agente ir\u00e1 despues de tomar una desici\u00f3n basada en la informaci\u00f3n recopilada\n",
      "        max_azucar: azucar m\u00e1xima que puede conseguir\n",
      "    \"\"\"\n",
      "    \n",
      "    def __init__(self, id ,tipo = 1):\n",
      "        self.id = id\n",
      "        self.tipo = tipo\n",
      "        self.posicion = np.array([random.randint(0,51), random.randint(0,51)])\n",
      "        self.existencia = False    \n",
      "        self.vision = vision\n",
      "        self.vecindad = {'azucar' : [],\n",
      "                         'vecinos' : [] } #Dicionario donde se guardaran las posiciones de los objetos cerca del agente.\n",
      "        self.posicion_deseada = 0\n",
      "        self.max_azucar = 0\n",
      "        \n",
      "    def ver(self, mundo):\n",
      "        \"\"\"\n",
      "        Basado en el rango de visi\u00f3n, el agente \"ve\" sus alrededores en busca de azucar y otros agentes.\n",
      "        Los 4 if's actuan cuando el agente est\u00e1 en alguna de las orillas del mapa evitando salirnos del arreglo.\n",
      "        \"\"\"\n",
      "        if self.posicion[0] - self.vision < 0:\n",
      "            x_min = 0\n",
      "        else:\n",
      "            x_min = self.posicion[0]-self.vision\n",
      "            \n",
      "        if  self.posicion[0] + self.vision + 1 > 51:\n",
      "            x_max = 51\n",
      "        else:\n",
      "            x_max = self.posicion[0] + self.vision + 1\n",
      "            \n",
      "        if self.posicion[1] - self.vision < 0:\n",
      "            y_min = 0\n",
      "        else:\n",
      "            y_min = self.posicion[1] - self.vision\n",
      "            \n",
      "        if self.posicion[1] + self.vision + 1 > 51:\n",
      "            y_max = 51\n",
      "        else:\n",
      "            y_max =self.posicion[1] + self.vision + 1\n",
      "        print mundo[x_min : x_max , y_min : y_max]  #Linea para pruebas ELIMINAR\n",
      "        return np.array([x_min,x_max,y_min,y_max])\n",
      "\n",
      "    def explorar(self, mundo):\n",
      "        \"\"\"\n",
      "        Recorre el campo de acci\u00f3n del agente basado en su rango de visi\u00f3n\n",
      "        Identifica y guarda en un diccionario cada tipo de elemento que est\u00e9 cerca de el para despu\u00e9s tomar una desici\u00f3n.\n",
      "        Como la vecindad cambia despues de cada iteraci\u00f3n (o movimiento del agente), limpiamos el diccionario de vecindad\n",
      "        \"\"\"\n",
      "        lim = self.ver(mundo)\n",
      "        self.vecindad['vecinos'] = []\n",
      "        self.vecindad['azucar'] = []\n",
      "        for i in xrange(lim[0],lim[1]): #Renglones\n",
      "            for j in xrange(lim[2],lim[3]): #Columnas \n",
      "                if mundo[i,j] == 1 and (i != self.posicion[0] or j != self.posicion[1]): \n",
      "                    #El `and/or` es para evitar que se guarde a el mismo\n",
      "                    self.vecindad['vecinos'].append(np.array([i,j]))\n",
      "                elif mundo[i,j] == 2:\n",
      "                    self.vecindad['azucar'].append(np.array([i,j]))\n",
      "                #Si es necesario podemos agregar m\u00e1s tipos de agentes o otro tipo de recurso.    \n",
      "                    \n",
      "    def decidir(self, mundo, lista_azucares): \n",
      "        \"\"\"\n",
      "        Dado el campo de acci\u00f3n del agente y sus vecinos, el agente decide cual es la posici\u00f3n \u00f3ptima a cual se deber\u00e1 mover.\n",
      "        La desici\u00f3n que tome ser\u00e1 la que le d\u00e9 mas utilidad, ya sea moverse por azucar, reproducirse, etc.\n",
      "        \"\"\"\n",
      "        self.explorar(mundo)\n",
      "        for i in xrange(len(self.vecindad['azucar'])): #Recorremos todas las azucares posibles en busca de la que tenga mayor cantidad\n",
      "            #\u00bfComo arreglar los empates?\n",
      "            for j in xrange(len(lista_azucares)):\n",
      "                if np.all(self.vecindad['azucar'][i] == lista_azucares[j].posicion) and self.max_azucar < lista_azucares[j].cantidad:\n",
      "                    #El np.all verifica que las dos posiciones sean exactamente iguales.\n",
      "                    self.max_azucar = lista_azucares[j].cantidad\n",
      "                    self.posicion_deseada = lista_azucares[j].posicion\n",
      "            #Implementar reproducci\u00f3n      "
     ],
     "language": "python",
     "metadata": {},
     "outputs": [],
     "prompt_number": 2
    },
    {
     "cell_type": "code",
     "collapsed": false,
     "input": [
      "class Agente_grid_prueba:\n",
      "    \"\"\"Agente con una posici\u00f3n especifica (definida por el usuario) en una cuadricula discreta\n",
      "        id: guarda un n\u00famero \u00fanico para cada agente\n",
      "        tipo: un n\u00famero para efectos de graficaci\u00f3n\n",
      "        posicion: la posici\u00f3n en ese momento del agente\n",
      "        existencia: booleano que asegura que el agente exista en el mundo, ya que este puede morir o solaparse con otros.\n",
      "        vision: entero entre 1 y 2, caracteristica intrinseca de cada agente que le permite tener mayor campo de acci\u00f3n\n",
      "        vecindad: diccionario donde se guardan los agentes vecinos con los que podr\u00eda interactuar\n",
      "        posicion_deseada: posici\u00f3n a la que el agente ir\u00e1 despues de tomar una desici\u00f3n basada en la informaci\u00f3n recopilada\n",
      "        max_azucar: azucar m\u00e1xima que puede conseguir\n",
      "    \"\"\"\n",
      "    \n",
      "    def __init__(self, id ,tipo = 1, x = 0, y = 0, vision = 1):\n",
      "        self.id = id\n",
      "        self.tipo = tipo\n",
      "        self.posicion = np.array([x,y])\n",
      "        self.existencia = False    \n",
      "        self.vision = vision\n",
      "        self.vecindad = {'azucar' : [],\n",
      "                         'vecinos' : [] } #Dicionario donde se guardaran las posiciones de los objetos cerca del agente.\n",
      "        self.posicion_deseada = np.array([-1,-1])\n",
      "        self.max_azucar = 0\n",
      "        self.azucar_deseada = 0\n",
      "        \n",
      "    def ver(self, mundo):\n",
      "        \"\"\"\n",
      "        Basado en el rango de visi\u00f3n, el agente \"ve\" sus alrededores en busca de azucar y otros agentes.\n",
      "        Los 4 if's actuan cuando el agente est\u00e1 en alguna de las orillas del mapa evitando salirnos del arreglo.\n",
      "        \"\"\"\n",
      "        if self.posicion[0] - self.vision < 0:\n",
      "            x_min = 0\n",
      "        else:\n",
      "            x_min = self.posicion[0]-self.vision\n",
      "            \n",
      "        if  self.posicion[0] + self.vision + 1 > 51:\n",
      "            x_max = 51\n",
      "        else:\n",
      "            x_max = self.posicion[0] + self.vision + 1\n",
      "            \n",
      "        if self.posicion[1] - self.vision < 0:\n",
      "            y_min = 0\n",
      "        else:\n",
      "            y_min = self.posicion[1] - self.vision\n",
      "            \n",
      "        if self.posicion[1] + self.vision + 1 > 51:\n",
      "            y_max = 51\n",
      "        else:\n",
      "            y_max =self.posicion[1] + self.vision + 1\n",
      "        print mundo[x_min : x_max , y_min : y_max]  #Linea para pruebas ELIMINAR\n",
      "        return np.array([x_min,x_max,y_min,y_max])\n",
      "\n",
      "    def explorar(self, mundo):\n",
      "        \"\"\"\n",
      "        Recorre el campo de acci\u00f3n del agente basado en su rango de visi\u00f3n\n",
      "        Identifica y guarda en un diccionario cada tipo de elemento que est\u00e9 cerca de el para despu\u00e9s tomar una desici\u00f3n.\n",
      "        Como la vecindad cambia despues de cada iteraci\u00f3n (o movimiento del agente), limpiamos el diccionario de vecindad\n",
      "        \"\"\"\n",
      "        lim = self.ver(mundo)\n",
      "        self.vecindad['vecinos'] = []\n",
      "        self.vecindad['azucar'] = []\n",
      "        for i in xrange(lim[0],lim[1]): #Renglones\n",
      "            for j in xrange(lim[2],lim[3]): #Columnas \n",
      "                if mundo[i,j] == 1 and (i != self.posicion[0] or j != self.posicion[1]): \n",
      "                    #El `and/or` es para evitar que se guarde a el mismo\n",
      "                    self.vecindad['vecinos'].append(np.array([i,j]))\n",
      "                elif mundo[i,j] == 2:\n",
      "                    self.vecindad['azucar'].append(np.array([i,j]))\n",
      "                #Si es necesario podemos agregar m\u00e1s tipos de agentes o otro tipo de recurso.    \n",
      "                    \n",
      "    def decidir(self, mundo, lista_azucares): \n",
      "        \"\"\"\n",
      "        Dado el campo de acci\u00f3n del agente y sus vecinos, el agente decide cual es la posici\u00f3n \u00f3ptima a cual se deber\u00e1 mover.\n",
      "        La desici\u00f3n que tome ser\u00e1 la que le d\u00e9 mas utilidad, ya sea moverse por azucar, reproducirse, etc.\n",
      "        \"\"\"\n",
      "        self.explorar(mundo)\n",
      "        for i in xrange(len(self.vecindad['azucar'])): #Recorremos todas las azucares posibles en busca de la que tenga mayor cantidad\n",
      "            #\u00bfComo arreglar los empates?\n",
      "            for j in xrange(len(lista_azucares)):\n",
      "                if np.all(self.vecindad['azucar'][i] == lista_azucares[j].posicion) and self.max_azucar < lista_azucares[j].cantidad:\n",
      "                    #El np.all verifica que las dos posiciones sean exactamente iguales.\n",
      "                    self.max_azucar = lista_azucares[j].cantidad\n",
      "                    self.posicion_deseada = lista_azucares[j].posicion\n",
      "                    self.azucar_deseada = j\n",
      "            #Implementar reproducci\u00f3n        \n",
      "            \n",
      "    def moverse(self, mundo, lista_azucares):\n",
      "        \"\"\"\n",
      "        Como se mueven los agentes.\n",
      "        Tres tipos de movimiento:\n",
      "        1. Si no tiene una posici\u00f3n deseada, se mueve aleatoreamente a un espacio vacio\n",
      "        2. Si se quiere mover a una casilla adyacente se mueve y el azucar se apaga mientras el agente este sobre el azucar.\n",
      "        \"\"\"\n",
      "        self.decidir(mundo, lista_azucares)\n",
      "        \n",
      "        \n",
      "        if np.all(self.posicion_deseada == np.array([-1,-1])):\n",
      "            #\u00bfComo revisar espacios vacios?\n",
      "            self.posicion += np.array([randint(-1,1),randint(-1,1)])\n",
      "            \n",
      "            \n",
      "        elif numpy.linalg.norm(self.posicion-self.posicion_deseada) <= sqrt(2):\n",
      "            self.posicion = self.posicion_deseada\n",
      "            self.posicion_deseada = np.array([-1,-1])\n",
      "            lista_azucares[self.azucar_deseada].existencia = False #Esto no lo deber\u00eda de hacer el agente "
     ],
     "language": "python",
     "metadata": {},
     "outputs": [],
     "prompt_number": 3
    },
    {
     "cell_type": "code",
     "collapsed": false,
     "input": [
      "class Azucar_prueba:\n",
      "    \"\"\"Montoncitos de azucar de tama\u00f1os variables en una  posici\u00f3n especifica en una cuadricula discreta.\"\"\"\n",
      "    \n",
      "    def __init__(self, id ,tipo = 2, x = 0, y = 0, cantidad = 5):\n",
      "        self.id = id\n",
      "        self.tipo = tipo\n",
      "        self.posicion = np.array([x,y])\n",
      "        self.existencia = False #ayudar\u00e1 si se acaba la azucar\n",
      "        self.cantidad = cantidad #eventualmente esto ser\u00e1 aleatorio"
     ],
     "language": "python",
     "metadata": {},
     "outputs": [],
     "prompt_number": 4
    },
    {
     "cell_type": "code",
     "collapsed": false,
     "input": [
      "class Mundo:\n",
      "    \"\"\"\n",
      "    Un Mundo de SugarScape representado por un array de NumPy de 2D de 51x51\n",
      "    \"\"\"\n",
      "    \n",
      "    def __init__(self):\n",
      "        \"\"\"Creamos la cuadricula\"\"\"\n",
      "        self.mundo = np.zeros((51,51))\n",
      "        \n",
      "    def definirse(self, agentes):\n",
      "        \"\"\"\n",
      "        Les da existencia a los agentes en el mundo\n",
      "        Es decir, en una cuadricula (NumPy array de 2 dimensiones),\n",
      "        la funci\u00f3n coloca cada agente en las cordenadas aleatorias que tiene cada uno en self.posicion\n",
      "        Al ser colocado se dice que el agente existe\n",
      "        Si esa casilla ya esta ocupada, se buscan nuevas coordenadas aleatorias para existir hasta que se logre. \n",
      "        \"\"\"\n",
      "        for i in xrange(len(agentes)):\n",
      "            while agentes[i].existencia == False:\n",
      "                x,y = agentes[i].posicion\n",
      "                if self.mundo[x,y] == 0:\n",
      "                    self.mundo[x,y] = agentes[i].tipo\n",
      "                    agentes[i].existencia = True\n",
      "                else:\n",
      "                    agentes[i].posicion = np.array([random.randint(0,51), random.randint(0,51)]) \n",
      "    \n",
      "    def actualizar(self, agentes, azucares):\n",
      "        self.mundo = np.zeros((51,51))\n",
      "        for i in xrange(len(agentes)):\n",
      "            if agentes[i].existencia == True:\n",
      "                x,y = agentes[i].posicion\n",
      "                self.mundo[x,y] = agentes[i].tipo\n",
      "        for i in xrange(len(azucares)):\n",
      "            if azucares[i].existencia == True:\n",
      "                x,y = azucares[i].posicion\n",
      "                self.mundo[x,y] = azucares[i].tipo\n",
      "                \n",
      "    def actualizar_agentes(self, agentes, azucares, i = 0):\n",
      "        self.mundo[agentes[i].posicion[0], agentes[i].posicion[1]] = 0\n",
      "        agentes[i].moverse(self.mundo, azucares)\n",
      "        self.mundo[agentes[i].posicion[0], agentes[i].posicion[1]] = agentes[i].tipo\n",
      "        \n",
      "    def dibujarse(self):\n",
      "        plt.figure(figsize=(11,10), dpi=80)\n",
      "        pyplot.pcolor(-numpy.flipud(self.mundo))\n",
      "        plt.axis([0, 51, 0, 51])\n",
      "        plt.gray()\n",
      "        plt.colorbar() #ELIMINAR es para fines de pruebas\n",
      "#         plt.axis('off') #ELIMINAR"
     ],
     "language": "python",
     "metadata": {},
     "outputs": [],
     "prompt_number": 5
    },
    {
     "cell_type": "heading",
     "level": 2,
     "metadata": {},
     "source": [
      "Prueba"
     ]
    },
    {
     "cell_type": "markdown",
     "metadata": {},
     "source": [
      "Peque\u00f1o ejercicio con tres agentes, y dos azucares en posiciones especificas."
     ]
    },
    {
     "cell_type": "code",
     "collapsed": false,
     "input": [
      "Paolo = Agente_grid_prueba(tipo = 1 ,id = 0, x = 3 , y = 6, vision = 1)\n",
      "Manu = Agente_grid_prueba(tipo = 1, id  = 1, x = 1, y = 6, vision = 1)\n",
      "Dani = Agente_grid_prueba(tipo = 1, id = 2, x = 5, y =6, vision = 1)\n",
      "Azucar1 = Azucar_prueba(id = 0, x = 3, y = 7, cantidad = 5)\n",
      "Azucar2 = Azucar_prueba(id = 1, x = 3, y = 4, cantidad = 1)\n",
      "agentes = [Paolo, Manu, Dani]\n",
      "azucares = [Azucar1, Azucar2]\n",
      "SS = Mundo()"
     ],
     "language": "python",
     "metadata": {},
     "outputs": [],
     "prompt_number": 19
    },
    {
     "cell_type": "code",
     "collapsed": false,
     "input": [
      "SS.definirse(agentes)\n",
      "SS.definirse(azucares)\n",
      "for j in xrange(3):\n",
      "    SS.dibujarse()\n",
      "    for i in xrange(3):\n",
      "        SS.actualizar_agentes(agentes,azucares, i = i)"
     ],
     "language": "python",
     "metadata": {},
     "outputs": [
      {
       "output_type": "stream",
       "stream": "stdout",
       "text": [
        "[[ 0.  0.  0.]\n",
        " [ 0.  0.  2.]\n",
        " [ 0.  0.  0.]]\n",
        "[[ 0.  0.  0.]\n",
        " [ 0.  0.  0.]\n",
        " [ 0.  0.  0.]]\n",
        "[[ 0.  0.  0.]\n",
        " [ 0.  0.  0.]\n",
        " [ 0.  0.  0.]]\n",
        "[[ 0.  0.  0.]\n",
        " [ 0.  0.  0.]\n",
        " [ 0.  0.  0.]]"
       ]
      },
      {
       "output_type": "stream",
       "stream": "stdout",
       "text": [
        "\n",
        "[[ 0.  0.  0.]\n",
        " [ 0.  0.  0.]]\n",
        "[[ 0.  0.  0.]\n",
        " [ 0.  0.  0.]\n",
        " [ 0.  0.  0.]]\n",
        "[[ 0.  0.  0.]\n",
        " [ 0.  0.  0.]\n",
        " [ 0.  0.  0.]]"
       ]
      },
      {
       "output_type": "stream",
       "stream": "stdout",
       "text": [
        "\n",
        "[[ 0.  0.  0.]\n",
        " [ 0.  0.  0.]]\n",
        "[[ 0.  0.  0.]\n",
        " [ 0.  0.  0.]\n",
        " [ 0.  0.  0.]]\n"
       ]
      },
      {
       "metadata": {},
       "output_type": "display_data",
       "png": "[encoded data removed]",
       "text": [
        "<matplotlib.figure.Figure at 0x7f85ea0f7b50>"
       ]
      },
      {
       "metadata": {},
       "output_type": "display_data",
       "png": "[encoded data removed]",
       "text": [
        "<matplotlib.figure.Figure at 0x7f85ea0a2fd0>"
       ]
      },
      {
       "metadata": {},
       "output_type": "display_data",
       "png": "[encoded data removed]",
       "text": [
        "<matplotlib.figure.Figure at 0x7f85ea3a15d0>"
       ]
      }
     ],
     "prompt_number": 20
    },
    {
     "cell_type": "code",
     "collapsed": false,
     "input": [
      "print Paolo.posicion\n",
      "print Paolo.posicion_deseada\n",
      "print Paolo.vecindad\n",
      "print Paolo.ver(SS.mundo)\n",
      "Paolo.moverse(SS.mundo, azucares)"
     ],
     "language": "python",
     "metadata": {},
     "outputs": [
      {
       "output_type": "stream",
       "stream": "stdout",
       "text": [
        "[3 6]\n",
        "[-1 -1]\n",
        "{'azucar': [], 'vecinos': []}\n",
        "[[ 0.  0.  0.  0.  0.]\n",
        " [ 0.  0.  0.  0.  0.]\n",
        " [ 0.  0.  0.  0.  0.]\n",
        " [ 0.  0.  0.  0.  0.]\n",
        " [ 0.  0.  0.  0.  0.]]\n",
        "[1 6 4 9]\n",
        "[[ 0.  0.  0.  0.  0.]\n",
        " [ 0.  0.  0.  0.  0.]\n",
        " [ 0.  0.  0.  0.  0.]\n",
        " [ 0.  0.  0.  0.  0.]\n",
        " [ 0.  0.  0.  0.  0.]]\n"
       ]
      }
     ],
     "prompt_number": 82
    },
    {
     "cell_type": "code",
     "collapsed": false,
     "input": [
      "print Paolo.posicion\n",
      "print Paolo.posicion_deseada\n",
      "print Paolo.vecindad"
     ],
     "language": "python",
     "metadata": {},
     "outputs": [
      {
       "output_type": "stream",
       "stream": "stdout",
       "text": [
        "[3 5]\n",
        "[-1 -1]\n",
        "{'azucar': [], 'vecinos': []}\n"
       ]
      }
     ],
     "prompt_number": 59
    },
    {
     "cell_type": "code",
     "collapsed": false,
     "input": [],
     "language": "python",
     "metadata": {},
     "outputs": []
    }
   ],
   "metadata": {}
  }
 ]
}