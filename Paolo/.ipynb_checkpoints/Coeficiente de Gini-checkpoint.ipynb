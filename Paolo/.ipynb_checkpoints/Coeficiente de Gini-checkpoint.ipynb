{
 "metadata": {
  "name": "",
  "signature": "sha256:29587e7080c9a7c930db43da162e9889603a6143186036f5cc7136f83bab5bd6"
 },
 "nbformat": 3,
 "nbformat_minor": 0,
 "worksheets": []
}