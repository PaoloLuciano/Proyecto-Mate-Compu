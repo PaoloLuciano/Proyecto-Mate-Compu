{
 "metadata": {
  "name": "",
  "signature": "sha256:a452655413ce25371a0d65088ff9e1ef09b0649093120fd3cb76333cc8ab4702"
 },
 "nbformat": 3,
 "nbformat_minor": 0,
 "worksheets": [
  {
   "cells": [
    {
     "cell_type": "heading",
     "level": 1,
     "metadata": {},
     "source": [
      "Coeficiente de Gini"
     ]
    },
    {
     "cell_type": "code",
     "collapsed": false,
     "input": [
      "%pylab inline\n",
      "import numpy as np\n",
      "import matplotlib.pyplot as plt"
     ],
     "language": "python",
     "metadata": {},
     "outputs": [
      {
       "output_type": "stream",
       "stream": "stdout",
       "text": [
        "Populating the interactive namespace from numpy and matplotlib\n"
       ]
      }
     ],
     "prompt_number": 2
    },
    {
     "cell_type": "code",
     "collapsed": false,
     "input": [
      "def lorenz(incomes):\n",
      "    n = len(incomes)\n",
      "    c = sort(incomes)\n",
      "    c = cumsum(c)\n",
      "    c = np.insert(c,[0],0)\n",
      "    points = np.zeros([n+1,2])\n",
      "    for i in xrange(n+1):\n",
      "        points[i,0] = 100*(i+0.0)/n\n",
      "        points[i,1] = 100*(c[i]+0.0)/c[n]\n",
      "    return points\n",
      "\n",
      "def gini(incomes):\n",
      "    n = len(incomes)\n",
      "    S = sum(lorenz(incomes)[:,1])\n",
      "    return  (100 + (100 - 2*S)/(n + 0.0))   "
     ],
     "language": "python",
     "metadata": {},
     "outputs": [],
     "prompt_number": 69
    },
    {
     "cell_type": "code",
     "collapsed": false,
     "input": [
      "incomes_1 = [0,0,0,0,0,0,0,0,100]\n",
      "Points = lorenz(incomes_1)\n",
      "X = Points[:,0]\n",
      "Y = Points[:,1]"
     ],
     "language": "python",
     "metadata": {},
     "outputs": [],
     "prompt_number": 87
    },
    {
     "cell_type": "code",
     "collapsed": false,
     "input": [
      "plt.figure(figsize(10,10), dpi = 80);\n",
      "fig = plt.figure();\n",
      "sub = fig.add_subplot(1, 1, 1);\n",
      "\n",
      "grid(True, color = 'b' ,  linestyle = '-', linewidth = .3);\n",
      "\n",
      "plt.xlim = (0,100)\n",
      "plt.ylim = (0,100)\n",
      "\n",
      "plt.plot([0,100],[0,100], color = \"orange\", lw=4)\n",
      "plt.plot([0,100],[0,0], color = \"red\", lw=5)\n",
      "plt.plot([100,100],[0,100], color = \"red\", lw=5)\n",
      "plt.plot(X,Y, label = r\"Lorenz Curve\", color = \"blue\", lw = 2 )\n",
      "\n",
      "# plt.title('Lorenz Curve and Gini Coefficicient',fontsize=20)\n",
      "plt.legend(loc='upper left', fontsize = 18 , frameon = False);\n",
      "plt.text(10.6, 90, r' Gini $=$ $%s$' % (gini(incomes_1)) , fontsize = 19)\n",
      "plt.ylabel(\"% of Population\", fontsize = 'xx-large');\n",
      "plt.xlabel(\"% of Income\", fontsize = 'xx-large');"
     ],
     "language": "python",
     "metadata": {},
     "outputs": [
      {
       "metadata": {},
       "output_type": "display_data",
       "text": [
        "<matplotlib.figure.Figure at 0x7fd56a285210>"
       ]
      },
      {
       "metadata": {},
       "output_type": "display_data",
       "png": "[encoded data removed]",
       "text": [
        "<matplotlib.figure.Figure at 0x7fd56a285890>"
       ]
      }
     ],
     "prompt_number": 88
    },
    {
     "cell_type": "code",
     "collapsed": false,
     "input": [
      "linspace(0,100,11)"
     ],
     "language": "python",
     "metadata": {},
     "outputs": [
      {
       "metadata": {},
       "output_type": "pyout",
       "prompt_number": 23,
       "text": [
        "array([   0.,   10.,   20.,   30.,   40.,   50.,   60.,   70.,   80.,\n",
        "         90.,  100.])"
       ]
      }
     ],
     "prompt_number": 23
    },
    {
     "cell_type": "code",
     "collapsed": false,
     "input": [],
     "language": "python",
     "metadata": {},
     "outputs": []
    }
   ],
   "metadata": {}
  }
 ]
}