{
 "metadata": {
  "name": "",
  "signature": "sha256:29119a3a756807e40470ada171946e622ec52fb1739394a6deccc914cc7d6638"
 },
 "nbformat": 3,
 "nbformat_minor": 0,
 "worksheets": [
  {
   "cells": [
    {
     "cell_type": "heading",
     "level": 1,
     "metadata": {},
     "source": [
      "Prueba 1"
     ]
    },
    {
     "cell_type": "markdown",
     "metadata": {},
     "source": [
      "Aqui ire haciendo pruebas y cambios que se me ocurran. Es como para hacer experimentos a ver si funciona."
     ]
    },
    {
     "cell_type": "code",
     "collapsed": false,
     "input": [
      "%pylab inline\n",
      "import numpy as np\n",
      "import matplotlib.pyplot as plt\n",
      "from random import randint"
     ],
     "language": "python",
     "metadata": {},
     "outputs": [
      {
       "output_type": "stream",
       "stream": "stdout",
       "text": [
        "Populating the interactive namespace from numpy and matplotlib\n"
       ]
      }
     ],
     "prompt_number": 1
    },
    {
     "cell_type": "code",
     "collapsed": false,
     "input": [
      "class Agente_grid:\n",
      "    \"\"\"Agente con una posici\u00f3n especifica (aleatoria) en una cuadricula discreta\"\"\"\n",
      "    \n",
      "    def __init__(self, tipo = 1, vision = 1):\n",
      "        self.tipo = tipo\n",
      "        self.posicion = np.array([random.randint(0,50), random.randint(0,50)])\n",
      "        self.existencia = False    \n",
      "        self.vision = vision\n",
      "        \n",
      "    def explorar(self, mundo):\n",
      "        if self.posicion[0]-self.vision < 0 or self.posicion[0]+self.vision > 51 or self.posicion[1]-self.vision < 0 or self.posicion[1]+self.vision > 51:\n",
      "            return \"Llora\"\n",
      "        else:\n",
      "            return mundo[self.posicion[0]-self.vision :self.posicion[0]+self.vision+1  ,\n",
      "                     self.posicion[1]-self.vision :self.posicion[1]+self.vision+1  ]"
     ],
     "language": "python",
     "metadata": {},
     "outputs": [],
     "prompt_number": 39
    },
    {
     "cell_type": "code",
     "collapsed": false,
     "input": [
      "class Agente_grid_prueba:\n",
      "    \"\"\"Agente con una posici\u00f3n especifica (definida por el usuario) en una cuadricula discreta\"\"\"\n",
      "    \n",
      "    def __init__(self, tipo = 1,  x = 0, y = 0, vision = 1):\n",
      "        self.tipo = tipo\n",
      "        self.posicion = np.array([x,y])\n",
      "        self.existencia = False    \n",
      "        self.vision = vision\n",
      "        \n",
      "    def explorar(self, mundo):\n",
      "        if self.posicion[0]-self.vision < 0 or self.posicion[0]+self.vision > 51 or self.posicion[1]-self.vision < 0 or self.posicion[1]+self.vision > 51:\n",
      "            return \"Llora\"\n",
      "        else:\n",
      "            return mundo[self.posicion[0]-self.vision :self.posicion[0]+self.vision+1  ,\n",
      "                     self.posicion[1]-self.vision :self.posicion[1]+self.vision+1  ]"
     ],
     "language": "python",
     "metadata": {},
     "outputs": [],
     "prompt_number": 38
    },
    {
     "cell_type": "code",
     "collapsed": false,
     "input": [
      "Paolo = Agente_grid_prueba(tipo = 1 )"
     ],
     "language": "python",
     "metadata": {},
     "outputs": [],
     "prompt_number": 40
    },
    {
     "cell_type": "code",
     "collapsed": false,
     "input": [
      "mundo = np.zeros((51,51))\n",
      "\n",
      "agentes = [Paolo]\n",
      "agentes.extend(Agente_grid(tipo = 1) for i in range(99)) \n",
      "agentes.extend(Agente_grid(tipo = 2) for i in range(100))\n",
      "len(agentes)"
     ],
     "language": "python",
     "metadata": {},
     "outputs": [
      {
       "metadata": {},
       "output_type": "pyout",
       "prompt_number": 41,
       "text": [
        "200"
       ]
      }
     ],
     "prompt_number": 41
    },
    {
     "cell_type": "code",
     "collapsed": false,
     "input": [
      "def definirse(mundo, agentes):\n",
      "    \"\"\"Les da existencia a los agentes en el mundo\n",
      "    Es decir, en una cuadricula (NumPy array de 2 dimensiones),\n",
      "    la funci\u00f3n coloca cada agente en las cordenadas aleatorias que tiene cada uno en self.posicion\n",
      "    Al ser colocado se dice que el agente existe\n",
      "    Si esa casilla ya esta ocupada, se buscan nuevas coordenadas aleatorias para existir hasta que se logre. \n",
      "    \"\"\"\n",
      "    \n",
      "    for i in range(len(agentes)):\n",
      "        while agentes[i].existencia == False:\n",
      "            x,y = agentes[i].posicion\n",
      "            if mundo[x,y] == 0:\n",
      "                mundo[x,y] = agentes[i].tipo\n",
      "                agentes[i].existencia = True\n",
      "            else:\n",
      "                agentes[i].posicion = np.array([random.randint(0,50), random.randint(0,50)])"
     ],
     "language": "python",
     "metadata": {},
     "outputs": [],
     "prompt_number": 42
    },
    {
     "cell_type": "code",
     "collapsed": false,
     "input": [
      "definirse(mundo, agentes)"
     ],
     "language": "python",
     "metadata": {},
     "outputs": [],
     "prompt_number": 43
    },
    {
     "cell_type": "code",
     "collapsed": false,
     "input": [
      "agentes[0].posicion"
     ],
     "language": "python",
     "metadata": {},
     "outputs": [
      {
       "metadata": {},
       "output_type": "pyout",
       "prompt_number": 44,
       "text": [
        "array([0, 0])"
       ]
      }
     ],
     "prompt_number": 44
    },
    {
     "cell_type": "code",
     "collapsed": false,
     "input": [
      "plt.figure(figsize=(11,10), dpi=80)\n",
      "rows, cols = mundo.shape\n",
      "pyplot.pcolor(-numpy.flipud(mundo))\n",
      "plt.axis([0, cols, 0, rows])\n",
      "plt.gray()\n",
      "plt.colorbar()\n",
      "plt.axis('off')"
     ],
     "language": "python",
     "metadata": {},
     "outputs": [
      {
       "metadata": {},
       "output_type": "pyout",
       "prompt_number": 45,
       "text": [
        "(0.0, 51.0, 0.0, 51.0)"
       ]
      },
      {
       "metadata": {},
       "output_type": "display_data",
       "png": "[encoded data removed]",
       "text": [
        "<matplotlib.figure.Figure at 0x7fa008b76cd0>"
       ]
      }
     ],
     "prompt_number": 45
    },
    {
     "cell_type": "code",
     "collapsed": false,
     "input": [
      "print agentes[0].posicion\n",
      "agentes[0].explorar(mundo)"
     ],
     "language": "python",
     "metadata": {},
     "outputs": [
      {
       "output_type": "stream",
       "stream": "stdout",
       "text": [
        "[0 0]\n"
       ]
      },
      {
       "metadata": {},
       "output_type": "pyout",
       "prompt_number": 46,
       "text": [
        "'Llora'"
       ]
      }
     ],
     "prompt_number": 46
    }
   ],
   "metadata": {}
  }
 ]
}