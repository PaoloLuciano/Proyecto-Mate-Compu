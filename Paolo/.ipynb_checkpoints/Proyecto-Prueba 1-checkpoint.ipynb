{
 "metadata": {
  "name": "",
  "signature": "sha256:91f7f4781e5dc39a99fb0d30463dda197970b52d5e5ce9266825935e562ddf19"
 },
 "nbformat": 3,
 "nbformat_minor": 0,
 "worksheets": [
  {
   "cells": [
    {
     "cell_type": "heading",
     "level": 1,
     "metadata": {},
     "source": [
      "Prueba 1"
     ]
    },
    {
     "cell_type": "markdown",
     "metadata": {},
     "source": [
      "Aqui ire haciendo pruebas y cambios que se me ocurran. Es como para hacer experimentos a ver si funciona."
     ]
    },
    {
     "cell_type": "code",
     "collapsed": false,
     "input": [
      "%pylab inline\n",
      "import numpy as np\n",
      "import matplotlib.pyplot as plt\n",
      "from random import randint"
     ],
     "language": "python",
     "metadata": {},
     "outputs": [
      {
       "output_type": "stream",
       "stream": "stdout",
       "text": [
        "Populating the interactive namespace from numpy and matplotlib\n"
       ]
      }
     ],
     "prompt_number": 1
    },
    {
     "cell_type": "code",
     "collapsed": false,
     "input": [
      "class Agente_grid:\n",
      "    \"\"\"Agente con una posici\u00f3n especifica en una cuadricula discreta\"\"\"\n",
      "    \n",
      "    def __init__(self, tipo = 1, vision = 1):\n",
      "        self.tipo = tipo\n",
      "        self.posicion = np.array([random.randint(0,50), random.randint(0,50)])\n",
      "        self.existencia = False    \n",
      "        self.vision = vision\n",
      "        \n",
      "    def explorar(self, mundo):\n",
      "        return mundo[self.posicion[0]-self.vision :self.posicion[0]+self.vision+1  ,\n",
      "                     self.posicion[1]-self.vision :self.posicion[1]+self.vision+1  ]"
     ],
     "language": "python",
     "metadata": {},
     "outputs": [],
     "prompt_number": 2
    },
    {
     "cell_type": "code",
     "collapsed": false,
     "input": [
      "mundo = np.zeros((51,51))\n",
      "\n",
      "agentes = [Agente_grid(tipo = 1) for i in range(100)]\n",
      "agentes.extend(Agente_grid(tipo = 2) for i in range(100))\n",
      "len(agentes)"
     ],
     "language": "python",
     "metadata": {},
     "outputs": [
      {
       "metadata": {},
       "output_type": "pyout",
       "prompt_number": 3,
       "text": [
        "200"
       ]
      }
     ],
     "prompt_number": 3
    },
    {
     "cell_type": "code",
     "collapsed": false,
     "input": [
      "def definirse(mundo, agentes):\n",
      "    \"\"\"Les da existencia a los agentes en el mundo\n",
      "    Es decir, en una cuadricula (NumPy array de 2 dimensiones),\n",
      "    la funci\u00f3n coloca cada agente en las cordenadas aleatorias que tiene cada uno en self.posicion\n",
      "    Al ser colocado se dice que el agente existe\n",
      "    Si esa casilla ya esta ocupada, se buscan nuevas coordenadas aleatorias para existir hasta que se logre. \n",
      "    \"\"\"\n",
      "    \n",
      "    for i in range(len(agentes)):\n",
      "        while agentes[i].existencia == False:\n",
      "            x,y = agentes[i].posicion\n",
      "            if mundo[x,y] == 0:\n",
      "                mundo[x,y] = agentes[i].tipo\n",
      "                agentes[i].existencia = True\n",
      "            else:\n",
      "                agentes[i].posicion = np.array([random.randint(0,50), random.randint(0,50)])"
     ],
     "language": "python",
     "metadata": {},
     "outputs": [],
     "prompt_number": 4
    },
    {
     "cell_type": "code",
     "collapsed": false,
     "input": [
      "definirse(mundo, agentes)"
     ],
     "language": "python",
     "metadata": {},
     "outputs": [],
     "prompt_number": 5
    },
    {
     "cell_type": "code",
     "collapsed": false,
     "input": [
      "agentes[0].posicion"
     ],
     "language": "python",
     "metadata": {},
     "outputs": [
      {
       "metadata": {},
       "output_type": "pyout",
       "prompt_number": 6,
       "text": [
        "array([43, 10])"
       ]
      }
     ],
     "prompt_number": 6
    },
    {
     "cell_type": "code",
     "collapsed": false,
     "input": [
      "agentes[0].explorar(mundo)"
     ],
     "language": "python",
     "metadata": {},
     "outputs": [
      {
       "metadata": {},
       "output_type": "pyout",
       "prompt_number": 7,
       "text": [
        "array([[ 0.,  0.,  0.],\n",
        "       [ 0.,  1.,  0.],\n",
        "       [ 0.,  0.,  0.]])"
       ]
      }
     ],
     "prompt_number": 7
    },
    {
     "cell_type": "code",
     "collapsed": false,
     "input": [
      "plt.figure(figsize=(11,10), dpi=80)\n",
      "rows, cols = mundo.shape\n",
      "pyplot.pcolor(-numpy.flipud(mundo))\n",
      "plt.axis([0, cols, 0, rows])\n",
      "plt.gray()\n",
      "plt.colorbar()\n",
      "plt.axis('off')"
     ],
     "language": "python",
     "metadata": {},
     "outputs": [
      {
       "metadata": {},
       "output_type": "pyout",
       "prompt_number": 8,
       "text": [
        "(0.0, 51.0, 0.0, 51.0)"
       ]
      },
      {
       "metadata": {},
       "output_type": "display_data",
       "png": "[encoded data removed]",
       "text": [
        "<matplotlib.figure.Figure at 0x7f5d3ef436d0>"
       ]
      }
     ],
     "prompt_number": 8
    }
   ],
   "metadata": {}
  }
 ]
}