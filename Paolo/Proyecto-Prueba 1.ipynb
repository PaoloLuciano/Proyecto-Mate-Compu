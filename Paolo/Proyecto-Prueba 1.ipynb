{
 "metadata": {
  "name": "",
  "signature": "sha256:85ea86ebce283c8447f2e09171d2ea13fc542c31c4eff6320693d35aff1f7b50"
 },
 "nbformat": 3,
 "nbformat_minor": 0,
 "worksheets": [
  {
   "cells": [
    {
     "cell_type": "heading",
     "level": 1,
     "metadata": {},
     "source": [
      "Prueba 1"
     ]
    },
    {
     "cell_type": "markdown",
     "metadata": {},
     "source": [
      "Aqui ire haciendo pruebas y cambios que se me ocurran. Es como para hacer experimentos a ver si funciona."
     ]
    },
    {
     "cell_type": "code",
     "collapsed": false,
     "input": [
      "%pylab inline\n",
      "import numpy as np\n",
      "import matplotlib.pyplot as plt\n",
      "from random import randint"
     ],
     "language": "python",
     "metadata": {},
     "outputs": [
      {
       "output_type": "stream",
       "stream": "stdout",
       "text": [
        "Populating the interactive namespace from numpy and matplotlib\n"
       ]
      }
     ],
     "prompt_number": 1
    },
    {
     "cell_type": "code",
     "collapsed": false,
     "input": [
      "class Agente_grid:\n",
      "    \"\"\"Agente con una posici\u00f3n especifica (aleatoria) en una cuadricula discreta\"\"\"\n",
      "    \n",
      "    def __init__(self, id ,tipo = 1):\n",
      "        self.id = id\n",
      "        self.tipo = tipo\n",
      "        self.posicion = np.array([random.randint(0,51), random.randint(0,51)])\n",
      "        self.existencia = False    \n",
      "        self.vision = random.randint(1,3)\n",
      "        \n",
      "    def explorar(self, mundo):\n",
      "        \"\"\"\n",
      "        Basado en el rango de visi\u00f3n, el agente explora sus alrededores en busca de azucar.\n",
      "        Los 4 if's actuan cuando el agente est\u00e1 en alguna de las orillas del mapa evitando salirnos del arreglo.\n",
      "        \"\"\"\n",
      "        if self.posicion[0] - self.vision < 0:\n",
      "            aux_1 = 0\n",
      "        else:\n",
      "            aux_1 = self.posicion[0]-self.vision\n",
      "            \n",
      "        if  self.posicion[0] + self.vision + 1 > 51:\n",
      "            aux_2 = 51\n",
      "        else:\n",
      "            aux_2 = self.posicion[0] + self.vision + 1\n",
      "            \n",
      "        if self.posicion[1] - self.vision < 0:\n",
      "            aux_3 = 0\n",
      "        else:\n",
      "            aux_3 = self.posicion[1] - self.vision\n",
      "            \n",
      "        if self.posicion[1] + self.vision + 1 > 51:\n",
      "            aux_4 = 51\n",
      "        else:\n",
      "            aux_4 =self.posicion[1] + self.vision + 1\n",
      "#         return mundo[aux_1 : aux_2 , aux_3 : aux_4]\n",
      "        return ()\n",
      "    \n",
      "    def decidir(self, mundo):\n",
      "        \"\"\"\n",
      "        Recorre el campo de acci\u00f3n del agente buscando azucar (agentes tipo 2).\n",
      "        Despu\u00e9s decide cual de ellas es la mejor opci\u00f3n (basado en cercan\u00eda y cantidad)\n",
      "        \"\"\"\n",
      "        campo_accion = self.explorar(mundo)\n",
      "        for i in xrange(campo_accion.shape[0]): #Renglones\n",
      "            for j in xrange(campo_accion.shape[1]): #Columnas \n",
      "                if campo_accion[i,j] == 2:\n",
      "                    \n",
      "                    \n",
      "        \n",
      "        "
     ],
     "language": "python",
     "metadata": {},
     "outputs": [
      {
       "ename": "IndentationError",
       "evalue": "expected an indented block (<ipython-input-92-3d1409688604>, line 49)",
       "output_type": "pyerr",
       "traceback": [
        "\u001b[1;36m  File \u001b[1;32m\"<ipython-input-92-3d1409688604>\"\u001b[1;36m, line \u001b[1;32m49\u001b[0m\n\u001b[1;33m    \u001b[0m\n\u001b[1;37m    ^\u001b[0m\n\u001b[1;31mIndentationError\u001b[0m\u001b[1;31m:\u001b[0m expected an indented block\n"
       ]
      }
     ],
     "prompt_number": 92
    },
    {
     "cell_type": "code",
     "collapsed": false,
     "input": [
      "campo_accion = Paolo.explorar(mundo)\n",
      "campo_accion.shape[0]\n"
     ],
     "language": "python",
     "metadata": {},
     "outputs": [
      {
       "metadata": {},
       "output_type": "pyout",
       "prompt_number": 90,
       "text": [
        "5"
       ]
      }
     ],
     "prompt_number": 90
    },
    {
     "cell_type": "code",
     "collapsed": false,
     "input": [
      "class Agente_grid_prueba:\n",
      "    \"\"\"Agente con una posici\u00f3n especifica (definida por el usuario) en una cuadricula discreta\"\"\"\n",
      "    \n",
      "    def __init__(self, id ,tipo = 1, x = 0, y = 0, vision = 1):\n",
      "        self.id = id\n",
      "        self.tipo = tipo\n",
      "        self.posicion = np.array([x,y])\n",
      "        self.existencia = False    \n",
      "        self.vision = vision\n",
      "        \n",
      "    def explorar(self, mundo):\n",
      "        \n",
      "        if self.posicion[0] - self.vision < 0:\n",
      "            aux_1 = 0\n",
      "        else:\n",
      "            aux_1 = self.posicion[0]-self.vision\n",
      "            \n",
      "        if  self.posicion[0] + self.vision + 1 > 51:\n",
      "            aux_2 = 51\n",
      "        else:\n",
      "            aux_2 = self.posicion[0] + self.vision + 1\n",
      "            \n",
      "        if self.posicion[1] - self.vision < 0:\n",
      "            aux_3 = 0\n",
      "        else:\n",
      "            aux_3 = self.posicion[1] - self.vision\n",
      "            \n",
      "        if self.posicion[1] + self.vision + 1 > 51:\n",
      "            aux_4 = 51\n",
      "        else:\n",
      "            aux_4 =self.posicion[1] + self.vision + 1\n",
      "            \n",
      "        return mundo[aux_1 : aux_2 , aux_3 : aux_4]"
     ],
     "language": "python",
     "metadata": {},
     "outputs": [],
     "prompt_number": 41
    },
    {
     "cell_type": "code",
     "collapsed": false,
     "input": [
      "def definirse(mundo, agentes):\n",
      "    \"\"\"Les da existencia a los agentes en el mundo\n",
      "    Es decir, en una cuadricula (NumPy array de 2 dimensiones),\n",
      "    la funci\u00f3n coloca cada agente en las cordenadas aleatorias que tiene cada uno en self.posicion\n",
      "    Al ser colocado se dice que el agente existe\n",
      "    Si esa casilla ya esta ocupada, se buscan nuevas coordenadas aleatorias para existir hasta que se logre. \n",
      "    \"\"\"\n",
      "    \n",
      "    for i in range(len(agentes)):\n",
      "        while agentes[i].existencia == False:\n",
      "            x,y = agentes[i].posicion\n",
      "            if mundo[x,y] == 0:\n",
      "                mundo[x,y] = agentes[i].tipo\n",
      "                agentes[i].existencia = True\n",
      "            else:\n",
      "                agentes[i].posicion = np.array([random.randint(0,50), random.randint(0,50)])"
     ],
     "language": "python",
     "metadata": {},
     "outputs": [],
     "prompt_number": 42
    },
    {
     "cell_type": "code",
     "collapsed": false,
     "input": [
      "class Mundo:\n",
      "    \"\"\"\n",
      "    Un Mundo de SugarScape representado por un array de NumPy de 2D de 51x51\n",
      "    \"\"\"\n",
      "    \n",
      "    def __init__(self):\n",
      "        \"\"\"Creamos la cuadricula\"\"\"\n",
      "        self.mundo = np.zeros((51,51))\n",
      "        \n",
      "    def definirse(self, agentes):\n",
      "    \"\"\"Les da existencia a los agentes en el mundo\n",
      "    Es decir, en una cuadricula (NumPy array de 2 dimensiones),\n",
      "    la funci\u00f3n coloca cada agente en las cordenadas aleatorias que tiene cada uno en self.posicion\n",
      "    Al ser colocado se dice que el agente existe\n",
      "    Si esa casilla ya esta ocupada, se buscan nuevas coordenadas aleatorias para existir hasta que se logre. \n",
      "    \"\"\"\n",
      "    \n",
      "    for i in range(len(agentes)):\n",
      "        while agentes[i].existencia == False:\n",
      "            x,y = agentes[i].posicion\n",
      "            if self.mundo[x,y] == 0:\n",
      "                self.mundo[x,y] = agentes[i].tipo\n",
      "                agentes[i].existencia = True\n",
      "            else:\n",
      "                agentes[i].posicion = np.array([random.randint(0,50), random.randint(0,50)]) \n",
      "            \n",
      "    def dibujarse(self):\n",
      "        plt.figure(figsize=(11,10), dpi=80)\n",
      "        pyplot.pcolor(-numpy.flipud(mundo))\n",
      "        plt.axis([0, cols, 0, rows])\n",
      "        plt.gray()\n",
      "        plt.colorbar() #ELIMINAR\n",
      "#         plt.axis('off') #ELIMINAR"
     ],
     "language": "python",
     "metadata": {},
     "outputs": []
    },
    {
     "cell_type": "code",
     "collapsed": false,
     "input": [
      "Paolo = Agente_grid_prueba(tipo = 1 ,id = 0, x = 45 , y= 50, vision = 2)"
     ],
     "language": "python",
     "metadata": {},
     "outputs": [],
     "prompt_number": 75
    },
    {
     "cell_type": "code",
     "collapsed": false,
     "input": [
      "mundo = np.zeros((51,51))\n",
      "\n",
      "agentes = [Paolo]\n",
      "agentes.extend(Agente_grid(tipo = 1, id = i+1) for i in range(99)) \n",
      "agentes.extend(Agente_grid(tipo = 2, id = 100 + i) for i in range(100))\n",
      "definirse(mundo, agentes)"
     ],
     "language": "python",
     "metadata": {},
     "outputs": [],
     "prompt_number": 76
    },
    {
     "cell_type": "code",
     "collapsed": false,
     "input": [
      "plt.figure(figsize=(11,10), dpi=80)\n",
      "rows, cols = mundo.shape\n",
      "pyplot.pcolor(-numpy.flipud(mundo))\n",
      "plt.axis([0, cols, 0, rows])\n",
      "plt.gray()\n",
      "plt.colorbar()\n",
      "plt.axis('off')"
     ],
     "language": "python",
     "metadata": {},
     "outputs": [
      {
       "metadata": {},
       "output_type": "pyout",
       "prompt_number": 77,
       "text": [
        "(0.0, 51.0, 0.0, 51.0)"
       ]
      },
      {
       "metadata": {},
       "output_type": "display_data",
       "png": "[encoded data removed]",
       "text": [
        "<matplotlib.figure.Figure at 0x7f0070e96b90>"
       ]
      }
     ],
     "prompt_number": 77
    },
    {
     "cell_type": "code",
     "collapsed": false,
     "input": [],
     "language": "python",
     "metadata": {},
     "outputs": []
    }
   ],
   "metadata": {}
  }
 ]
}