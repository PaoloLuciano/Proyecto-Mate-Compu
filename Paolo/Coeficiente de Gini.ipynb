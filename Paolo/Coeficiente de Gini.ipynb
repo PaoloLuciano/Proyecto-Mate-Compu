{
 "metadata": {
  "name": "",
  "signature": "sha256:64aa79dfdfc349c64e3ae55d9858d25c9915dc71de1665d80c880c6d0f2acf4f"
 },
 "nbformat": 3,
 "nbformat_minor": 0,
 "worksheets": [
  {
   "cells": [
    {
     "cell_type": "heading",
     "level": 1,
     "metadata": {},
     "source": [
      "Coeficiente de Gini"
     ]
    },
    {
     "cell_type": "code",
     "collapsed": false,
     "input": [
      "%pylab inline\n",
      "import numpy as np\n",
      "import matplotlib.pyplot as plt"
     ],
     "language": "python",
     "metadata": {},
     "outputs": [
      {
       "output_type": "stream",
       "stream": "stdout",
       "text": [
        "Populating the interactive namespace from numpy and matplotlib\n"
       ]
      }
     ],
     "prompt_number": 2
    },
    {
     "cell_type": "code",
     "collapsed": false,
     "input": [
      "def lorenz(incomes):\n",
      "    n = len(incomes)\n",
      "    c = sort(incomes)\n",
      "    c = cumsum(c)\n",
      "    c = np.insert(c,[0],0)\n",
      "    points = np.zeros([n+1,2])\n",
      "    for i in xrange(n+1):\n",
      "        points[i,0] = 100*(i+0.0)/n\n",
      "        points[i,1] = 100*(c[i]+0.0)/c[n]\n",
      "    return points\n",
      "\n",
      "def gini(incomes):\n",
      "    n = len(incomes)\n",
      "    S = sum(lorenz(incomes)[:,1])\n",
      "    return  (100 + (100 - 2*S)/(n + 0.0))   "
     ],
     "language": "python",
     "metadata": {},
     "outputs": [],
     "prompt_number": 102
    },
    {
     "cell_type": "code",
     "collapsed": false,
     "input": [
      "incomes_1 = [10,10,10,10,10]\n",
      "gini(incomes_1)\n"
     ],
     "language": "python",
     "metadata": {},
     "outputs": [
      {
       "metadata": {},
       "output_type": "pyout",
       "prompt_number": 106,
       "text": [
        "0.0"
       ]
      }
     ],
     "prompt_number": 106
    },
    {
     "cell_type": "code",
     "collapsed": false,
     "input": [],
     "language": "python",
     "metadata": {},
     "outputs": []
    }
   ],
   "metadata": {}
  }
 ]
}